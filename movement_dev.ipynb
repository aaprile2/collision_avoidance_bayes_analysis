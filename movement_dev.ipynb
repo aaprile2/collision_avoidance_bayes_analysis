{
 "cells": [
  {
   "cell_type": "code",
   "execution_count": 18,
   "metadata": {},
   "outputs": [],
   "source": [
    "from jyro.simulator import (Canvas, Physics, Pioneer, Pioneer16Sonars, PioneerFrontLightSensors,\n",
    "                            Camera, Simulator, VSimulator, DepthCamera, MyroIR, Color, SequenceViewer)\n",
    "import numpy as np\n",
    "from math import pi\n",
    "from random import random\n",
    "import random\n",
    "import matplotlib.pyplot as plt\n",
    "from IPython.display import display, clear_output"
   ]
  },
  {
   "cell_type": "markdown",
   "metadata": {},
   "source": [
    "## Map definition"
   ]
  },
  {
   "cell_type": "code",
   "execution_count": 19,
   "metadata": {},
   "outputs": [
    {
     "data": {
      "text/plain": [
       "<matplotlib.image.AxesImage at 0x10f5bc710>"
      ]
     },
     "execution_count": 19,
     "metadata": {},
     "output_type": "execute_result"
    },
    {
     "data": {
      "image/png": "[encoded data removed]",
      "text/plain": [
       "<Figure size 640x480 with 1 Axes>"
      ]
     },
     "metadata": {},
     "output_type": "display_data"
    }
   ],
   "source": [
    "map =[[1, 0, 1, 0, 0, 0, 0, 0, 1, 0, 0, 0, 0, 0, 0, 0, 0, 0, 0, 0, 0, 0, 0, 0, 0],\n",
    "      [0, 0, 1, 0, 0, 1, 0, 0, 1, 0, 0, 0, 0, 0, 0, 0, 0, 1, 1, 1, 1, 0, 0, 0, 0],\n",
    "      [0, 1, 1, 0, 0, 1, 0, 1, 1, 1, 1, 1, 1, 1, 1, 0, 0, 0, 0, 0, 1, 0, 1, 0, 0],\n",
    "      [0, 0, 1, 0, 0, 0, 0, 1, 1, 0, 0, 0, 1, 0, 0, 0, 0, 1, 1, 1, 1, 0, 0, 1, 0],\n",
    "      [0, 0, 1, 1, 0, 0, 0, 0, 1, 0, 0, 0, 1, 0, 0, 1, 0, 0, 0, 0, 0, 0, 0, 1, 0],\n",
    "      [0, 0, 0, 0, 1, 0, 1, 0, 0, 0, 1, 0, 1, 0, 0, 0, 0, 0, 0, 0, 0, 0, 0, 1, 0],\n",
    "      [0, 1, 0, 0, 0, 0, 0, 0, 1, 0, 0, 0, 1, 0, 0, 0, 0, 1, 1, 0, 0, 0, 0, 1, 0],\n",
    "      [1, 1, 0, 0, 1, 1, 1, 1, 1, 0, 0, 0, 1, 0, 0, 0, 1, 1, 1, 1, 1, 1, 0, 0, 0],\n",
    "      [1, 1, 0, 0, 1, 1, 1, 0, 1, 0, 0, 0, 0, 1, 0, 0, 0, 1, 1, 0, 0, 0, 0, 0, 0],\n",
    "      [1, 1, 0, 0, 0, 0, 1, 0, 0, 0, 0, 0, 0, 0, 0, 0, 0, 0, 0, 0, 0, 0, 1, 0, 0],\n",
    "      [0, 0, 0, 1, 0, 0, 1, 0, 0, 0, 0, 1, 0, 0, 0, 1, 0, 0, 0, 0, 0, 1, 1, 1, 1],\n",
    "      [0, 0, 0, 1, 0, 0, 1, 1, 1, 1, 1, 1, 1, 0, 0, 0, 0, 0, 0, 1, 0, 0, 0, 0, 0],\n",
    "      [1, 1, 1, 1, 0, 0, 1, 0, 0, 0, 0, 0, 0, 0, 0, 0, 0, 1, 0, 0, 0, 0, 0, 0, 0],\n",
    "      [0, 0, 1, 0, 0, 0, 1, 0, 0, 0, 0, 0, 0, 0, 0, 0, 0, 0, 0, 0, 0, 0, 1, 0, 0],\n",
    "      [0, 0, 1, 0, 0, 0, 0, 0, 0, 0, 1, 0, 0, 0, 1, 1, 0, 0, 0, 0, 1, 1, 1, 0, 0],\n",
    "      [0, 0, 0, 0, 0, 0, 0, 1, 1, 1, 1, 0, 0, 0, 1, 0, 0, 1, 0, 0, 0, 1, 0, 0, 0],\n",
    "      [0, 0, 0, 0, 1, 0, 0, 0, 1, 1, 1, 0, 0, 0, 1, 1, 0, 0, 1, 0, 0, 1, 0, 0, 0],\n",
    "      [0, 1, 0, 0, 1, 1, 0, 0, 0, 1, 1, 0, 0, 0, 1, 0, 0, 1, 0, 0, 0, 1, 0, 0, 0],\n",
    "      [0, 1, 0, 0, 1, 1, 1, 0, 0, 0, 1, 0, 0, 0, 1, 1, 0, 0, 1, 0, 0, 1, 0, 1, 1],\n",
    "      [0, 1, 0, 0, 1, 1, 1, 1, 0, 0, 0, 0, 0, 0, 1, 0, 0, 1, 0, 0, 0, 1, 0, 0, 0],\n",
    "      [0, 1, 0, 0, 1, 1, 1, 1, 1, 0, 0, 0, 0, 0, 1, 1, 0, 0, 1, 0, 0, 1, 0, 0, 0],\n",
    "      [0, 0, 1, 0, 1, 1, 1, 1, 1, 0, 0, 1, 0, 0, 1, 0, 0, 1, 0, 0, 0, 0, 0, 0, 1],\n",
    "      [0, 0, 0, 0, 0, 0, 0, 0, 0, 0, 0, 1, 1, 1, 1, 1, 0, 0, 1, 0, 0, 0, 0, 0, 1],\n",
    "      [0, 1, 0, 0, 0, 0, 0, 0, 0, 1, 0, 0, 0, 0, 1, 0, 0, 1, 0, 0, 0, 1, 1, 0, 0],\n",
    "      [0, 0, 0, 0, 1, 1, 0, 1, 0, 0, 0, 1, 0, 0, 1, 1, 0, 0, 0, 0, 0, 1, 1, 0, 0]]\n",
    "\n",
    "map = np.array(map)\n",
    "\n",
    "def draw_grid(image, line_space=20):\n",
    "    H, W = image.shape\n",
    "    image[0:H:line_space] = 1\n",
    "    image[:, 0:W:line_space] = 1\n",
    "\n",
    "plt.imshow(~map, cmap='gray')"
   ]
  },
  {
   "cell_type": "code",
   "execution_count": null,
   "metadata": {},
   "outputs": [],
   "source": []
  },
  {
   "cell_type": "code",
   "execution_count": 20,
   "metadata": {},
   "outputs": [],
   "source": [
    "np.save('map_2.npy', map)"
   ]
  },
  {
   "cell_type": "code",
   "execution_count": 21,
   "metadata": {},
   "outputs": [],
   "source": [
    "def image_to_cartesian(map, val):\n",
    "    coords_y, coords_x = np.where(map == val)\n",
    "    coords = np.stack([coords_x, coords_y], axis=1)\n",
    "    coords[:, 1] = (len(map)) - coords[:, 1]\n",
    "\n",
    "    return coords\n",
    "\n",
    "obstacle_coords = image_to_cartesian(map, 1)\n",
    "path_coords = image_to_cartesian(map, 0)\n",
    "\n",
    "assert len(obstacle_coords)+len(path_coords) == np.prod(map.shape)"
   ]
  },
  {
   "cell_type": "code",
   "execution_count": 22,
   "metadata": {},
   "outputs": [
    {
     "data": {
      "image/png": "[encoded data removed]",
      "text/plain": [
       "<Figure size 640x480 with 1 Axes>"
      ]
     },
     "metadata": {},
     "output_type": "display_data"
    }
   ],
   "source": [
    "#obstacle_coords_y, obstacle_coords_x = np.where(map==1)\n",
    "#obstacle_coords = np.stack([obstacle_coords_x, obstacle_coords_y], axis=1)\n",
    "#obstacle_coords[:, 1] = (len(map)) - obstacle_coords[:, 1]\n",
    "\n",
    "plt.scatter(obstacle_coords[:, 0], obstacle_coords[:, 1], color='black')\n",
    "plt.show()"
   ]
  },
  {
   "cell_type": "code",
   "execution_count": 23,
   "metadata": {},
   "outputs": [],
   "source": [
    "obstacle_boxes = []\n",
    "for o_p in obstacle_coords:\n",
    "    ul_x, ul_y = o_p\n",
    "    lr_x = ul_x + 1\n",
    "    lr_y = ul_y - 1\n",
    "    obstacle_boxes.append((ul_x, ul_y, lr_x, lr_y))"
   ]
  },
  {
   "cell_type": "code",
   "execution_count": 24,
   "metadata": {},
   "outputs": [],
   "source": [
    "def check_box_collision(p, obstacle_boxes):\n",
    "    for b in obstacle_boxes:\n",
    "        if p[0] > b[0] - 0.5 and p[0] < b[2] + 0.5 and p[1] > b[3] - 0.5 and p[1] < b[1] + 0.5:\n",
    "            return True\n",
    "    return False"
   ]
  },
  {
   "cell_type": "markdown",
   "metadata": {},
   "source": [
    "## Robot/World calibration"
   ]
  },
  {
   "cell_type": "code",
   "execution_count": 25,
   "metadata": {},
   "outputs": [],
   "source": [
    "sim = Physics()\n",
    "\n",
    "def make_world(sim):\n",
    "    sim.addBox(0, 0, 25, 25, fill='white', wallcolor=\"black\")\n",
    "    sim.addLight(10, 3, 1.00, color=Color(255, 255, 0, 64))\n",
    "    \n",
    "    for i in obstacle_boxes:\n",
    "        ul_x, ul_y, lr_x, lr_y = i\n",
    "        sim.addBox(ul_x, ul_y, lr_x, lr_y, fill='black')\n",
    "\n",
    "make_world(sim)"
   ]
  },
  {
   "cell_type": "code",
   "execution_count": 26,
   "metadata": {},
   "outputs": [
    {
     "name": "stdout",
     "output_type": "stream",
     "text": [
      "World dimensions: (25, 25) meters\n"
     ]
    }
   ],
   "source": [
    "print(f'World dimensions: {map.shape} meters')"
   ]
  },
  {
   "cell_type": "code",
   "execution_count": 27,
   "metadata": {},
   "outputs": [],
   "source": [
    "def get_random_start(path_coords, obstacle_boxes):\n",
    "    collision = True\n",
    "    while collision:\n",
    "        x, y = random.choice(path_coords)\n",
    "        x += random.random()*0.1\n",
    "        y += random.random()*0.1\n",
    "        collision = check_box_collision((x, y), obstacle_boxes)\n",
    "\n",
    "    return x, y, random.random()*2*pi"
   ]
  },
  {
   "cell_type": "markdown",
   "metadata": {},
   "source": [
    "Use normal distribution for adding noise!"
   ]
  },
  {
   "cell_type": "code",
   "execution_count": 28,
   "metadata": {},
   "outputs": [
    {
     "data": {
      "text/plain": [
       "(11.011043222541938, 25.006506370935725, 3.1409804676491007)"
      ]
     },
     "execution_count": 28,
     "metadata": {},
     "output_type": "execute_result"
    }
   ],
   "source": [
    "get_random_start(path_coords, obstacle_boxes)"
   ]
  },
  {
   "cell_type": "code",
   "execution_count": 29,
   "metadata": {},
   "outputs": [],
   "source": [
    "## Robot class\n",
    "class Robot(Pioneer):\n",
    "    def __init__(self, name, x, y, theta):\n",
    "        Pioneer.__init__(self, name, x, y, theta)\n",
    "        self.addDevice(Pioneer16Sonars())\n",
    "        self.addDevice(MyroIR())\n",
    "\n",
    "    def get_sensor_data(self):\n",
    "        sonar_data = self['sonar'].getData()\n",
    "        ir_data = self['ir'].getData()\n",
    "        return (sonar_data, ir_data)\n",
    "\n",
    "def brain(robot):\n",
    "    sonar_data, ir_data = robot.get_sensor_data()\n",
    "    print(sonar_data, ir_data)\n",
    "    #self.move(random.random() * 2 - 1,\n",
    "    #    random.random() * 2 - 1)\n",
    "    front = min(sonar_data[1:7])\n",
    "    print(robot.stall)\n",
    "    if front < 0.5:           # check for an obstacle\n",
    "        robot.move(0.0, -1.0) # stop and turn right\n",
    "    else:\n",
    "        robot.move(5.0, 0)    # otherwise go straight\n",
    "\n",
    "# Create robot by giving it a name, x-coordinates, y-coordinates, and a heading angle in radians\n",
    "robot = Robot('Pioneer', *get_random_start(path_coords, obstacle_boxes))\n",
    "robot.brain = brain\n",
    "\n"
   ]
  },
  {
   "cell_type": "code",
   "execution_count": 30,
   "metadata": {},
   "outputs": [
    {
     "data": {
      "text/plain": [
       "(10.093605076175901, 3.082234139246746, 1.3067277610686554)"
      ]
     },
     "execution_count": 30,
     "metadata": {},
     "output_type": "execute_result"
    }
   ],
   "source": [
    "robot.getPose()"
   ]
  },
  {
   "cell_type": "code",
   "execution_count": 31,
   "metadata": {},
   "outputs": [
    {
     "data": {
      "text/plain": [
       "([0, 0, 0, 0, 0, 0, 0, 0, 0, 0, 0, 0, 0, 0, 0, 0], [0, 0])"
      ]
     },
     "execution_count": 31,
     "metadata": {},
     "output_type": "execute_result"
    }
   ],
   "source": [
    "robot.get_sensor_data()"
   ]
  },
  {
   "cell_type": "code",
   "execution_count": 32,
   "metadata": {},
   "outputs": [
    {
     "data": {
      "image/svg+xml": [
       "<svg baseProfile=\"full\" height=\"240\" version=\"1.1\" width=\"240\" xmlns=\"http://www.w3.org/2000/svg\" xmlns:ev=\"http://www.w3.org/2001/xml-events\" xmlns:xlink=\"http://www.w3.org/1999/xlink\"><defs /><line fill=\"#800080\" stroke=\"#d3d3d3\" stroke-width=\"1\" x1=\"85.86950535040863\" x2=\"-415.2701447639405\" y1=\"154.27986777941558\" y2=\"2007.7250520466137\" /><line fill=\"#800080\" stroke=\"#d3d3d3\" stroke-width=\"1\" x1=\"71.21792139467799\" x2=\"-1166.2686279034529\" y1=\"144.10287964008006\" y2=\"1612.1039151663513\" /><line fill=\"#800080\" stroke=\"#d3d3d3\" stroke-width=\"1\" x1=\"66.77320020424774\" x2=\"-1675.174541645421\" y1=\"132.95638003081524\" y2=\"940.4327355142683\" /><line fill=\"#800080\" stroke=\"#d3d3d3\" stroke-width=\"1\" x1=\"64.73973137927038\" x2=\"-1855.2553254211246\" y1=\"117.48947974220393\" y2=\"113.132661861188\" /><line fill=\"#800080\" stroke=\"#d3d3d3\" stroke-width=\"1\" x1=\"71.00397700569974\" x2=\"-1589.5821083834808\" y1=\"94.32141493886394\" y2=\"-869.4492284259553\" /><line fill=\"#800080\" stroke=\"#d3d3d3\" stroke-width=\"1\" x1=\"80.55454058239235\" x2=\"-1017.1404856349736\" y1=\"81.98663746346728\" y2=\"-1493.2802064133584\" /><line fill=\"#800080\" stroke=\"#d3d3d3\" stroke-width=\"1\" x1=\"90.01065827396609\" x2=\"-239.10235644125035\" y1=\"74.59868523006011\" y2=\"-1816.9838859375486\" /><line fill=\"#800080\" stroke=\"#d3d3d3\" stroke-width=\"1\" x1=\"107.79436504291141\" x2=\"608.9340151572608\" y1=\"73.19164096772568\" y2=\"-1780.2535432994723\" /><line fill=\"#800080\" stroke=\"#d3d3d3\" stroke-width=\"1\" x1=\"154.13049464959136\" x2=\"655.2701447639406\" y1=\"85.72013222058442\" y2=\"-1767.7250520466137\" /><line fill=\"#800080\" stroke=\"#d3d3d3\" stroke-width=\"1\" x1=\"168.782078605322\" x2=\"1406.268627903452\" y1=\"95.89712035991995\" y2=\"-1372.1039151663522\" /><line fill=\"#800080\" stroke=\"#d3d3d3\" stroke-width=\"1\" x1=\"173.22679979575224\" x2=\"1915.1745416454207\" y1=\"107.04361996918475\" y2=\"-700.4327355142689\" /><line fill=\"#800080\" stroke=\"#d3d3d3\" stroke-width=\"1\" x1=\"175.26026862072962\" x2=\"2095.2553254211243\" y1=\"122.51052025779607\" y2=\"126.86733813881224\" /><line fill=\"#800080\" stroke=\"#d3d3d3\" stroke-width=\"1\" x1=\"168.99602299430026\" x2=\"1829.58210838348\" y1=\"145.67858506113606\" y2=\"1109.449228425956\" /><line fill=\"#800080\" stroke=\"#d3d3d3\" stroke-width=\"1\" x1=\"159.44545941760768\" x2=\"1257.1404856349736\" y1=\"158.01336253653272\" y2=\"1733.2802064133587\" /><line fill=\"#800080\" stroke=\"#d3d3d3\" stroke-width=\"1\" x1=\"149.98934172603393\" x2=\"479.1023564412497\" y1=\"165.4013147699399\" y2=\"2056.9838859375486\" /><line fill=\"#800080\" stroke=\"#d3d3d3\" stroke-width=\"1\" x1=\"132.2056349570886\" x2=\"-368.9340151572606\" y1=\"166.80835903227432\" y2=\"2020.2535432994723\" /><line fill=\"#800080\" stroke=\"#ffc0cb\" stroke-width=\"1\" x1=\"71.31236727979687\" x2=\"-32.74656417459037\" y1=\"139.1560543980906\" y2=\"198.9200802378141\" /><line fill=\"#800080\" stroke=\"#ffc0cb\" stroke-width=\"1\" x1=\"87.59940590851322\" x2=\"27.835380068789746\" y1=\"78.91908590940665\" y2=\"-25.139845544980588\" /><polygon fill=\"red\" points=\"62.860457691341566,124.43989918320594 74.28547294873864,151.14774496620092 143.78966735875858,169.94048184548902 167.11674930637145,152.62900450213806 177.13954230865843,115.56010081679406 165.71452705126137,88.85225503379908 96.21033264124141,70.05951815451098 72.88325069362855,87.37099549786194\" stroke=\"red\" stroke-width=\"1\" /><polygon points=\"-12.0,-12.0 0,0 12.0,-12.0 0,12.0\" stroke=\"black\" stroke-width=\"1\" transform=\"translate(120.0,120.0) rotate(105.1300143181866)\" /></svg>"
      ],
      "text/plain": [
       "<__main__.Robot at 0x10f81e910>"
      ]
     },
     "execution_count": 32,
     "metadata": {},
     "output_type": "execute_result"
    }
   ],
   "source": [
    "robot"
   ]
  },
  {
   "cell_type": "code",
   "execution_count": 33,
   "metadata": {},
   "outputs": [
    {
     "data": {
      "image/svg+xml": [
       "<svg baseProfile=\"full\" height=\"500\" version=\"1.1\" width=\"500\" xmlns=\"http://www.w3.org/2000/svg\" xmlns:ev=\"http://www.w3.org/2001/xml-events\" xmlns:xlink=\"http://www.w3.org/1999/xlink\"><defs /><rect fill=\"#ffffff\" height=\"500.0\" stroke=\"#000000\" stroke-width=\"1\" width=\"500.0\" x=\"0.0\" y=\"0.0\" /><rect fill=\"#000000\" height=\"20.0\" stroke=\"#000000\" stroke-width=\"1\" width=\"20.0\" x=\"0.0\" y=\"0.0\" /><rect fill=\"#000000\" height=\"20.0\" stroke=\"#000000\" stroke-width=\"1\" width=\"20.0\" x=\"40.0\" y=\"0.0\" /><rect fill=\"#000000\" height=\"20.0\" stroke=\"#000000\" stroke-width=\"1\" width=\"20.0\" x=\"160.0\" y=\"0.0\" /><rect fill=\"#000000\" height=\"20.0\" stroke=\"#000000\" stroke-width=\"1\" width=\"20.0\" x=\"40.0\" y=\"20.0\" /><rect fill=\"#000000\" height=\"20.0\" stroke=\"#000000\" stroke-width=\"1\" width=\"20.0\" x=\"100.0\" y=\"20.0\" /><rect fill=\"#000000\" height=\"20.0\" stroke=\"#000000\" stroke-width=\"1\" width=\"20.0\" x=\"160.0\" y=\"20.0\" /><rect fill=\"#000000\" height=\"20.0\" stroke=\"#000000\" stroke-width=\"1\" width=\"20.0\" x=\"340.0\" y=\"20.0\" /><rect fill=\"#000000\" height=\"20.0\" stroke=\"#000000\" stroke-width=\"1\" width=\"20.0\" x=\"360.0\" y=\"20.0\" /><rect fill=\"#000000\" height=\"20.0\" stroke=\"#000000\" stroke-width=\"1\" width=\"20.0\" x=\"380.0\" y=\"20.0\" /><rect fill=\"#000000\" height=\"20.0\" stroke=\"#000000\" stroke-width=\"1\" width=\"20.0\" x=\"400.0\" y=\"20.0\" /><rect fill=\"#000000\" height=\"20.0\" stroke=\"#000000\" stroke-width=\"1\" width=\"20.0\" x=\"20.0\" y=\"40.0\" /><rect fill=\"#000000\" height=\"20.0\" stroke=\"#000000\" stroke-width=\"1\" width=\"20.0\" x=\"40.0\" y=\"40.0\" /><rect fill=\"#000000\" height=\"20.0\" stroke=\"#000000\" stroke-width=\"1\" width=\"20.0\" x=\"100.0\" y=\"40.0\" /><rect fill=\"#000000\" height=\"20.0\" stroke=\"#000000\" stroke-width=\"1\" width=\"20.0\" x=\"140.0\" y=\"40.0\" /><rect fill=\"#000000\" height=\"20.0\" stroke=\"#000000\" stroke-width=\"1\" width=\"20.0\" x=\"160.0\" y=\"40.0\" /><rect fill=\"#000000\" height=\"20.0\" stroke=\"#000000\" stroke-width=\"1\" width=\"20.0\" x=\"180.0\" y=\"40.0\" /><rect fill=\"#000000\" height=\"20.0\" stroke=\"#000000\" stroke-width=\"1\" width=\"20.0\" x=\"200.0\" y=\"40.0\" /><rect fill=\"#000000\" height=\"20.0\" stroke=\"#000000\" stroke-width=\"1\" width=\"20.0\" x=\"220.0\" y=\"40.0\" /><rect fill=\"#000000\" height=\"20.0\" stroke=\"#000000\" stroke-width=\"1\" width=\"20.0\" x=\"240.0\" y=\"40.0\" /><rect fill=\"#000000\" height=\"20.0\" stroke=\"#000000\" stroke-width=\"1\" width=\"20.0\" x=\"260.0\" y=\"40.0\" /><rect fill=\"#000000\" height=\"20.0\" stroke=\"#000000\" stroke-width=\"1\" width=\"20.0\" x=\"280.0\" y=\"40.0\" /><rect fill=\"#000000\" height=\"20.0\" stroke=\"#000000\" stroke-width=\"1\" width=\"20.0\" x=\"400.0\" y=\"40.0\" /><rect fill=\"#000000\" height=\"20.0\" stroke=\"#000000\" stroke-width=\"1\" width=\"20.0\" x=\"440.0\" y=\"40.0\" /><rect fill=\"#000000\" height=\"20.0\" stroke=\"#000000\" stroke-width=\"1\" width=\"20.0\" x=\"40.0\" y=\"60.0\" /><rect fill=\"#000000\" height=\"20.0\" stroke=\"#000000\" stroke-width=\"1\" width=\"20.0\" x=\"140.0\" y=\"60.0\" /><rect fill=\"#000000\" height=\"20.0\" stroke=\"#000000\" stroke-width=\"1\" width=\"20.0\" x=\"160.0\" y=\"60.0\" /><rect fill=\"#000000\" height=\"20.0\" stroke=\"#000000\" stroke-width=\"1\" width=\"20.0\" x=\"240.0\" y=\"60.0\" /><rect fill=\"#000000\" height=\"20.0\" stroke=\"#000000\" stroke-width=\"1\" width=\"20.0\" x=\"340.0\" y=\"60.0\" /><rect fill=\"#000000\" height=\"20.0\" stroke=\"#000000\" stroke-width=\"1\" width=\"20.0\" x=\"360.0\" y=\"60.0\" /><rect fill=\"#000000\" height=\"20.0\" stroke=\"#000000\" stroke-width=\"1\" width=\"20.0\" x=\"380.0\" y=\"60.0\" /><rect fill=\"#000000\" height=\"20.0\" stroke=\"#000000\" stroke-width=\"1\" width=\"20.0\" x=\"400.0\" y=\"60.0\" /><rect fill=\"#000000\" height=\"20.0\" stroke=\"#000000\" stroke-width=\"1\" width=\"20.0\" x=\"460.0\" y=\"60.0\" /><rect fill=\"#000000\" height=\"20.0\" stroke=\"#000000\" stroke-width=\"1\" width=\"20.0\" x=\"40.0\" y=\"80.0\" /><rect fill=\"#000000\" height=\"20.0\" stroke=\"#000000\" stroke-width=\"1\" width=\"20.0\" x=\"60.0\" y=\"80.0\" /><rect fill=\"#000000\" height=\"20.0\" stroke=\"#000000\" stroke-width=\"1\" width=\"20.0\" x=\"160.0\" y=\"80.0\" /><rect fill=\"#000000\" height=\"20.0\" stroke=\"#000000\" stroke-width=\"1\" width=\"20.0\" x=\"240.0\" y=\"80.0\" /><rect fill=\"#000000\" height=\"20.0\" stroke=\"#000000\" stroke-width=\"1\" width=\"20.0\" x=\"300.0\" y=\"80.0\" /><rect fill=\"#000000\" height=\"20.0\" stroke=\"#000000\" stroke-width=\"1\" width=\"20.0\" x=\"460.0\" y=\"80.0\" /><rect fill=\"#000000\" height=\"20.0\" stroke=\"#000000\" stroke-width=\"1\" width=\"20.0\" x=\"80.0\" y=\"100.0\" /><rect fill=\"#000000\" height=\"20.0\" stroke=\"#000000\" stroke-width=\"1\" width=\"20.0\" x=\"120.0\" y=\"100.0\" /><rect fill=\"#000000\" height=\"20.0\" stroke=\"#000000\" stroke-width=\"1\" width=\"20.0\" x=\"200.0\" y=\"100.0\" /><rect fill=\"#000000\" height=\"20.0\" stroke=\"#000000\" stroke-width=\"1\" width=\"20.0\" x=\"240.0\" y=\"100.0\" /><rect fill=\"#000000\" height=\"20.0\" stroke=\"#000000\" stroke-width=\"1\" width=\"20.0\" x=\"460.0\" y=\"100.0\" /><rect fill=\"#000000\" height=\"20.0\" stroke=\"#000000\" stroke-width=\"1\" width=\"20.0\" x=\"20.0\" y=\"120.0\" /><rect fill=\"#000000\" height=\"20.0\" stroke=\"#000000\" stroke-width=\"1\" width=\"20.0\" x=\"160.0\" y=\"120.0\" /><rect fill=\"#000000\" height=\"20.0\" stroke=\"#000000\" stroke-width=\"1\" width=\"20.0\" x=\"240.0\" y=\"120.0\" /><rect fill=\"#000000\" height=\"20.0\" stroke=\"#000000\" stroke-width=\"1\" width=\"20.0\" x=\"340.0\" y=\"120.0\" /><rect fill=\"#000000\" height=\"20.0\" stroke=\"#000000\" stroke-width=\"1\" width=\"20.0\" x=\"360.0\" y=\"120.0\" /><rect fill=\"#000000\" height=\"20.0\" stroke=\"#000000\" stroke-width=\"1\" width=\"20.0\" x=\"460.0\" y=\"120.0\" /><rect fill=\"#000000\" height=\"20.0\" stroke=\"#000000\" stroke-width=\"1\" width=\"20.0\" x=\"0.0\" y=\"140.0\" /><rect fill=\"#000000\" height=\"20.0\" stroke=\"#000000\" stroke-width=\"1\" width=\"20.0\" x=\"20.0\" y=\"140.0\" /><rect fill=\"#000000\" height=\"20.0\" stroke=\"#000000\" stroke-width=\"1\" width=\"20.0\" x=\"80.0\" y=\"140.0\" /><rect fill=\"#000000\" height=\"20.0\" stroke=\"#000000\" stroke-width=\"1\" width=\"20.0\" x=\"100.0\" y=\"140.0\" /><rect fill=\"#000000\" height=\"20.0\" stroke=\"#000000\" stroke-width=\"1\" width=\"20.0\" x=\"120.0\" y=\"140.0\" /><rect fill=\"#000000\" height=\"20.0\" stroke=\"#000000\" stroke-width=\"1\" width=\"20.0\" x=\"140.0\" y=\"140.0\" /><rect fill=\"#000000\" height=\"20.0\" stroke=\"#000000\" stroke-width=\"1\" width=\"20.0\" x=\"160.0\" y=\"140.0\" /><rect fill=\"#000000\" height=\"20.0\" stroke=\"#000000\" stroke-width=\"1\" width=\"20.0\" x=\"240.0\" y=\"140.0\" /><rect fill=\"#000000\" height=\"20.0\" stroke=\"#000000\" stroke-width=\"1\" width=\"20.0\" x=\"320.0\" y=\"140.0\" /><rect fill=\"#000000\" height=\"20.0\" stroke=\"#000000\" stroke-width=\"1\" width=\"20.0\" x=\"340.0\" y=\"140.0\" /><rect fill=\"#000000\" height=\"20.0\" stroke=\"#000000\" stroke-width=\"1\" width=\"20.0\" x=\"360.0\" y=\"140.0\" /><rect fill=\"#000000\" height=\"20.0\" stroke=\"#000000\" stroke-width=\"1\" width=\"20.0\" x=\"380.0\" y=\"140.0\" /><rect fill=\"#000000\" height=\"20.0\" stroke=\"#000000\" stroke-width=\"1\" width=\"20.0\" x=\"400.0\" y=\"140.0\" /><rect fill=\"#000000\" height=\"20.0\" stroke=\"#000000\" stroke-width=\"1\" width=\"20.0\" x=\"420.0\" y=\"140.0\" /><rect fill=\"#000000\" height=\"20.0\" stroke=\"#000000\" stroke-width=\"1\" width=\"20.0\" x=\"0.0\" y=\"160.0\" /><rect fill=\"#000000\" height=\"20.0\" stroke=\"#000000\" stroke-width=\"1\" width=\"20.0\" x=\"20.0\" y=\"160.0\" /><rect fill=\"#000000\" height=\"20.0\" stroke=\"#000000\" stroke-width=\"1\" width=\"20.0\" x=\"80.0\" y=\"160.0\" /><rect fill=\"#000000\" height=\"20.0\" stroke=\"#000000\" stroke-width=\"1\" width=\"20.0\" x=\"100.0\" y=\"160.0\" /><rect fill=\"#000000\" height=\"20.0\" stroke=\"#000000\" stroke-width=\"1\" width=\"20.0\" x=\"120.0\" y=\"160.0\" /><rect fill=\"#000000\" height=\"20.0\" stroke=\"#000000\" stroke-width=\"1\" width=\"20.0\" x=\"160.0\" y=\"160.0\" /><rect fill=\"#000000\" height=\"20.0\" stroke=\"#000000\" stroke-width=\"1\" width=\"20.0\" x=\"260.0\" y=\"160.0\" /><rect fill=\"#000000\" height=\"20.0\" stroke=\"#000000\" stroke-width=\"1\" width=\"20.0\" x=\"340.0\" y=\"160.0\" /><rect fill=\"#000000\" height=\"20.0\" stroke=\"#000000\" stroke-width=\"1\" width=\"20.0\" x=\"360.0\" y=\"160.0\" /><rect fill=\"#000000\" height=\"20.0\" stroke=\"#000000\" stroke-width=\"1\" width=\"20.0\" x=\"0.0\" y=\"180.0\" /><rect fill=\"#000000\" height=\"20.0\" stroke=\"#000000\" stroke-width=\"1\" width=\"20.0\" x=\"20.0\" y=\"180.0\" /><rect fill=\"#000000\" height=\"20.0\" stroke=\"#000000\" stroke-width=\"1\" width=\"20.0\" x=\"120.0\" y=\"180.0\" /><rect fill=\"#000000\" height=\"20.0\" stroke=\"#000000\" stroke-width=\"1\" width=\"20.0\" x=\"440.0\" y=\"180.0\" /><rect fill=\"#000000\" height=\"20.0\" stroke=\"#000000\" stroke-width=\"1\" width=\"20.0\" x=\"60.0\" y=\"200.0\" /><rect fill=\"#000000\" height=\"20.0\" stroke=\"#000000\" stroke-width=\"1\" width=\"20.0\" x=\"120.0\" y=\"200.0\" /><rect fill=\"#000000\" height=\"20.0\" stroke=\"#000000\" stroke-width=\"1\" width=\"20.0\" x=\"220.0\" y=\"200.0\" /><rect fill=\"#000000\" height=\"20.0\" stroke=\"#000000\" stroke-width=\"1\" width=\"20.0\" x=\"300.0\" y=\"200.0\" /><rect fill=\"#000000\" height=\"20.0\" stroke=\"#000000\" stroke-width=\"1\" width=\"20.0\" x=\"420.0\" y=\"200.0\" /><rect fill=\"#000000\" height=\"20.0\" stroke=\"#000000\" stroke-width=\"1\" width=\"20.0\" x=\"440.0\" y=\"200.0\" /><rect fill=\"#000000\" height=\"20.0\" stroke=\"#000000\" stroke-width=\"1\" width=\"20.0\" x=\"460.0\" y=\"200.0\" /><rect fill=\"#000000\" height=\"20.0\" stroke=\"#000000\" stroke-width=\"1\" width=\"20.0\" x=\"480.0\" y=\"200.0\" /><rect fill=\"#000000\" height=\"20.0\" stroke=\"#000000\" stroke-width=\"1\" width=\"20.0\" x=\"60.0\" y=\"220.0\" /><rect fill=\"#000000\" height=\"20.0\" stroke=\"#000000\" stroke-width=\"1\" width=\"20.0\" x=\"120.0\" y=\"220.0\" /><rect fill=\"#000000\" height=\"20.0\" stroke=\"#000000\" stroke-width=\"1\" width=\"20.0\" x=\"140.0\" y=\"220.0\" /><rect fill=\"#000000\" height=\"20.0\" stroke=\"#000000\" stroke-width=\"1\" width=\"20.0\" x=\"160.0\" y=\"220.0\" /><rect fill=\"#000000\" height=\"20.0\" stroke=\"#000000\" stroke-width=\"1\" width=\"20.0\" x=\"180.0\" y=\"220.0\" /><rect fill=\"#000000\" height=\"20.0\" stroke=\"#000000\" stroke-width=\"1\" width=\"20.0\" x=\"200.0\" y=\"220.0\" /><rect fill=\"#000000\" height=\"20.0\" stroke=\"#000000\" stroke-width=\"1\" width=\"20.0\" x=\"220.0\" y=\"220.0\" /><rect fill=\"#000000\" height=\"20.0\" stroke=\"#000000\" stroke-width=\"1\" width=\"20.0\" x=\"240.0\" y=\"220.0\" /><rect fill=\"#000000\" height=\"20.0\" stroke=\"#000000\" stroke-width=\"1\" width=\"20.0\" x=\"380.0\" y=\"220.0\" /><rect fill=\"#000000\" height=\"20.0\" stroke=\"#000000\" stroke-width=\"1\" width=\"20.0\" x=\"0.0\" y=\"240.0\" /><rect fill=\"#000000\" height=\"20.0\" stroke=\"#000000\" stroke-width=\"1\" width=\"20.0\" x=\"20.0\" y=\"240.0\" /><rect fill=\"#000000\" height=\"20.0\" stroke=\"#000000\" stroke-width=\"1\" width=\"20.0\" x=\"40.0\" y=\"240.0\" /><rect fill=\"#000000\" height=\"20.0\" stroke=\"#000000\" stroke-width=\"1\" width=\"20.0\" x=\"60.0\" y=\"240.0\" /><rect fill=\"#000000\" height=\"20.0\" stroke=\"#000000\" stroke-width=\"1\" width=\"20.0\" x=\"120.0\" y=\"240.0\" /><rect fill=\"#000000\" height=\"20.0\" stroke=\"#000000\" stroke-width=\"1\" width=\"20.0\" x=\"340.0\" y=\"240.0\" /><rect fill=\"#000000\" height=\"20.0\" stroke=\"#000000\" stroke-width=\"1\" width=\"20.0\" x=\"40.0\" y=\"260.0\" /><rect fill=\"#000000\" height=\"20.0\" stroke=\"#000000\" stroke-width=\"1\" width=\"20.0\" x=\"120.0\" y=\"260.0\" /><rect fill=\"#000000\" height=\"20.0\" stroke=\"#000000\" stroke-width=\"1\" width=\"20.0\" x=\"440.0\" y=\"260.0\" /><rect fill=\"#000000\" height=\"20.0\" stroke=\"#000000\" stroke-width=\"1\" width=\"20.0\" x=\"40.0\" y=\"280.0\" /><rect fill=\"#000000\" height=\"20.0\" stroke=\"#000000\" stroke-width=\"1\" width=\"20.0\" x=\"200.0\" y=\"280.0\" /><rect fill=\"#000000\" height=\"20.0\" stroke=\"#000000\" stroke-width=\"1\" width=\"20.0\" x=\"280.0\" y=\"280.0\" /><rect fill=\"#000000\" height=\"20.0\" stroke=\"#000000\" stroke-width=\"1\" width=\"20.0\" x=\"300.0\" y=\"280.0\" /><rect fill=\"#000000\" height=\"20.0\" stroke=\"#000000\" stroke-width=\"1\" width=\"20.0\" x=\"400.0\" y=\"280.0\" /><rect fill=\"#000000\" height=\"20.0\" stroke=\"#000000\" stroke-width=\"1\" width=\"20.0\" x=\"420.0\" y=\"280.0\" /><rect fill=\"#000000\" height=\"20.0\" stroke=\"#000000\" stroke-width=\"1\" width=\"20.0\" x=\"440.0\" y=\"280.0\" /><rect fill=\"#000000\" height=\"20.0\" stroke=\"#000000\" stroke-width=\"1\" width=\"20.0\" x=\"140.0\" y=\"300.0\" /><rect fill=\"#000000\" height=\"20.0\" stroke=\"#000000\" stroke-width=\"1\" width=\"20.0\" x=\"160.0\" y=\"300.0\" /><rect fill=\"#000000\" height=\"20.0\" stroke=\"#000000\" stroke-width=\"1\" width=\"20.0\" x=\"180.0\" y=\"300.0\" /><rect fill=\"#000000\" height=\"20.0\" stroke=\"#000000\" stroke-width=\"1\" width=\"20.0\" x=\"200.0\" y=\"300.0\" /><rect fill=\"#000000\" height=\"20.0\" stroke=\"#000000\" stroke-width=\"1\" width=\"20.0\" x=\"280.0\" y=\"300.0\" /><rect fill=\"#000000\" height=\"20.0\" stroke=\"#000000\" stroke-width=\"1\" width=\"20.0\" x=\"340.0\" y=\"300.0\" /><rect fill=\"#000000\" height=\"20.0\" stroke=\"#000000\" stroke-width=\"1\" width=\"20.0\" x=\"420.0\" y=\"300.0\" /><rect fill=\"#000000\" height=\"20.0\" stroke=\"#000000\" stroke-width=\"1\" width=\"20.0\" x=\"80.0\" y=\"320.0\" /><rect fill=\"#000000\" height=\"20.0\" stroke=\"#000000\" stroke-width=\"1\" width=\"20.0\" x=\"160.0\" y=\"320.0\" /><rect fill=\"#000000\" height=\"20.0\" stroke=\"#000000\" stroke-width=\"1\" width=\"20.0\" x=\"180.0\" y=\"320.0\" /><rect fill=\"#000000\" height=\"20.0\" stroke=\"#000000\" stroke-width=\"1\" width=\"20.0\" x=\"200.0\" y=\"320.0\" /><rect fill=\"#000000\" height=\"20.0\" stroke=\"#000000\" stroke-width=\"1\" width=\"20.0\" x=\"280.0\" y=\"320.0\" /><rect fill=\"#000000\" height=\"20.0\" stroke=\"#000000\" stroke-width=\"1\" width=\"20.0\" x=\"300.0\" y=\"320.0\" /><rect fill=\"#000000\" height=\"20.0\" stroke=\"#000000\" stroke-width=\"1\" width=\"20.0\" x=\"360.0\" y=\"320.0\" /><rect fill=\"#000000\" height=\"20.0\" stroke=\"#000000\" stroke-width=\"1\" width=\"20.0\" x=\"420.0\" y=\"320.0\" /><rect fill=\"#000000\" height=\"20.0\" stroke=\"#000000\" stroke-width=\"1\" width=\"20.0\" x=\"20.0\" y=\"340.0\" /><rect fill=\"#000000\" height=\"20.0\" stroke=\"#000000\" stroke-width=\"1\" width=\"20.0\" x=\"80.0\" y=\"340.0\" /><rect fill=\"#000000\" height=\"20.0\" stroke=\"#000000\" stroke-width=\"1\" width=\"20.0\" x=\"100.0\" y=\"340.0\" /><rect fill=\"#000000\" height=\"20.0\" stroke=\"#000000\" stroke-width=\"1\" width=\"20.0\" x=\"180.0\" y=\"340.0\" /><rect fill=\"#000000\" height=\"20.0\" stroke=\"#000000\" stroke-width=\"1\" width=\"20.0\" x=\"200.0\" y=\"340.0\" /><rect fill=\"#000000\" height=\"20.0\" stroke=\"#000000\" stroke-width=\"1\" width=\"20.0\" x=\"280.0\" y=\"340.0\" /><rect fill=\"#000000\" height=\"20.0\" stroke=\"#000000\" stroke-width=\"1\" width=\"20.0\" x=\"340.0\" y=\"340.0\" /><rect fill=\"#000000\" height=\"20.0\" stroke=\"#000000\" stroke-width=\"1\" width=\"20.0\" x=\"420.0\" y=\"340.0\" /><rect fill=\"#000000\" height=\"20.0\" stroke=\"#000000\" stroke-width=\"1\" width=\"20.0\" x=\"20.0\" y=\"360.0\" /><rect fill=\"#000000\" height=\"20.0\" stroke=\"#000000\" stroke-width=\"1\" width=\"20.0\" x=\"80.0\" y=\"360.0\" /><rect fill=\"#000000\" height=\"20.0\" stroke=\"#000000\" stroke-width=\"1\" width=\"20.0\" x=\"100.0\" y=\"360.0\" /><rect fill=\"#000000\" height=\"20.0\" stroke=\"#000000\" stroke-width=\"1\" width=\"20.0\" x=\"120.0\" y=\"360.0\" /><rect fill=\"#000000\" height=\"20.0\" stroke=\"#000000\" stroke-width=\"1\" width=\"20.0\" x=\"200.0\" y=\"360.0\" /><rect fill=\"#000000\" height=\"20.0\" stroke=\"#000000\" stroke-width=\"1\" width=\"20.0\" x=\"280.0\" y=\"360.0\" /><rect fill=\"#000000\" height=\"20.0\" stroke=\"#000000\" stroke-width=\"1\" width=\"20.0\" x=\"300.0\" y=\"360.0\" /><rect fill=\"#000000\" height=\"20.0\" stroke=\"#000000\" stroke-width=\"1\" width=\"20.0\" x=\"360.0\" y=\"360.0\" /><rect fill=\"#000000\" height=\"20.0\" stroke=\"#000000\" stroke-width=\"1\" width=\"20.0\" x=\"420.0\" y=\"360.0\" /><rect fill=\"#000000\" height=\"20.0\" stroke=\"#000000\" stroke-width=\"1\" width=\"20.0\" x=\"460.0\" y=\"360.0\" /><rect fill=\"#000000\" height=\"20.0\" stroke=\"#000000\" stroke-width=\"1\" width=\"20.0\" x=\"480.0\" y=\"360.0\" /><rect fill=\"#000000\" height=\"20.0\" stroke=\"#000000\" stroke-width=\"1\" width=\"20.0\" x=\"20.0\" y=\"380.0\" /><rect fill=\"#000000\" height=\"20.0\" stroke=\"#000000\" stroke-width=\"1\" width=\"20.0\" x=\"80.0\" y=\"380.0\" /><rect fill=\"#000000\" height=\"20.0\" stroke=\"#000000\" stroke-width=\"1\" width=\"20.0\" x=\"100.0\" y=\"380.0\" /><rect fill=\"#000000\" height=\"20.0\" stroke=\"#000000\" stroke-width=\"1\" width=\"20.0\" x=\"120.0\" y=\"380.0\" /><rect fill=\"#000000\" height=\"20.0\" stroke=\"#000000\" stroke-width=\"1\" width=\"20.0\" x=\"140.0\" y=\"380.0\" /><rect fill=\"#000000\" height=\"20.0\" stroke=\"#000000\" stroke-width=\"1\" width=\"20.0\" x=\"280.0\" y=\"380.0\" /><rect fill=\"#000000\" height=\"20.0\" stroke=\"#000000\" stroke-width=\"1\" width=\"20.0\" x=\"340.0\" y=\"380.0\" /><rect fill=\"#000000\" height=\"20.0\" stroke=\"#000000\" stroke-width=\"1\" width=\"20.0\" x=\"420.0\" y=\"380.0\" /><rect fill=\"#000000\" height=\"20.0\" stroke=\"#000000\" stroke-width=\"1\" width=\"20.0\" x=\"20.0\" y=\"400.0\" /><rect fill=\"#000000\" height=\"20.0\" stroke=\"#000000\" stroke-width=\"1\" width=\"20.0\" x=\"80.0\" y=\"400.0\" /><rect fill=\"#000000\" height=\"20.0\" stroke=\"#000000\" stroke-width=\"1\" width=\"20.0\" x=\"100.0\" y=\"400.0\" /><rect fill=\"#000000\" height=\"20.0\" stroke=\"#000000\" stroke-width=\"1\" width=\"20.0\" x=\"120.0\" y=\"400.0\" /><rect fill=\"#000000\" height=\"20.0\" stroke=\"#000000\" stroke-width=\"1\" width=\"20.0\" x=\"140.0\" y=\"400.0\" /><rect fill=\"#000000\" height=\"20.0\" stroke=\"#000000\" stroke-width=\"1\" width=\"20.0\" x=\"160.0\" y=\"400.0\" /><rect fill=\"#000000\" height=\"20.0\" stroke=\"#000000\" stroke-width=\"1\" width=\"20.0\" x=\"280.0\" y=\"400.0\" /><rect fill=\"#000000\" height=\"20.0\" stroke=\"#000000\" stroke-width=\"1\" width=\"20.0\" x=\"300.0\" y=\"400.0\" /><rect fill=\"#000000\" height=\"20.0\" stroke=\"#000000\" stroke-width=\"1\" width=\"20.0\" x=\"360.0\" y=\"400.0\" /><rect fill=\"#000000\" height=\"20.0\" stroke=\"#000000\" stroke-width=\"1\" width=\"20.0\" x=\"420.0\" y=\"400.0\" /><rect fill=\"#000000\" height=\"20.0\" stroke=\"#000000\" stroke-width=\"1\" width=\"20.0\" x=\"40.0\" y=\"420.0\" /><rect fill=\"#000000\" height=\"20.0\" stroke=\"#000000\" stroke-width=\"1\" width=\"20.0\" x=\"80.0\" y=\"420.0\" /><rect fill=\"#000000\" height=\"20.0\" stroke=\"#000000\" stroke-width=\"1\" width=\"20.0\" x=\"100.0\" y=\"420.0\" /><rect fill=\"#000000\" height=\"20.0\" stroke=\"#000000\" stroke-width=\"1\" width=\"20.0\" x=\"120.0\" y=\"420.0\" /><rect fill=\"#000000\" height=\"20.0\" stroke=\"#000000\" stroke-width=\"1\" width=\"20.0\" x=\"140.0\" y=\"420.0\" /><rect fill=\"#000000\" height=\"20.0\" stroke=\"#000000\" stroke-width=\"1\" width=\"20.0\" x=\"160.0\" y=\"420.0\" /><rect fill=\"#000000\" height=\"20.0\" stroke=\"#000000\" stroke-width=\"1\" width=\"20.0\" x=\"220.0\" y=\"420.0\" /><rect fill=\"#000000\" height=\"20.0\" stroke=\"#000000\" stroke-width=\"1\" width=\"20.0\" x=\"280.0\" y=\"420.0\" /><rect fill=\"#000000\" height=\"20.0\" stroke=\"#000000\" stroke-width=\"1\" width=\"20.0\" x=\"340.0\" y=\"420.0\" /><rect fill=\"#000000\" height=\"20.0\" stroke=\"#000000\" stroke-width=\"1\" width=\"20.0\" x=\"480.0\" y=\"420.0\" /><rect fill=\"#000000\" height=\"20.0\" stroke=\"#000000\" stroke-width=\"1\" width=\"20.0\" x=\"220.0\" y=\"440.0\" /><rect fill=\"#000000\" height=\"20.0\" stroke=\"#000000\" stroke-width=\"1\" width=\"20.0\" x=\"240.0\" y=\"440.0\" /><rect fill=\"#000000\" height=\"20.0\" stroke=\"#000000\" stroke-width=\"1\" width=\"20.0\" x=\"260.0\" y=\"440.0\" /><rect fill=\"#000000\" height=\"20.0\" stroke=\"#000000\" stroke-width=\"1\" width=\"20.0\" x=\"280.0\" y=\"440.0\" /><rect fill=\"#000000\" height=\"20.0\" stroke=\"#000000\" stroke-width=\"1\" width=\"20.0\" x=\"300.0\" y=\"440.0\" /><rect fill=\"#000000\" height=\"20.0\" stroke=\"#000000\" stroke-width=\"1\" width=\"20.0\" x=\"360.0\" y=\"440.0\" /><rect fill=\"#000000\" height=\"20.0\" stroke=\"#000000\" stroke-width=\"1\" width=\"20.0\" x=\"480.0\" y=\"440.0\" /><rect fill=\"#000000\" height=\"20.0\" stroke=\"#000000\" stroke-width=\"1\" width=\"20.0\" x=\"20.0\" y=\"460.0\" /><rect fill=\"#000000\" height=\"20.0\" stroke=\"#000000\" stroke-width=\"1\" width=\"20.0\" x=\"180.0\" y=\"460.0\" /><rect fill=\"#000000\" height=\"20.0\" stroke=\"#000000\" stroke-width=\"1\" width=\"20.0\" x=\"280.0\" y=\"460.0\" /><rect fill=\"#000000\" height=\"20.0\" stroke=\"#000000\" stroke-width=\"1\" width=\"20.0\" x=\"340.0\" y=\"460.0\" /><rect fill=\"#000000\" height=\"20.0\" stroke=\"#000000\" stroke-width=\"1\" width=\"20.0\" x=\"420.0\" y=\"460.0\" /><rect fill=\"#000000\" height=\"20.0\" stroke=\"#000000\" stroke-width=\"1\" width=\"20.0\" x=\"440.0\" y=\"460.0\" /><rect fill=\"#000000\" height=\"20.0\" stroke=\"#000000\" stroke-width=\"1\" width=\"20.0\" x=\"80.0\" y=\"480.0\" /><rect fill=\"#000000\" height=\"20.0\" stroke=\"#000000\" stroke-width=\"1\" width=\"20.0\" x=\"100.0\" y=\"480.0\" /><rect fill=\"#000000\" height=\"20.0\" stroke=\"#000000\" stroke-width=\"1\" width=\"20.0\" x=\"140.0\" y=\"480.0\" /><rect fill=\"#000000\" height=\"20.0\" stroke=\"#000000\" stroke-width=\"1\" width=\"20.0\" x=\"220.0\" y=\"480.0\" /><rect fill=\"#000000\" height=\"20.0\" stroke=\"#000000\" stroke-width=\"1\" width=\"20.0\" x=\"280.0\" y=\"480.0\" /><rect fill=\"#000000\" height=\"20.0\" stroke=\"#000000\" stroke-width=\"1\" width=\"20.0\" x=\"300.0\" y=\"480.0\" /><rect fill=\"#000000\" height=\"20.0\" stroke=\"#000000\" stroke-width=\"1\" width=\"20.0\" x=\"420.0\" y=\"480.0\" /><rect fill=\"#000000\" height=\"20.0\" stroke=\"#000000\" stroke-width=\"1\" width=\"20.0\" x=\"440.0\" y=\"480.0\" /><circle cx=\"200.0\" cy=\"440.0\" fill=\"rgba(255,255,0,0.25098039215686274)\" r=\"5.0\" stroke=\"rgba(255,255,0,0.25098039215686274)\" stroke-width=\"1\" /><line fill=\"#800080\" stroke=\"#add8e6\" stroke-width=\"1\" x1=\"199.02789363605208\" x2=\"193.94793465951403\" y1=\"441.2119728633497\" y2=\"460.0\" /><line fill=\"#800080\" stroke=\"#add8e6\" stroke-width=\"1\" x1=\"197.80692830640785\" x2=\"181.25420011727454\" y1=\"440.36389051840507\" y2=\"460.0\" /><line fill=\"#800080\" stroke=\"#add8e6\" stroke-width=\"1\" x1=\"197.436534873872\" x2=\"109.92675192213105\" y1=\"439.4350155509664\" y2=\"480.0\" /><line fill=\"#800080\" stroke=\"#add8e6\" stroke-width=\"1\" x1=\"197.26707913845723\" x2=\"180.0\" y1=\"438.14610719358205\" y2=\"438.10692600000004\" /><line fill=\"#800080\" stroke=\"#add8e6\" stroke-width=\"1\" x1=\"197.78909960732634\" x2=\"180.0\" y1=\"436.2154351266371\" y2=\"425.89100199999996\" /><line fill=\"#800080\" stroke=\"#add8e6\" stroke-width=\"1\" x1=\"198.58497990538407\" x2=\"180.0\" y1=\"435.18753700368734\" y2=\"408.51683\" /><line fill=\"#800080\" stroke=\"#add8e6\" stroke-width=\"1\" x1=\"199.3729897130152\" x2=\"186.39836552720706\" y1=\"434.57187431757006\" y2=\"360.0\" /><line fill=\"#800080\" stroke=\"#add8e6\" stroke-width=\"1\" x1=\"200.85496527709398\" x2=\"215.57855665678846\" y1=\"434.4546206290422\" y2=\"380.0\" /><line fill=\"#800080\" stroke=\"#add8e6\" stroke-width=\"1\" x1=\"204.71630941098397\" x2=\"219.7221914436509\" y1=\"435.4986615667804\" y2=\"380.0\" /><line fill=\"#800080\" stroke=\"#add8e6\" stroke-width=\"1\" x1=\"205.9372747406282\" x2=\"280.0\" y1=\"436.34674391172507\" y2=\"348.4878800000001\" /><line fill=\"#800080\" stroke=\"#add8e6\" stroke-width=\"1\" x1=\"206.30766817316407\" x2=\"220.0\" y1=\"437.2756188791638\" y2=\"430.92856400000005\" /><line fill=\"#800080\" stroke=\"#add8e6\" stroke-width=\"1\" x1=\"206.47712390857885\" x2=\"220.0\" y1=\"438.5645272365481\" y2=\"438.595214\" /><line fill=\"#800080\" stroke=\"#add8e6\" stroke-width=\"1\" x1=\"205.95510343970972\" x2=\"220.0\" y1=\"440.49519930349305\" y2=\"448.646574\" /><line fill=\"#800080\" stroke=\"#add8e6\" stroke-width=\"1\" x1=\"205.15922314165198\" x2=\"231.97112694110157\" y1=\"441.52309742644275\" y2=\"480.0\" /><line fill=\"#800080\" stroke=\"#add8e6\" stroke-width=\"1\" x1=\"204.37121333402087\" x2=\"214.4383857314104\" y1=\"442.13876011256\" y2=\"500.0\" /><line fill=\"#800080\" stroke=\"#add8e6\" stroke-width=\"1\" x1=\"202.88923776994207\" x2=\"198.09156967044987\" y1=\"442.25601380108793\" y2=\"460.0\" /><line fill=\"#800080\" stroke=\"#ffc0cb\" stroke-width=\"1\" x1=\"197.81479879683442\" x2=\"189.14322117563546\" y1=\"439.95165508157265\" y2=\"444.93199056821624\" /><line fill=\"#800080\" stroke=\"#ffc0cb\" stroke-width=\"1\" x1=\"199.1720520158941\" x2=\"194.19171652925047\" y1=\"434.9319077075157\" y2=\"426.26033008631674\" /><polygon fill=\"red\" points=\"197.11047299779648,438.7253088136656 198.06255760257957,440.95096262891514 203.8545738034146,442.5170240355225 205.79849729904896,441.07440092357655 206.63373004923957,437.9853256164646 205.68164544445648,435.759671801215 199.88962924362144,434.1936103946077 197.9457057479871,435.63623350655354\" stroke=\"red\" stroke-width=\"1\" /><polygon points=\"-1.0,-1.0 0,0 1.0,-1.0 0,1.0\" stroke=\"black\" stroke-width=\"1\" transform=\"translate(201.87210152351804,438.35531721506504) rotate(105.1300143181866)\" /></svg>"
      ],
      "text/plain": [
       "<jyro.simulator.canvas.Canvas at 0x10f883f10>"
      ]
     },
     "execution_count": 33,
     "metadata": {},
     "output_type": "execute_result"
    }
   ],
   "source": [
    "sim.addRobot(robot)\n",
    "canvas = Canvas((500, 500))\n",
    "sim.draw(canvas)"
   ]
  },
  {
   "cell_type": "code",
   "execution_count": 34,
   "metadata": {},
   "outputs": [
    {
     "data": {
      "image/svg+xml": [
       "<svg baseProfile=\"full\" height=\"500\" version=\"1.1\" width=\"500\" xmlns=\"http://www.w3.org/2000/svg\" xmlns:ev=\"http://www.w3.org/2001/xml-events\" xmlns:xlink=\"http://www.w3.org/1999/xlink\"><defs /><rect fill=\"#ffffff\" height=\"500.0\" stroke=\"#000000\" stroke-width=\"1\" width=\"500.0\" x=\"0.0\" y=\"0.0\" /><rect fill=\"#000000\" height=\"20.0\" stroke=\"#000000\" stroke-width=\"1\" width=\"20.0\" x=\"0.0\" y=\"0.0\" /><rect fill=\"#000000\" height=\"20.0\" stroke=\"#000000\" stroke-width=\"1\" width=\"20.0\" x=\"40.0\" y=\"0.0\" /><rect fill=\"#000000\" height=\"20.0\" stroke=\"#000000\" stroke-width=\"1\" width=\"20.0\" x=\"160.0\" y=\"0.0\" /><rect fill=\"#000000\" height=\"20.0\" stroke=\"#000000\" stroke-width=\"1\" width=\"20.0\" x=\"40.0\" y=\"20.0\" /><rect fill=\"#000000\" height=\"20.0\" stroke=\"#000000\" stroke-width=\"1\" width=\"20.0\" x=\"100.0\" y=\"20.0\" /><rect fill=\"#000000\" height=\"20.0\" stroke=\"#000000\" stroke-width=\"1\" width=\"20.0\" x=\"160.0\" y=\"20.0\" /><rect fill=\"#000000\" height=\"20.0\" stroke=\"#000000\" stroke-width=\"1\" width=\"20.0\" x=\"340.0\" y=\"20.0\" /><rect fill=\"#000000\" height=\"20.0\" stroke=\"#000000\" stroke-width=\"1\" width=\"20.0\" x=\"360.0\" y=\"20.0\" /><rect fill=\"#000000\" height=\"20.0\" stroke=\"#000000\" stroke-width=\"1\" width=\"20.0\" x=\"380.0\" y=\"20.0\" /><rect fill=\"#000000\" height=\"20.0\" stroke=\"#000000\" stroke-width=\"1\" width=\"20.0\" x=\"400.0\" y=\"20.0\" /><rect fill=\"#000000\" height=\"20.0\" stroke=\"#000000\" stroke-width=\"1\" width=\"20.0\" x=\"20.0\" y=\"40.0\" /><rect fill=\"#000000\" height=\"20.0\" stroke=\"#000000\" stroke-width=\"1\" width=\"20.0\" x=\"40.0\" y=\"40.0\" /><rect fill=\"#000000\" height=\"20.0\" stroke=\"#000000\" stroke-width=\"1\" width=\"20.0\" x=\"100.0\" y=\"40.0\" /><rect fill=\"#000000\" height=\"20.0\" stroke=\"#000000\" stroke-width=\"1\" width=\"20.0\" x=\"140.0\" y=\"40.0\" /><rect fill=\"#000000\" height=\"20.0\" stroke=\"#000000\" stroke-width=\"1\" width=\"20.0\" x=\"160.0\" y=\"40.0\" /><rect fill=\"#000000\" height=\"20.0\" stroke=\"#000000\" stroke-width=\"1\" width=\"20.0\" x=\"180.0\" y=\"40.0\" /><rect fill=\"#000000\" height=\"20.0\" stroke=\"#000000\" stroke-width=\"1\" width=\"20.0\" x=\"200.0\" y=\"40.0\" /><rect fill=\"#000000\" height=\"20.0\" stroke=\"#000000\" stroke-width=\"1\" width=\"20.0\" x=\"220.0\" y=\"40.0\" /><rect fill=\"#000000\" height=\"20.0\" stroke=\"#000000\" stroke-width=\"1\" width=\"20.0\" x=\"240.0\" y=\"40.0\" /><rect fill=\"#000000\" height=\"20.0\" stroke=\"#000000\" stroke-width=\"1\" width=\"20.0\" x=\"260.0\" y=\"40.0\" /><rect fill=\"#000000\" height=\"20.0\" stroke=\"#000000\" stroke-width=\"1\" width=\"20.0\" x=\"280.0\" y=\"40.0\" /><rect fill=\"#000000\" height=\"20.0\" stroke=\"#000000\" stroke-width=\"1\" width=\"20.0\" x=\"400.0\" y=\"40.0\" /><rect fill=\"#000000\" height=\"20.0\" stroke=\"#000000\" stroke-width=\"1\" width=\"20.0\" x=\"440.0\" y=\"40.0\" /><rect fill=\"#000000\" height=\"20.0\" stroke=\"#000000\" stroke-width=\"1\" width=\"20.0\" x=\"40.0\" y=\"60.0\" /><rect fill=\"#000000\" height=\"20.0\" stroke=\"#000000\" stroke-width=\"1\" width=\"20.0\" x=\"140.0\" y=\"60.0\" /><rect fill=\"#000000\" height=\"20.0\" stroke=\"#000000\" stroke-width=\"1\" width=\"20.0\" x=\"160.0\" y=\"60.0\" /><rect fill=\"#000000\" height=\"20.0\" stroke=\"#000000\" stroke-width=\"1\" width=\"20.0\" x=\"240.0\" y=\"60.0\" /><rect fill=\"#000000\" height=\"20.0\" stroke=\"#000000\" stroke-width=\"1\" width=\"20.0\" x=\"340.0\" y=\"60.0\" /><rect fill=\"#000000\" height=\"20.0\" stroke=\"#000000\" stroke-width=\"1\" width=\"20.0\" x=\"360.0\" y=\"60.0\" /><rect fill=\"#000000\" height=\"20.0\" stroke=\"#000000\" stroke-width=\"1\" width=\"20.0\" x=\"380.0\" y=\"60.0\" /><rect fill=\"#000000\" height=\"20.0\" stroke=\"#000000\" stroke-width=\"1\" width=\"20.0\" x=\"400.0\" y=\"60.0\" /><rect fill=\"#000000\" height=\"20.0\" stroke=\"#000000\" stroke-width=\"1\" width=\"20.0\" x=\"460.0\" y=\"60.0\" /><rect fill=\"#000000\" height=\"20.0\" stroke=\"#000000\" stroke-width=\"1\" width=\"20.0\" x=\"40.0\" y=\"80.0\" /><rect fill=\"#000000\" height=\"20.0\" stroke=\"#000000\" stroke-width=\"1\" width=\"20.0\" x=\"60.0\" y=\"80.0\" /><rect fill=\"#000000\" height=\"20.0\" stroke=\"#000000\" stroke-width=\"1\" width=\"20.0\" x=\"160.0\" y=\"80.0\" /><rect fill=\"#000000\" height=\"20.0\" stroke=\"#000000\" stroke-width=\"1\" width=\"20.0\" x=\"240.0\" y=\"80.0\" /><rect fill=\"#000000\" height=\"20.0\" stroke=\"#000000\" stroke-width=\"1\" width=\"20.0\" x=\"300.0\" y=\"80.0\" /><rect fill=\"#000000\" height=\"20.0\" stroke=\"#000000\" stroke-width=\"1\" width=\"20.0\" x=\"460.0\" y=\"80.0\" /><rect fill=\"#000000\" height=\"20.0\" stroke=\"#000000\" stroke-width=\"1\" width=\"20.0\" x=\"80.0\" y=\"100.0\" /><rect fill=\"#000000\" height=\"20.0\" stroke=\"#000000\" stroke-width=\"1\" width=\"20.0\" x=\"120.0\" y=\"100.0\" /><rect fill=\"#000000\" height=\"20.0\" stroke=\"#000000\" stroke-width=\"1\" width=\"20.0\" x=\"200.0\" y=\"100.0\" /><rect fill=\"#000000\" height=\"20.0\" stroke=\"#000000\" stroke-width=\"1\" width=\"20.0\" x=\"240.0\" y=\"100.0\" /><rect fill=\"#000000\" height=\"20.0\" stroke=\"#000000\" stroke-width=\"1\" width=\"20.0\" x=\"460.0\" y=\"100.0\" /><rect fill=\"#000000\" height=\"20.0\" stroke=\"#000000\" stroke-width=\"1\" width=\"20.0\" x=\"20.0\" y=\"120.0\" /><rect fill=\"#000000\" height=\"20.0\" stroke=\"#000000\" stroke-width=\"1\" width=\"20.0\" x=\"160.0\" y=\"120.0\" /><rect fill=\"#000000\" height=\"20.0\" stroke=\"#000000\" stroke-width=\"1\" width=\"20.0\" x=\"240.0\" y=\"120.0\" /><rect fill=\"#000000\" height=\"20.0\" stroke=\"#000000\" stroke-width=\"1\" width=\"20.0\" x=\"340.0\" y=\"120.0\" /><rect fill=\"#000000\" height=\"20.0\" stroke=\"#000000\" stroke-width=\"1\" width=\"20.0\" x=\"360.0\" y=\"120.0\" /><rect fill=\"#000000\" height=\"20.0\" stroke=\"#000000\" stroke-width=\"1\" width=\"20.0\" x=\"460.0\" y=\"120.0\" /><rect fill=\"#000000\" height=\"20.0\" stroke=\"#000000\" stroke-width=\"1\" width=\"20.0\" x=\"0.0\" y=\"140.0\" /><rect fill=\"#000000\" height=\"20.0\" stroke=\"#000000\" stroke-width=\"1\" width=\"20.0\" x=\"20.0\" y=\"140.0\" /><rect fill=\"#000000\" height=\"20.0\" stroke=\"#000000\" stroke-width=\"1\" width=\"20.0\" x=\"80.0\" y=\"140.0\" /><rect fill=\"#000000\" height=\"20.0\" stroke=\"#000000\" stroke-width=\"1\" width=\"20.0\" x=\"100.0\" y=\"140.0\" /><rect fill=\"#000000\" height=\"20.0\" stroke=\"#000000\" stroke-width=\"1\" width=\"20.0\" x=\"120.0\" y=\"140.0\" /><rect fill=\"#000000\" height=\"20.0\" stroke=\"#000000\" stroke-width=\"1\" width=\"20.0\" x=\"140.0\" y=\"140.0\" /><rect fill=\"#000000\" height=\"20.0\" stroke=\"#000000\" stroke-width=\"1\" width=\"20.0\" x=\"160.0\" y=\"140.0\" /><rect fill=\"#000000\" height=\"20.0\" stroke=\"#000000\" stroke-width=\"1\" width=\"20.0\" x=\"240.0\" y=\"140.0\" /><rect fill=\"#000000\" height=\"20.0\" stroke=\"#000000\" stroke-width=\"1\" width=\"20.0\" x=\"320.0\" y=\"140.0\" /><rect fill=\"#000000\" height=\"20.0\" stroke=\"#000000\" stroke-width=\"1\" width=\"20.0\" x=\"340.0\" y=\"140.0\" /><rect fill=\"#000000\" height=\"20.0\" stroke=\"#000000\" stroke-width=\"1\" width=\"20.0\" x=\"360.0\" y=\"140.0\" /><rect fill=\"#000000\" height=\"20.0\" stroke=\"#000000\" stroke-width=\"1\" width=\"20.0\" x=\"380.0\" y=\"140.0\" /><rect fill=\"#000000\" height=\"20.0\" stroke=\"#000000\" stroke-width=\"1\" width=\"20.0\" x=\"400.0\" y=\"140.0\" /><rect fill=\"#000000\" height=\"20.0\" stroke=\"#000000\" stroke-width=\"1\" width=\"20.0\" x=\"420.0\" y=\"140.0\" /><rect fill=\"#000000\" height=\"20.0\" stroke=\"#000000\" stroke-width=\"1\" width=\"20.0\" x=\"0.0\" y=\"160.0\" /><rect fill=\"#000000\" height=\"20.0\" stroke=\"#000000\" stroke-width=\"1\" width=\"20.0\" x=\"20.0\" y=\"160.0\" /><rect fill=\"#000000\" height=\"20.0\" stroke=\"#000000\" stroke-width=\"1\" width=\"20.0\" x=\"80.0\" y=\"160.0\" /><rect fill=\"#000000\" height=\"20.0\" stroke=\"#000000\" stroke-width=\"1\" width=\"20.0\" x=\"100.0\" y=\"160.0\" /><rect fill=\"#000000\" height=\"20.0\" stroke=\"#000000\" stroke-width=\"1\" width=\"20.0\" x=\"120.0\" y=\"160.0\" /><rect fill=\"#000000\" height=\"20.0\" stroke=\"#000000\" stroke-width=\"1\" width=\"20.0\" x=\"160.0\" y=\"160.0\" /><rect fill=\"#000000\" height=\"20.0\" stroke=\"#000000\" stroke-width=\"1\" width=\"20.0\" x=\"260.0\" y=\"160.0\" /><rect fill=\"#000000\" height=\"20.0\" stroke=\"#000000\" stroke-width=\"1\" width=\"20.0\" x=\"340.0\" y=\"160.0\" /><rect fill=\"#000000\" height=\"20.0\" stroke=\"#000000\" stroke-width=\"1\" width=\"20.0\" x=\"360.0\" y=\"160.0\" /><rect fill=\"#000000\" height=\"20.0\" stroke=\"#000000\" stroke-width=\"1\" width=\"20.0\" x=\"0.0\" y=\"180.0\" /><rect fill=\"#000000\" height=\"20.0\" stroke=\"#000000\" stroke-width=\"1\" width=\"20.0\" x=\"20.0\" y=\"180.0\" /><rect fill=\"#000000\" height=\"20.0\" stroke=\"#000000\" stroke-width=\"1\" width=\"20.0\" x=\"120.0\" y=\"180.0\" /><rect fill=\"#000000\" height=\"20.0\" stroke=\"#000000\" stroke-width=\"1\" width=\"20.0\" x=\"440.0\" y=\"180.0\" /><rect fill=\"#000000\" height=\"20.0\" stroke=\"#000000\" stroke-width=\"1\" width=\"20.0\" x=\"60.0\" y=\"200.0\" /><rect fill=\"#000000\" height=\"20.0\" stroke=\"#000000\" stroke-width=\"1\" width=\"20.0\" x=\"120.0\" y=\"200.0\" /><rect fill=\"#000000\" height=\"20.0\" stroke=\"#000000\" stroke-width=\"1\" width=\"20.0\" x=\"220.0\" y=\"200.0\" /><rect fill=\"#000000\" height=\"20.0\" stroke=\"#000000\" stroke-width=\"1\" width=\"20.0\" x=\"300.0\" y=\"200.0\" /><rect fill=\"#000000\" height=\"20.0\" stroke=\"#000000\" stroke-width=\"1\" width=\"20.0\" x=\"420.0\" y=\"200.0\" /><rect fill=\"#000000\" height=\"20.0\" stroke=\"#000000\" stroke-width=\"1\" width=\"20.0\" x=\"440.0\" y=\"200.0\" /><rect fill=\"#000000\" height=\"20.0\" stroke=\"#000000\" stroke-width=\"1\" width=\"20.0\" x=\"460.0\" y=\"200.0\" /><rect fill=\"#000000\" height=\"20.0\" stroke=\"#000000\" stroke-width=\"1\" width=\"20.0\" x=\"480.0\" y=\"200.0\" /><rect fill=\"#000000\" height=\"20.0\" stroke=\"#000000\" stroke-width=\"1\" width=\"20.0\" x=\"60.0\" y=\"220.0\" /><rect fill=\"#000000\" height=\"20.0\" stroke=\"#000000\" stroke-width=\"1\" width=\"20.0\" x=\"120.0\" y=\"220.0\" /><rect fill=\"#000000\" height=\"20.0\" stroke=\"#000000\" stroke-width=\"1\" width=\"20.0\" x=\"140.0\" y=\"220.0\" /><rect fill=\"#000000\" height=\"20.0\" stroke=\"#000000\" stroke-width=\"1\" width=\"20.0\" x=\"160.0\" y=\"220.0\" /><rect fill=\"#000000\" height=\"20.0\" stroke=\"#000000\" stroke-width=\"1\" width=\"20.0\" x=\"180.0\" y=\"220.0\" /><rect fill=\"#000000\" height=\"20.0\" stroke=\"#000000\" stroke-width=\"1\" width=\"20.0\" x=\"200.0\" y=\"220.0\" /><rect fill=\"#000000\" height=\"20.0\" stroke=\"#000000\" stroke-width=\"1\" width=\"20.0\" x=\"220.0\" y=\"220.0\" /><rect fill=\"#000000\" height=\"20.0\" stroke=\"#000000\" stroke-width=\"1\" width=\"20.0\" x=\"240.0\" y=\"220.0\" /><rect fill=\"#000000\" height=\"20.0\" stroke=\"#000000\" stroke-width=\"1\" width=\"20.0\" x=\"380.0\" y=\"220.0\" /><rect fill=\"#000000\" height=\"20.0\" stroke=\"#000000\" stroke-width=\"1\" width=\"20.0\" x=\"0.0\" y=\"240.0\" /><rect fill=\"#000000\" height=\"20.0\" stroke=\"#000000\" stroke-width=\"1\" width=\"20.0\" x=\"20.0\" y=\"240.0\" /><rect fill=\"#000000\" height=\"20.0\" stroke=\"#000000\" stroke-width=\"1\" width=\"20.0\" x=\"40.0\" y=\"240.0\" /><rect fill=\"#000000\" height=\"20.0\" stroke=\"#000000\" stroke-width=\"1\" width=\"20.0\" x=\"60.0\" y=\"240.0\" /><rect fill=\"#000000\" height=\"20.0\" stroke=\"#000000\" stroke-width=\"1\" width=\"20.0\" x=\"120.0\" y=\"240.0\" /><rect fill=\"#000000\" height=\"20.0\" stroke=\"#000000\" stroke-width=\"1\" width=\"20.0\" x=\"340.0\" y=\"240.0\" /><rect fill=\"#000000\" height=\"20.0\" stroke=\"#000000\" stroke-width=\"1\" width=\"20.0\" x=\"40.0\" y=\"260.0\" /><rect fill=\"#000000\" height=\"20.0\" stroke=\"#000000\" stroke-width=\"1\" width=\"20.0\" x=\"120.0\" y=\"260.0\" /><rect fill=\"#000000\" height=\"20.0\" stroke=\"#000000\" stroke-width=\"1\" width=\"20.0\" x=\"440.0\" y=\"260.0\" /><rect fill=\"#000000\" height=\"20.0\" stroke=\"#000000\" stroke-width=\"1\" width=\"20.0\" x=\"40.0\" y=\"280.0\" /><rect fill=\"#000000\" height=\"20.0\" stroke=\"#000000\" stroke-width=\"1\" width=\"20.0\" x=\"200.0\" y=\"280.0\" /><rect fill=\"#000000\" height=\"20.0\" stroke=\"#000000\" stroke-width=\"1\" width=\"20.0\" x=\"280.0\" y=\"280.0\" /><rect fill=\"#000000\" height=\"20.0\" stroke=\"#000000\" stroke-width=\"1\" width=\"20.0\" x=\"300.0\" y=\"280.0\" /><rect fill=\"#000000\" height=\"20.0\" stroke=\"#000000\" stroke-width=\"1\" width=\"20.0\" x=\"400.0\" y=\"280.0\" /><rect fill=\"#000000\" height=\"20.0\" stroke=\"#000000\" stroke-width=\"1\" width=\"20.0\" x=\"420.0\" y=\"280.0\" /><rect fill=\"#000000\" height=\"20.0\" stroke=\"#000000\" stroke-width=\"1\" width=\"20.0\" x=\"440.0\" y=\"280.0\" /><rect fill=\"#000000\" height=\"20.0\" stroke=\"#000000\" stroke-width=\"1\" width=\"20.0\" x=\"140.0\" y=\"300.0\" /><rect fill=\"#000000\" height=\"20.0\" stroke=\"#000000\" stroke-width=\"1\" width=\"20.0\" x=\"160.0\" y=\"300.0\" /><rect fill=\"#000000\" height=\"20.0\" stroke=\"#000000\" stroke-width=\"1\" width=\"20.0\" x=\"180.0\" y=\"300.0\" /><rect fill=\"#000000\" height=\"20.0\" stroke=\"#000000\" stroke-width=\"1\" width=\"20.0\" x=\"200.0\" y=\"300.0\" /><rect fill=\"#000000\" height=\"20.0\" stroke=\"#000000\" stroke-width=\"1\" width=\"20.0\" x=\"280.0\" y=\"300.0\" /><rect fill=\"#000000\" height=\"20.0\" stroke=\"#000000\" stroke-width=\"1\" width=\"20.0\" x=\"340.0\" y=\"300.0\" /><rect fill=\"#000000\" height=\"20.0\" stroke=\"#000000\" stroke-width=\"1\" width=\"20.0\" x=\"420.0\" y=\"300.0\" /><rect fill=\"#000000\" height=\"20.0\" stroke=\"#000000\" stroke-width=\"1\" width=\"20.0\" x=\"80.0\" y=\"320.0\" /><rect fill=\"#000000\" height=\"20.0\" stroke=\"#000000\" stroke-width=\"1\" width=\"20.0\" x=\"160.0\" y=\"320.0\" /><rect fill=\"#000000\" height=\"20.0\" stroke=\"#000000\" stroke-width=\"1\" width=\"20.0\" x=\"180.0\" y=\"320.0\" /><rect fill=\"#000000\" height=\"20.0\" stroke=\"#000000\" stroke-width=\"1\" width=\"20.0\" x=\"200.0\" y=\"320.0\" /><rect fill=\"#000000\" height=\"20.0\" stroke=\"#000000\" stroke-width=\"1\" width=\"20.0\" x=\"280.0\" y=\"320.0\" /><rect fill=\"#000000\" height=\"20.0\" stroke=\"#000000\" stroke-width=\"1\" width=\"20.0\" x=\"300.0\" y=\"320.0\" /><rect fill=\"#000000\" height=\"20.0\" stroke=\"#000000\" stroke-width=\"1\" width=\"20.0\" x=\"360.0\" y=\"320.0\" /><rect fill=\"#000000\" height=\"20.0\" stroke=\"#000000\" stroke-width=\"1\" width=\"20.0\" x=\"420.0\" y=\"320.0\" /><rect fill=\"#000000\" height=\"20.0\" stroke=\"#000000\" stroke-width=\"1\" width=\"20.0\" x=\"20.0\" y=\"340.0\" /><rect fill=\"#000000\" height=\"20.0\" stroke=\"#000000\" stroke-width=\"1\" width=\"20.0\" x=\"80.0\" y=\"340.0\" /><rect fill=\"#000000\" height=\"20.0\" stroke=\"#000000\" stroke-width=\"1\" width=\"20.0\" x=\"100.0\" y=\"340.0\" /><rect fill=\"#000000\" height=\"20.0\" stroke=\"#000000\" stroke-width=\"1\" width=\"20.0\" x=\"180.0\" y=\"340.0\" /><rect fill=\"#000000\" height=\"20.0\" stroke=\"#000000\" stroke-width=\"1\" width=\"20.0\" x=\"200.0\" y=\"340.0\" /><rect fill=\"#000000\" height=\"20.0\" stroke=\"#000000\" stroke-width=\"1\" width=\"20.0\" x=\"280.0\" y=\"340.0\" /><rect fill=\"#000000\" height=\"20.0\" stroke=\"#000000\" stroke-width=\"1\" width=\"20.0\" x=\"340.0\" y=\"340.0\" /><rect fill=\"#000000\" height=\"20.0\" stroke=\"#000000\" stroke-width=\"1\" width=\"20.0\" x=\"420.0\" y=\"340.0\" /><rect fill=\"#000000\" height=\"20.0\" stroke=\"#000000\" stroke-width=\"1\" width=\"20.0\" x=\"20.0\" y=\"360.0\" /><rect fill=\"#000000\" height=\"20.0\" stroke=\"#000000\" stroke-width=\"1\" width=\"20.0\" x=\"80.0\" y=\"360.0\" /><rect fill=\"#000000\" height=\"20.0\" stroke=\"#000000\" stroke-width=\"1\" width=\"20.0\" x=\"100.0\" y=\"360.0\" /><rect fill=\"#000000\" height=\"20.0\" stroke=\"#000000\" stroke-width=\"1\" width=\"20.0\" x=\"120.0\" y=\"360.0\" /><rect fill=\"#000000\" height=\"20.0\" stroke=\"#000000\" stroke-width=\"1\" width=\"20.0\" x=\"200.0\" y=\"360.0\" /><rect fill=\"#000000\" height=\"20.0\" stroke=\"#000000\" stroke-width=\"1\" width=\"20.0\" x=\"280.0\" y=\"360.0\" /><rect fill=\"#000000\" height=\"20.0\" stroke=\"#000000\" stroke-width=\"1\" width=\"20.0\" x=\"300.0\" y=\"360.0\" /><rect fill=\"#000000\" height=\"20.0\" stroke=\"#000000\" stroke-width=\"1\" width=\"20.0\" x=\"360.0\" y=\"360.0\" /><rect fill=\"#000000\" height=\"20.0\" stroke=\"#000000\" stroke-width=\"1\" width=\"20.0\" x=\"420.0\" y=\"360.0\" /><rect fill=\"#000000\" height=\"20.0\" stroke=\"#000000\" stroke-width=\"1\" width=\"20.0\" x=\"460.0\" y=\"360.0\" /><rect fill=\"#000000\" height=\"20.0\" stroke=\"#000000\" stroke-width=\"1\" width=\"20.0\" x=\"480.0\" y=\"360.0\" /><rect fill=\"#000000\" height=\"20.0\" stroke=\"#000000\" stroke-width=\"1\" width=\"20.0\" x=\"20.0\" y=\"380.0\" /><rect fill=\"#000000\" height=\"20.0\" stroke=\"#000000\" stroke-width=\"1\" width=\"20.0\" x=\"80.0\" y=\"380.0\" /><rect fill=\"#000000\" height=\"20.0\" stroke=\"#000000\" stroke-width=\"1\" width=\"20.0\" x=\"100.0\" y=\"380.0\" /><rect fill=\"#000000\" height=\"20.0\" stroke=\"#000000\" stroke-width=\"1\" width=\"20.0\" x=\"120.0\" y=\"380.0\" /><rect fill=\"#000000\" height=\"20.0\" stroke=\"#000000\" stroke-width=\"1\" width=\"20.0\" x=\"140.0\" y=\"380.0\" /><rect fill=\"#000000\" height=\"20.0\" stroke=\"#000000\" stroke-width=\"1\" width=\"20.0\" x=\"280.0\" y=\"380.0\" /><rect fill=\"#000000\" height=\"20.0\" stroke=\"#000000\" stroke-width=\"1\" width=\"20.0\" x=\"340.0\" y=\"380.0\" /><rect fill=\"#000000\" height=\"20.0\" stroke=\"#000000\" stroke-width=\"1\" width=\"20.0\" x=\"420.0\" y=\"380.0\" /><rect fill=\"#000000\" height=\"20.0\" stroke=\"#000000\" stroke-width=\"1\" width=\"20.0\" x=\"20.0\" y=\"400.0\" /><rect fill=\"#000000\" height=\"20.0\" stroke=\"#000000\" stroke-width=\"1\" width=\"20.0\" x=\"80.0\" y=\"400.0\" /><rect fill=\"#000000\" height=\"20.0\" stroke=\"#000000\" stroke-width=\"1\" width=\"20.0\" x=\"100.0\" y=\"400.0\" /><rect fill=\"#000000\" height=\"20.0\" stroke=\"#000000\" stroke-width=\"1\" width=\"20.0\" x=\"120.0\" y=\"400.0\" /><rect fill=\"#000000\" height=\"20.0\" stroke=\"#000000\" stroke-width=\"1\" width=\"20.0\" x=\"140.0\" y=\"400.0\" /><rect fill=\"#000000\" height=\"20.0\" stroke=\"#000000\" stroke-width=\"1\" width=\"20.0\" x=\"160.0\" y=\"400.0\" /><rect fill=\"#000000\" height=\"20.0\" stroke=\"#000000\" stroke-width=\"1\" width=\"20.0\" x=\"280.0\" y=\"400.0\" /><rect fill=\"#000000\" height=\"20.0\" stroke=\"#000000\" stroke-width=\"1\" width=\"20.0\" x=\"300.0\" y=\"400.0\" /><rect fill=\"#000000\" height=\"20.0\" stroke=\"#000000\" stroke-width=\"1\" width=\"20.0\" x=\"360.0\" y=\"400.0\" /><rect fill=\"#000000\" height=\"20.0\" stroke=\"#000000\" stroke-width=\"1\" width=\"20.0\" x=\"420.0\" y=\"400.0\" /><rect fill=\"#000000\" height=\"20.0\" stroke=\"#000000\" stroke-width=\"1\" width=\"20.0\" x=\"40.0\" y=\"420.0\" /><rect fill=\"#000000\" height=\"20.0\" stroke=\"#000000\" stroke-width=\"1\" width=\"20.0\" x=\"80.0\" y=\"420.0\" /><rect fill=\"#000000\" height=\"20.0\" stroke=\"#000000\" stroke-width=\"1\" width=\"20.0\" x=\"100.0\" y=\"420.0\" /><rect fill=\"#000000\" height=\"20.0\" stroke=\"#000000\" stroke-width=\"1\" width=\"20.0\" x=\"120.0\" y=\"420.0\" /><rect fill=\"#000000\" height=\"20.0\" stroke=\"#000000\" stroke-width=\"1\" width=\"20.0\" x=\"140.0\" y=\"420.0\" /><rect fill=\"#000000\" height=\"20.0\" stroke=\"#000000\" stroke-width=\"1\" width=\"20.0\" x=\"160.0\" y=\"420.0\" /><rect fill=\"#000000\" height=\"20.0\" stroke=\"#000000\" stroke-width=\"1\" width=\"20.0\" x=\"220.0\" y=\"420.0\" /><rect fill=\"#000000\" height=\"20.0\" stroke=\"#000000\" stroke-width=\"1\" width=\"20.0\" x=\"280.0\" y=\"420.0\" /><rect fill=\"#000000\" height=\"20.0\" stroke=\"#000000\" stroke-width=\"1\" width=\"20.0\" x=\"340.0\" y=\"420.0\" /><rect fill=\"#000000\" height=\"20.0\" stroke=\"#000000\" stroke-width=\"1\" width=\"20.0\" x=\"480.0\" y=\"420.0\" /><rect fill=\"#000000\" height=\"20.0\" stroke=\"#000000\" stroke-width=\"1\" width=\"20.0\" x=\"220.0\" y=\"440.0\" /><rect fill=\"#000000\" height=\"20.0\" stroke=\"#000000\" stroke-width=\"1\" width=\"20.0\" x=\"240.0\" y=\"440.0\" /><rect fill=\"#000000\" height=\"20.0\" stroke=\"#000000\" stroke-width=\"1\" width=\"20.0\" x=\"260.0\" y=\"440.0\" /><rect fill=\"#000000\" height=\"20.0\" stroke=\"#000000\" stroke-width=\"1\" width=\"20.0\" x=\"280.0\" y=\"440.0\" /><rect fill=\"#000000\" height=\"20.0\" stroke=\"#000000\" stroke-width=\"1\" width=\"20.0\" x=\"300.0\" y=\"440.0\" /><rect fill=\"#000000\" height=\"20.0\" stroke=\"#000000\" stroke-width=\"1\" width=\"20.0\" x=\"360.0\" y=\"440.0\" /><rect fill=\"#000000\" height=\"20.0\" stroke=\"#000000\" stroke-width=\"1\" width=\"20.0\" x=\"480.0\" y=\"440.0\" /><rect fill=\"#000000\" height=\"20.0\" stroke=\"#000000\" stroke-width=\"1\" width=\"20.0\" x=\"20.0\" y=\"460.0\" /><rect fill=\"#000000\" height=\"20.0\" stroke=\"#000000\" stroke-width=\"1\" width=\"20.0\" x=\"180.0\" y=\"460.0\" /><rect fill=\"#000000\" height=\"20.0\" stroke=\"#000000\" stroke-width=\"1\" width=\"20.0\" x=\"280.0\" y=\"460.0\" /><rect fill=\"#000000\" height=\"20.0\" stroke=\"#000000\" stroke-width=\"1\" width=\"20.0\" x=\"340.0\" y=\"460.0\" /><rect fill=\"#000000\" height=\"20.0\" stroke=\"#000000\" stroke-width=\"1\" width=\"20.0\" x=\"420.0\" y=\"460.0\" /><rect fill=\"#000000\" height=\"20.0\" stroke=\"#000000\" stroke-width=\"1\" width=\"20.0\" x=\"440.0\" y=\"460.0\" /><rect fill=\"#000000\" height=\"20.0\" stroke=\"#000000\" stroke-width=\"1\" width=\"20.0\" x=\"80.0\" y=\"480.0\" /><rect fill=\"#000000\" height=\"20.0\" stroke=\"#000000\" stroke-width=\"1\" width=\"20.0\" x=\"100.0\" y=\"480.0\" /><rect fill=\"#000000\" height=\"20.0\" stroke=\"#000000\" stroke-width=\"1\" width=\"20.0\" x=\"140.0\" y=\"480.0\" /><rect fill=\"#000000\" height=\"20.0\" stroke=\"#000000\" stroke-width=\"1\" width=\"20.0\" x=\"220.0\" y=\"480.0\" /><rect fill=\"#000000\" height=\"20.0\" stroke=\"#000000\" stroke-width=\"1\" width=\"20.0\" x=\"280.0\" y=\"480.0\" /><rect fill=\"#000000\" height=\"20.0\" stroke=\"#000000\" stroke-width=\"1\" width=\"20.0\" x=\"300.0\" y=\"480.0\" /><rect fill=\"#000000\" height=\"20.0\" stroke=\"#000000\" stroke-width=\"1\" width=\"20.0\" x=\"420.0\" y=\"480.0\" /><rect fill=\"#000000\" height=\"20.0\" stroke=\"#000000\" stroke-width=\"1\" width=\"20.0\" x=\"440.0\" y=\"480.0\" /><circle cx=\"200.0\" cy=\"440.0\" fill=\"rgba(255,255,0,0.25098039215686274)\" r=\"5.0\" stroke=\"rgba(255,255,0,0.25098039215686274)\" stroke-width=\"1\" /><line fill=\"#800080\" stroke=\"#add8e6\" stroke-width=\"1\" x1=\"192.50843855723713\" x2=\"100.0\" y1=\"373.90596177405854\" y2=\"322.149998\" /><line fill=\"#800080\" stroke=\"#add8e6\" stroke-width=\"1\" x1=\"193.62834395030546\" x2=\"184.31301196006146\" y1=\"372.9283054384393\" y2=\"360.0\" /><line fill=\"#800080\" stroke=\"#add8e6\" stroke-width=\"1\" x1=\"194.61945747184959\" x2=\"192.18460397171657\" y1=\"372.79528669009005\" y2=\"360.0\" /><line fill=\"#800080\" stroke=\"#add8e6\" stroke-width=\"1\" x1=\"195.91082650846698\" x2=\"199.1925838101448\" y1=\"372.9448393940641\" y2=\"360.0\" /><line fill=\"#800080\" stroke=\"#add8e6\" stroke-width=\"1\" x1=\"197.65623064095664\" x2=\"200.0\" y1=\"373.92134562255825\" y2=\"371.513368\" /><line fill=\"#800080\" stroke=\"#add8e6\" stroke-width=\"1\" x1=\"198.4593465633269\" x2=\"200.0\" y1=\"374.9436003927772\" y2=\"374.359156\" /><line fill=\"#800080\" stroke=\"#add8e6\" stroke-width=\"1\" x1=\"198.86455634777457\" x2=\"200.0\" y1=\"375.8578241239218\" y2=\"375.94172000000003\" /><line fill=\"#800080\" stroke=\"#add8e6\" stroke-width=\"1\" x1=\"198.61735302095104\" x2=\"200.0\" y1=\"377.32373357378805\" y2=\"378.097286\" /><line fill=\"#800080\" stroke=\"#add8e6\" stroke-width=\"1\" x1=\"196.66434056396272\" x2=\"280.0\" y1=\"380.81454183876747\" y2=\"427.438578\" /><line fill=\"#800080\" stroke=\"#add8e6\" stroke-width=\"1\" x1=\"195.5444351708944\" x2=\"223.07459618367227\" y1=\"381.7921981743867\" y2=\"420.0\" /><line fill=\"#800080\" stroke=\"#add8e6\" stroke-width=\"1\" x1=\"194.55332164935027\" x2=\"217.0221322990323\" y1=\"381.92521692273596\" y2=\"500.0\" /><line fill=\"#800080\" stroke=\"#add8e6\" stroke-width=\"1\" x1=\"193.26195261273287\" x2=\"180.0\" y1=\"381.77566421876185\" y2=\"434.08721799999995\" /><line fill=\"#800080\" stroke=\"#add8e6\" stroke-width=\"1\" x1=\"191.51654848024322\" x2=\"172.82769683145392\" y1=\"380.7991579902677\" y2=\"400.0\" /><line fill=\"#800080\" stroke=\"#add8e6\" stroke-width=\"1\" x1=\"190.71343255787295\" x2=\"160.0\" y1=\"379.7769032200488\" y2=\"391.428002\" /><line fill=\"#800080\" stroke=\"#add8e6\" stroke-width=\"1\" x1=\"190.3082227734253\" x2=\"140.0\" y1=\"378.8626794889042\" y2=\"375.14547\" /><line fill=\"#800080\" stroke=\"#add8e6\" stroke-width=\"1\" x1=\"190.55542610024878\" x2=\"100.0\" y1=\"377.39677003903796\" y2=\"326.733464\" /><line fill=\"#800080\" stroke=\"#ffc0cb\" stroke-width=\"1\" x1=\"194.02625008822812\" x2=\"191.30778547845136\" y1=\"373.0363364775136\" y2=\"363.4129301073456\" /><line fill=\"#800080\" stroke=\"#add8e6\" stroke-width=\"1\" x1=\"198.56430083270135\" x2=\"200.0\" y1=\"375.5752526715985\" y2=\"375.16969000000006\" /><polygon fill=\"white\" points=\"195.38720526872,372.65188752551586 192.99669167148423,373.03325970781367 190.0671729860017,378.2694721052827 190.9929272404963,380.50620612171946 193.78557385247984,382.0686160873101 196.17608744971562,381.68724390501234 199.10560613519812,376.45103150754323 198.17985188070355,374.2142974911065\" stroke=\"black\" stroke-width=\"1\" /><polygon points=\"-1.0,-1.0 0,0 1.0,-1.0 0,1.0\" stroke=\"black\" stroke-width=\"1\" transform=\"translate(194.5863895605999,377.360251806413) rotate(-150.77417162584698)\" /></svg>"
      ],
      "text/plain": [
       "<jyro.simulator.canvas.Canvas at 0x10f883f10>"
      ]
     },
     "metadata": {},
     "output_type": "display_data"
    },
    {
     "name": "stdout",
     "output_type": "stream",
     "text": [
      "[5.300115779577163, 0.7967378902434918, 0.6512446886983265, 0.6677177888078245, 0.1680149982991398, 0.08238916095051613, 0.05692696232788046, 0.07921635970587099, 4.7745766724823095, 2.354647448821588, 6.009680116167323, 2.698322651549116, 1.33972527275825, 1.6424547100485212, 2.5222682504966554, 5.188221215621764] [0.5, 0.07459415234862617]\n",
      "1\n"
     ]
    },
    {
     "ename": "KeyboardInterrupt",
     "evalue": "",
     "output_type": "error",
     "traceback": [
      "\u001b[0;31m---------------------------------------------------------------------------\u001b[0m",
      "\u001b[0;31mKeyboardInterrupt\u001b[0m                         Traceback (most recent call last)",
      "File \u001b[0;32m<timed exec>:4\u001b[0m\n",
      "File \u001b[0;32m/opt/homebrew/Caskroom/miniconda/base/envs/pymc/lib/python3.11/site-packages/jyro/simulator/simulator.py:342\u001b[0m, in \u001b[0;36mPhysics.step\u001b[0;34m(self, run_brain)\u001b[0m\n\u001b[1;32m    340\u001b[0m     collision \u001b[38;5;241m=\u001b[39m r\u001b[38;5;241m.\u001b[39mstep(\u001b[38;5;28mself\u001b[39m\u001b[38;5;241m.\u001b[39mtimeslice)\n\u001b[1;32m    341\u001b[0m \u001b[38;5;28;01mfor\u001b[39;00m r \u001b[38;5;129;01min\u001b[39;00m \u001b[38;5;28mself\u001b[39m\u001b[38;5;241m.\u001b[39mrobots:\n\u001b[0;32m--> 342\u001b[0m     \u001b[43mr\u001b[49m\u001b[38;5;241;43m.\u001b[39;49m\u001b[43mupdateDevices\u001b[49m\u001b[43m(\u001b[49m\u001b[43m)\u001b[49m\n\u001b[1;32m    343\u001b[0m \u001b[38;5;28mself\u001b[39m\u001b[38;5;241m.\u001b[39mstepCount \u001b[38;5;241m+\u001b[39m\u001b[38;5;241m=\u001b[39m \u001b[38;5;241m1\u001b[39m\n",
      "File \u001b[0;32m/opt/homebrew/Caskroom/miniconda/base/envs/pymc/lib/python3.11/site-packages/jyro/simulator/robot.py:182\u001b[0m, in \u001b[0;36mRobot.updateDevices\u001b[0;34m(self)\u001b[0m\n\u001b[1;32m    180\u001b[0m \u001b[38;5;28;01mfor\u001b[39;00m device \u001b[38;5;129;01min\u001b[39;00m \u001b[38;5;28mself\u001b[39m\u001b[38;5;241m.\u001b[39mdevices:\n\u001b[1;32m    181\u001b[0m     \u001b[38;5;28;01mif\u001b[39;00m device\u001b[38;5;241m.\u001b[39mactive:\n\u001b[0;32m--> 182\u001b[0m         \u001b[43mdevice\u001b[49m\u001b[38;5;241;43m.\u001b[39;49m\u001b[43mupdate\u001b[49m\u001b[43m(\u001b[49m\u001b[38;5;28;43mself\u001b[39;49m\u001b[43m)\u001b[49m\n",
      "File \u001b[0;32m/opt/homebrew/Caskroom/miniconda/base/envs/pymc/lib/python3.11/site-packages/jyro/simulator/device.py:111\u001b[0m, in \u001b[0;36mRangeSensor.update\u001b[0;34m(self, robot)\u001b[0m\n\u001b[1;32m    109\u001b[0m     \u001b[38;5;28mself\u001b[39m\u001b[38;5;241m.\u001b[39mscan[i] \u001b[38;5;241m=\u001b[39m \u001b[38;5;241m0\u001b[39m\n\u001b[1;32m    110\u001b[0m     \u001b[38;5;28;01mcontinue\u001b[39;00m\n\u001b[0;32m--> 111\u001b[0m dist, hit, obj \u001b[38;5;241m=\u001b[39m \u001b[43mrobot\u001b[49m\u001b[38;5;241;43m.\u001b[39;49m\u001b[43mphysics\u001b[49m\u001b[38;5;241;43m.\u001b[39;49m\u001b[43mcastRay\u001b[49m\u001b[43m(\u001b[49m\u001b[43mrobot\u001b[49m\u001b[43m,\u001b[49m\u001b[43m \u001b[49m\u001b[43mgx\u001b[49m\u001b[43m,\u001b[49m\u001b[43m \u001b[49m\u001b[43mgy\u001b[49m\u001b[43m,\u001b[49m\u001b[43m \u001b[49m\u001b[38;5;241;43m-\u001b[39;49m\u001b[43mga\u001b[49m\u001b[43m,\u001b[49m\u001b[43m \u001b[49m\u001b[38;5;28;43mself\u001b[39;49m\u001b[38;5;241;43m.\u001b[39;49m\u001b[43mmaxRange\u001b[49m\u001b[43m,\u001b[49m\u001b[43m \u001b[49m\u001b[43mrayType\u001b[49m\u001b[38;5;241;43m=\u001b[39;49m\u001b[38;5;124;43m\"\u001b[39;49m\u001b[38;5;124;43mrange\u001b[39;49m\u001b[38;5;124;43m\"\u001b[39;49m\u001b[43m)\u001b[49m\n\u001b[1;32m    112\u001b[0m \u001b[38;5;28;01mif\u001b[39;00m hit:\n\u001b[1;32m    113\u001b[0m     \u001b[38;5;28;01mif\u001b[39;00m robot\u001b[38;5;241m.\u001b[39mdisplay[\u001b[38;5;124m\"\u001b[39m\u001b[38;5;124mdevices\u001b[39m\u001b[38;5;124m\"\u001b[39m] \u001b[38;5;241m==\u001b[39m \u001b[38;5;241m1\u001b[39m:\n",
      "File \u001b[0;32m/opt/homebrew/Caskroom/miniconda/base/envs/pymc/lib/python3.11/site-packages/jyro/simulator/simulator.py:356\u001b[0m, in \u001b[0;36mPhysics.castRay\u001b[0;34m(self, robot, x1, y1, a, maxRange, ignoreRobot, rayType)\u001b[0m\n\u001b[1;32m    353\u001b[0m \u001b[38;5;28;01mif\u001b[39;00m (rayType \u001b[38;5;241m!=\u001b[39m \u001b[38;5;124m\"\u001b[39m\u001b[38;5;124mlight\u001b[39m\u001b[38;5;124m\"\u001b[39m) \u001b[38;5;129;01mor\u001b[39;00m (rayType \u001b[38;5;241m==\u001b[39m \u001b[38;5;124m\"\u001b[39m\u001b[38;5;124mlight\u001b[39m\u001b[38;5;124m\"\u001b[39m \u001b[38;5;129;01mand\u001b[39;00m \u001b[38;5;129;01mnot\u001b[39;00m \u001b[38;5;28mself\u001b[39m\u001b[38;5;241m.\u001b[39mlightAboveWalls):\n\u001b[1;32m    354\u001b[0m     \u001b[38;5;28;01mfor\u001b[39;00m w \u001b[38;5;129;01min\u001b[39;00m \u001b[38;5;28mself\u001b[39m\u001b[38;5;241m.\u001b[39mworld:\n\u001b[1;32m    355\u001b[0m         \u001b[38;5;66;03m## Direct light:\u001b[39;00m\n\u001b[0;32m--> 356\u001b[0m         retval \u001b[38;5;241m=\u001b[39m \u001b[43mw\u001b[49m\u001b[38;5;241;43m.\u001b[39;49m\u001b[43mintersects\u001b[49m\u001b[43m(\u001b[49m\u001b[43mseg\u001b[49m\u001b[43m)\u001b[49m\n\u001b[1;32m    357\u001b[0m         \u001b[38;5;28;01mif\u001b[39;00m retval:\n\u001b[1;32m    358\u001b[0m             dist \u001b[38;5;241m=\u001b[39m Segment(retval, (x1, y1))\u001b[38;5;241m.\u001b[39mlength()\n",
      "File \u001b[0;32m/opt/homebrew/Caskroom/miniconda/base/envs/pymc/lib/python3.11/site-packages/jyro/simulator/simulator.py:191\u001b[0m, in \u001b[0;36mSegment.intersects\u001b[0;34m(self, other)\u001b[0m\n\u001b[1;32m    189\u001b[0m             \u001b[38;5;28;01mreturn\u001b[39;00m \u001b[38;5;28;01mNone\u001b[39;00m\n\u001b[1;32m    190\u001b[0m \u001b[38;5;28;01melse\u001b[39;00m:\n\u001b[0;32m--> 191\u001b[0m     i \u001b[38;5;241m=\u001b[39m \u001b[38;5;28;43mself\u001b[39;49m\u001b[38;5;241;43m.\u001b[39;49m\u001b[43mintersection\u001b[49m\u001b[43m(\u001b[49m\u001b[43mother\u001b[49m\u001b[43m)\u001b[49m\n\u001b[1;32m    192\u001b[0m     \u001b[38;5;28;01mif\u001b[39;00m \u001b[38;5;28mself\u001b[39m\u001b[38;5;241m.\u001b[39min_bbox(i) \u001b[38;5;129;01mand\u001b[39;00m other\u001b[38;5;241m.\u001b[39min_bbox(i):\n\u001b[1;32m    193\u001b[0m         \u001b[38;5;28;01mreturn\u001b[39;00m i\n",
      "File \u001b[0;32m/opt/homebrew/Caskroom/miniconda/base/envs/pymc/lib/python3.11/site-packages/jyro/simulator/simulator.py:147\u001b[0m, in \u001b[0;36mSegment.intersection\u001b[0;34m(self, other)\u001b[0m\n\u001b[1;32m    145\u001b[0m     \u001b[38;5;28;01mreturn\u001b[39;00m \u001b[38;5;28;01mNone\u001b[39;00m\n\u001b[1;32m    146\u001b[0m \u001b[38;5;28;01melif\u001b[39;00m \u001b[38;5;28mself\u001b[39m\u001b[38;5;241m.\u001b[39mvertical:\n\u001b[0;32m--> 147\u001b[0m     \u001b[38;5;28;01mreturn\u001b[39;00m \u001b[43mother\u001b[49m\u001b[38;5;241;43m.\u001b[39;49m\u001b[43mintersection\u001b[49m\u001b[43m(\u001b[49m\u001b[38;5;28;43mself\u001b[39;49m\u001b[43m)\u001b[49m\n\u001b[1;32m    148\u001b[0m \u001b[38;5;28;01melif\u001b[39;00m other\u001b[38;5;241m.\u001b[39mvertical:\n\u001b[1;32m    149\u001b[0m     \u001b[38;5;28;01mreturn\u001b[39;00m (other\u001b[38;5;241m.\u001b[39mstart[\u001b[38;5;241m0\u001b[39m],\n\u001b[1;32m    150\u001b[0m             \u001b[38;5;28mself\u001b[39m\u001b[38;5;241m.\u001b[39myintercept \u001b[38;5;241m+\u001b[39m other\u001b[38;5;241m.\u001b[39mstart[\u001b[38;5;241m0\u001b[39m] \u001b[38;5;241m*\u001b[39m \u001b[38;5;28mself\u001b[39m\u001b[38;5;241m.\u001b[39mslope)\n",
      "File \u001b[0;32m/opt/homebrew/Caskroom/miniconda/base/envs/pymc/lib/python3.11/site-packages/jyro/simulator/simulator.py:142\u001b[0m, in \u001b[0;36mSegment.intersection\u001b[0;34m(self, other)\u001b[0m\n\u001b[1;32m    138\u001b[0m         \u001b[38;5;28;01mreturn\u001b[39;00m \u001b[38;5;28mself\u001b[39m\u001b[38;5;241m.\u001b[39mslope \u001b[38;5;241m==\u001b[39m other\u001b[38;5;241m.\u001b[39mslope\n\u001b[1;32m    140\u001b[0m \u001b[38;5;66;03m# return the point at which two segments would intersect if they extended\u001b[39;00m\n\u001b[1;32m    141\u001b[0m \u001b[38;5;66;03m# far enough\u001b[39;00m\n\u001b[0;32m--> 142\u001b[0m \u001b[38;5;28;01mdef\u001b[39;00m \u001b[38;5;21mintersection\u001b[39m(\u001b[38;5;28mself\u001b[39m, other):\n\u001b[1;32m    143\u001b[0m     \u001b[38;5;28;01mif\u001b[39;00m \u001b[38;5;28mself\u001b[39m\u001b[38;5;241m.\u001b[39mparallel(other):\n\u001b[1;32m    144\u001b[0m         \u001b[38;5;66;03m# the segments may intersect eventually, but we don't care\u001b[39;00m\n\u001b[1;32m    145\u001b[0m         \u001b[38;5;28;01mreturn\u001b[39;00m \u001b[38;5;28;01mNone\u001b[39;00m\n",
      "\u001b[0;31mKeyboardInterrupt\u001b[0m: "
     ]
    }
   ],
   "source": [
    "%%time\n",
    "\n",
    "import time\n",
    "\n",
    "for i in range(1000):\n",
    "    sim.step(run_brain=True)\n",
    "    for r in sim.robots:\n",
    "        sim.draw(canvas)\n",
    "        clear_output(wait=True)\n",
    "        display(canvas)\n",
    "        time.sleep(0.05) # sleep for a bit"
   ]
  },
  {
   "cell_type": "code",
   "execution_count": 17,
   "metadata": {},
   "outputs": [],
   "source": [
    "def generate_data(robot, make_world, trials, filename):\n",
    "    sim = Simulator(robot, make_world)\n",
    "    fp = open(filename, \"w\")\n",
    "    for i in range(trials):\n",
    "        print(\"Trial %d\" % i)\n",
    "        random_start(robot)\n",
    "        while True:\n",
    "            senses = get_senses(robot)\n",
    "            print(senses)\n",
    "            translate, rotate = determine_move(senses)\n",
    "            if translate == 0 and rotate == 0:\n",
    "                break # found light, so end trial\n",
    "            robot.move(translate, rotate)\n",
    "            sim.step()\n",
    "            lights = senses[0]\n",
    "            sonars = [min(v/3.0, 1.0) for v in senses[1]] #normalize sonar values\n",
    "            for value in lights:\n",
    "                fp.write(\"%.3f \" % value)\n",
    "            for value in sonars[1:7]:\n",
    "                fp.write(\"%.3f \" % value)\n",
    "            fp.write(\"%.1f %.1f\\n\" % (translate, rotate))\n",
    "    fp.close()"
   ]
  },
  {
   "cell_type": "code",
   "execution_count": 18,
   "metadata": {},
   "outputs": [
    {
     "name": "stdout",
     "output_type": "stream",
     "text": [
      "Trial 0\n"
     ]
    },
    {
     "ename": "NameError",
     "evalue": "name 'random_start' is not defined",
     "output_type": "error",
     "traceback": [
      "\u001b[0;31m---------------------------------------------------------------------------\u001b[0m",
      "\u001b[0;31mNameError\u001b[0m                                 Traceback (most recent call last)",
      "Cell \u001b[0;32mIn[18], line 1\u001b[0m\n\u001b[0;32m----> 1\u001b[0m \u001b[43mgenerate_data\u001b[49m\u001b[43m(\u001b[49m\u001b[43mrobot\u001b[49m\u001b[43m,\u001b[49m\u001b[43m \u001b[49m\u001b[43mmake_world\u001b[49m\u001b[43m,\u001b[49m\u001b[43m \u001b[49m\u001b[38;5;241;43m5\u001b[39;49m\u001b[43m,\u001b[49m\u001b[43m \u001b[49m\u001b[38;5;124;43m\"\u001b[39;49m\u001b[38;5;124;43mtesting_data.txt\u001b[39;49m\u001b[38;5;124;43m\"\u001b[39;49m\u001b[43m)\u001b[49m\n",
      "Cell \u001b[0;32mIn[17], line 6\u001b[0m, in \u001b[0;36mgenerate_data\u001b[0;34m(robot, make_world, trials, filename)\u001b[0m\n\u001b[1;32m      4\u001b[0m \u001b[38;5;28;01mfor\u001b[39;00m i \u001b[38;5;129;01min\u001b[39;00m \u001b[38;5;28mrange\u001b[39m(trials):\n\u001b[1;32m      5\u001b[0m     \u001b[38;5;28mprint\u001b[39m(\u001b[38;5;124m\"\u001b[39m\u001b[38;5;124mTrial \u001b[39m\u001b[38;5;132;01m%d\u001b[39;00m\u001b[38;5;124m\"\u001b[39m \u001b[38;5;241m%\u001b[39m i)\n\u001b[0;32m----> 6\u001b[0m     \u001b[43mrandom_start\u001b[49m(robot)\n\u001b[1;32m      7\u001b[0m     \u001b[38;5;28;01mwhile\u001b[39;00m \u001b[38;5;28;01mTrue\u001b[39;00m:\n\u001b[1;32m      8\u001b[0m         senses \u001b[38;5;241m=\u001b[39m get_senses(robot)\n",
      "\u001b[0;31mNameError\u001b[0m: name 'random_start' is not defined"
     ]
    }
   ],
   "source": [
    "generate_data(robot, make_world, 5, \"testing_data.txt\")"
   ]
  },
  {
   "cell_type": "code",
   "execution_count": null,
   "metadata": {},
   "outputs": [],
   "source": []
  }
 ],
 "metadata": {
  "kernelspec": {
   "display_name": "pymc",
   "language": "python",
   "name": "python3"
  },
  "language_info": {
   "codemirror_mode": {
    "name": "ipython",
    "version": 3
   },
   "file_extension": ".py",
   "mimetype": "text/x-python",
   "name": "python",
   "nbconvert_exporter": "python",
   "pygments_lexer": "ipython3",
   "version": "3.11.8"
  }
 },
 "nbformat": 4,
 "nbformat_minor": 2
}
