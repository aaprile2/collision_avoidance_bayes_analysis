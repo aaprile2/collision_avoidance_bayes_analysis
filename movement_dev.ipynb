{
 "cells": [
  {
   "cell_type": "code",
   "execution_count": 110,
   "metadata": {},
   "outputs": [],
   "source": [
    "from jyro.simulator import (Canvas, Physics, Pioneer, Pioneer16Sonars, PioneerFrontLightSensors,\n",
    "                            Camera, Simulator, VSimulator, DepthCamera, MyroIR, Color, SequenceViewer, MyroBumper)\n",
    "import numpy as np\n",
    "from math import pi\n",
    "from random import random\n",
    "import random\n",
    "import matplotlib.pyplot as plt\n",
    "from IPython.display import display, clear_output"
   ]
  },
  {
   "cell_type": "markdown",
   "metadata": {},
   "source": [
    "\\## Map definition"
   ]
  },
  {
   "cell_type": "code",
   "execution_count": 111,
   "metadata": {},
   "outputs": [
    {
     "data": {
      "text/plain": [
       "<matplotlib.image.AxesImage at 0x10fb6f650>"
      ]
     },
     "execution_count": 111,
     "metadata": {},
     "output_type": "execute_result"
    },
    {
     "data": {
      "image/png": "[encoded data removed]",
      "text/plain": [
       "<Figure size 640x480 with 1 Axes>"
      ]
     },
     "metadata": {},
     "output_type": "display_data"
    }
   ],
   "source": [
    "map =[[1, 0, 1, 0, 0, 0, 1, 0, 1, 1, 0, 0, 0, 0, 1, 1, 0, 0, 1, 0, 0, 0, 0, 0, 0],\n",
    "      [0, 0, 1, 0, 1, 1, 0, 0, 1, 0, 0, 0, 1, 0, 0, 0, 0, 1, 1, 1, 1, 0, 0, 1, 0],\n",
    "      [0, 1, 1, 0, 1, 1, 0, 1, 1, 1, 1, 1, 1, 1, 1, 1, 0, 0, 0, 0, 1, 0, 1, 0, 0],\n",
    "      [0, 0, 1, 0, 0, 0, 0, 1, 1, 1, 0, 0, 1, 1, 0, 0, 0, 1, 1, 1, 1, 0, 0, 1, 0],\n",
    "      [0, 0, 1, 1, 0, 0, 0, 0, 1, 0, 0, 0, 1, 0, 1, 1, 0, 1, 1, 0, 0, 0, 1, 1, 0],\n",
    "      [0, 0, 0, 0, 1, 0, 1, 0, 0, 0, 1, 0, 1, 0, 0, 0, 0, 1, 0, 0, 1, 0, 0, 1, 0],\n",
    "      [0, 1, 0, 0, 0, 0, 0, 0, 1, 0, 0, 0, 1, 1, 1, 0, 0, 1, 1, 0, 1, 0, 0, 1, 0],\n",
    "      [1, 1, 1, 0, 1, 1, 1, 1, 1, 0, 0, 0, 1, 1, 0, 0, 1, 1, 1, 1, 1, 1, 0, 0, 0],\n",
    "      [1, 1, 1, 0, 1, 1, 1, 0, 1, 0, 1, 0, 0, 1, 0, 0, 0, 1, 1, 0, 0, 0, 0, 0, 1],\n",
    "      [1, 1, 0, 0, 0, 0, 1, 0, 0, 0, 0, 0, 0, 0, 0, 0, 0, 0, 0, 1, 0, 0, 1, 0, 0],\n",
    "      [0, 1, 0, 1, 0, 0, 1, 0, 1, 0, 0, 1, 0, 1, 0, 1, 0, 1, 0, 0, 0, 1, 1, 1, 1],\n",
    "      [0, 0, 0, 1, 1, 0, 1, 1, 1, 1, 1, 1, 1, 0, 0, 0, 0, 0, 0, 1, 0, 0, 0, 0, 0],\n",
    "      [1, 1, 1, 1, 0, 0, 1, 0, 1, 0, 0, 0, 1, 0, 1, 0, 0, 1, 0, 0, 0, 0, 0, 0, 1],\n",
    "      [0, 0, 1, 0, 0, 0, 1, 0, 0, 0, 1, 0, 0, 0, 0, 1, 0, 0, 0, 1, 0, 0, 1, 0, 0],\n",
    "      [1, 0, 1, 0, 1, 0, 0, 0, 1, 0, 1, 0, 0, 0, 1, 1, 0, 0, 0, 0, 1, 1, 1, 0, 0],\n",
    "      [1, 0, 0, 0, 0, 0, 0, 1, 1, 1, 1, 1, 0, 0, 1, 0, 0, 1, 0, 0, 0, 1, 0, 0, 1],\n",
    "      [0, 0, 1, 0, 1, 1, 0, 0, 1, 1, 1, 0, 1, 0, 1, 1, 0, 0, 1, 0, 0, 1, 1, 0, 0],\n",
    "      [0, 1, 1, 0, 1, 1, 1, 0, 0, 1, 1, 0, 0, 0, 1, 0, 0, 1, 0, 0, 1, 1, 0, 0, 0],\n",
    "      [0, 1, 0, 0, 1, 1, 1, 1, 0, 0, 1, 0, 0, 0, 1, 1, 0, 0, 1, 0, 1, 1, 0, 1, 1],\n",
    "      [0, 1, 0, 1, 1, 1, 1, 1, 1, 0, 0, 0, 1, 0, 1, 0, 0, 1, 0, 0, 0, 1, 0, 0, 0],\n",
    "      [0, 1, 0, 0, 1, 1, 1, 1, 1, 1, 0, 0, 0, 0, 1, 1, 0, 0, 1, 0, 0, 1, 0, 0, 0],\n",
    "      [0, 0, 1, 0, 1, 1, 1, 1, 1, 1, 0, 1, 0, 0, 1, 0, 0, 1, 0, 0, 0, 0, 1, 0, 1],\n",
    "      [0, 0, 0, 0, 1, 0, 1, 0, 0, 0, 0, 1, 1, 1, 1, 1, 0, 0, 1, 0, 1, 0, 0, 0, 1],\n",
    "      [0, 1, 1, 0, 0, 0, 0, 0, 0, 1, 0, 0, 0, 0, 1, 0, 0, 1, 0, 0, 0, 1, 1, 0, 0],\n",
    "      [0, 0, 0, 0, 1, 1, 0, 1, 0, 0, 0, 1, 0, 0, 1, 1, 0, 0, 0, 0, 0, 1, 1, 0, 0]]\n",
    "\n",
    "map = np.array(map)\n",
    "\n",
    "def draw_grid(image, line_space=20):\n",
    "    H, W = image.shape\n",
    "    image[0:H:line_space] = 1\n",
    "    image[:, 0:W:line_space] = 1\n",
    "\n",
    "plt.imshow(~map, cmap='gray')"
   ]
  },
  {
   "cell_type": "code",
   "execution_count": 112,
   "metadata": {},
   "outputs": [],
   "source": [
    "np.save('map_4.npy', map)"
   ]
  },
  {
   "cell_type": "code",
   "execution_count": 113,
   "metadata": {},
   "outputs": [],
   "source": [
    "map = np.load('map_2.npy')"
   ]
  },
  {
   "cell_type": "code",
   "execution_count": 114,
   "metadata": {},
   "outputs": [],
   "source": [
    "def image_to_cartesian(map, val):\n",
    "    coords_y, coords_x = np.where(map == val)\n",
    "    coords = np.stack([coords_x, coords_y], axis=1)\n",
    "    coords[:, 1] = (len(map)) - coords[:, 1]\n",
    "\n",
    "    return coords\n",
    "\n",
    "obstacle_coords = image_to_cartesian(map, 1)\n",
    "path_coords = image_to_cartesian(map, 0)\n",
    "\n",
    "assert len(obstacle_coords)+len(path_coords) == np.prod(map.shape)"
   ]
  },
  {
   "cell_type": "code",
   "execution_count": 115,
   "metadata": {},
   "outputs": [
    {
     "data": {
      "image/png": "[encoded data removed]",
      "text/plain": [
       "<Figure size 640x480 with 1 Axes>"
      ]
     },
     "metadata": {},
     "output_type": "display_data"
    }
   ],
   "source": [
    "#obstacle_coords_y, obstacle_coords_x = np.where(map==1)\n",
    "#obstacle_coords = np.stack([obstacle_coords_x, obstacle_coords_y], axis=1)\n",
    "#obstacle_coords[:, 1] = (len(map)) - obstacle_coords[:, 1]\n",
    "\n",
    "plt.scatter(obstacle_coords[:, 0], obstacle_coords[:, 1], color='black')\n",
    "plt.show()"
   ]
  },
  {
   "cell_type": "code",
   "execution_count": 116,
   "metadata": {},
   "outputs": [],
   "source": [
    "obstacle_boxes = []\n",
    "for o_p in obstacle_coords:\n",
    "    ul_x, ul_y = o_p\n",
    "    lr_x = ul_x + 1\n",
    "    lr_y = ul_y - 1\n",
    "    obstacle_boxes.append((ul_x, ul_y, lr_x, lr_y))"
   ]
  },
  {
   "cell_type": "code",
   "execution_count": 117,
   "metadata": {},
   "outputs": [],
   "source": [
    "def check_box_collision(p, obstacle_boxes):\n",
    "    if p[0] < 0.5 or p[0] > 24.5 or p[1] < 0.5 or p[1] > 24.5:\n",
    "        return True\n",
    "    for b in obstacle_boxes:\n",
    "        if p[0] > b[0] - 0.5 and p[0] < b[2] + 0.5 and p[1] > b[3] - 0.5 and p[1] < b[1] + 0.5:\n",
    "            return True\n",
    "    return False"
   ]
  },
  {
   "cell_type": "markdown",
   "metadata": {},
   "source": [
    "## Robot/World calibration"
   ]
  },
  {
   "cell_type": "code",
   "execution_count": 118,
   "metadata": {},
   "outputs": [],
   "source": [
    "sim = Physics()\n",
    "\n",
    "def make_world(sim):\n",
    "    sim.addBox(0, 0, 25, 25, fill='white', wallcolor=\"black\")\n",
    "    \n",
    "    for i in obstacle_boxes:\n",
    "        ul_x, ul_y, lr_x, lr_y = i\n",
    "        sim.addBox(ul_x, ul_y, lr_x, lr_y, fill='black')\n",
    "\n",
    "make_world(sim)"
   ]
  },
  {
   "cell_type": "code",
   "execution_count": 119,
   "metadata": {},
   "outputs": [
    {
     "name": "stdout",
     "output_type": "stream",
     "text": [
      "World dimensions: (25, 25) meters\n"
     ]
    }
   ],
   "source": [
    "print(f'World dimensions: {map.shape} meters')"
   ]
  },
  {
   "cell_type": "code",
   "execution_count": 120,
   "metadata": {},
   "outputs": [],
   "source": [
    "def get_random_start(path_coords, obstacle_boxes):\n",
    "    collision = True\n",
    "    while collision:\n",
    "        x, y = random.choice(path_coords)\n",
    "        x += random.random()*0.1\n",
    "        y += random.random()*0.1\n",
    "        collision = check_box_collision((x, y), obstacle_boxes)\n",
    "\n",
    "    return x, y, random.random()*2*pi"
   ]
  },
  {
   "cell_type": "code",
   "execution_count": 121,
   "metadata": {},
   "outputs": [
    {
     "data": {
      "text/plain": [
       "(13.0759181585421, 8.05430349872755, 5.699255951165484)"
      ]
     },
     "execution_count": 121,
     "metadata": {},
     "output_type": "execute_result"
    }
   ],
   "source": [
    "get_random_start(path_coords, obstacle_boxes)"
   ]
  },
  {
   "cell_type": "code",
   "execution_count": 122,
   "metadata": {},
   "outputs": [],
   "source": [
    "## Robot class\n",
    "class Robot(Pioneer):\n",
    "    def __init__(self, name, x, y, theta):\n",
    "        Pioneer.__init__(self, name, x, y, theta)\n",
    "        self.addDevice(Pioneer16Sonars())\n",
    "        self.addDevice(MyroIR())\n",
    "\n",
    "        self.turn_direction = -1.0\n",
    "        self.turn_counter = 0\n",
    "\n",
    "    def get_sensor_data(self):\n",
    "        sonar_data = self['sonar'].getData()[1:7] # Only use front sensors\n",
    "        ir_data = self['ir'].getData()\n",
    "        return (sonar_data, ir_data)\n",
    "\n",
    "\n",
    "\n",
    "def brain(robot, sensor='ir', v=0.5):\n",
    "    sonar_data, ir_data = robot.get_sensor_data()\n",
    "\n",
    "    if sensor == 'ir':\n",
    "        obstacle_dist = min(ir_data)\n",
    "    else:\n",
    "        obstacle_dist = min(sonar_data)\n",
    "\n",
    "    if robot.stall:\n",
    "        pass\n",
    "    if obstacle_dist < 0.5:\n",
    "        direction = random.randint(0, 10)*0.1\n",
    "        robot.move(0.0, direction*robot.turn_direction)\n",
    "        robot.turn_counter += 1\n",
    "\n",
    "        if robot.turn_counter > 1000:\n",
    "            robot.turn_direction *= -1.0\n",
    "            robot.turn_counter = 0 \n",
    "\n",
    "    else:\n",
    "        robot.move(v, 0)    # otherwise go straight\n",
    "\n",
    "\n",
    "# Create robot by giving it a name, x-coordinates, y-coordinates, and a heading angle in radians\n",
    "robot = Robot('Pioneer', *get_random_start(path_coords, obstacle_boxes))\n",
    "robot.brain = brain\n",
    "\n"
   ]
  },
  {
   "cell_type": "code",
   "execution_count": 123,
   "metadata": {},
   "outputs": [],
   "source": [
    "robot.getPose()\n",
    "robot.move(0.0, -1.0)"
   ]
  },
  {
   "cell_type": "code",
   "execution_count": 124,
   "metadata": {},
   "outputs": [
    {
     "data": {
      "text/plain": [
       "([0, 0, 0, 0, 0, 0], [0, 0])"
      ]
     },
     "execution_count": 124,
     "metadata": {},
     "output_type": "execute_result"
    }
   ],
   "source": [
    "robot.get_sensor_data()"
   ]
  },
  {
   "cell_type": "code",
   "execution_count": 125,
   "metadata": {},
   "outputs": [
    {
     "data": {
      "image/svg+xml": [
       "<svg baseProfile=\"full\" height=\"500\" version=\"1.1\" width=\"500\" xmlns=\"http://www.w3.org/2000/svg\" xmlns:ev=\"http://www.w3.org/2001/xml-events\" xmlns:xlink=\"http://www.w3.org/1999/xlink\"><defs /><rect fill=\"#ffffff\" height=\"500.0\" stroke=\"#000000\" stroke-width=\"1\" width=\"500.0\" x=\"0.0\" y=\"0.0\" /><rect fill=\"#000000\" height=\"20.0\" stroke=\"#000000\" stroke-width=\"1\" width=\"20.0\" x=\"0.0\" y=\"0.0\" /><rect fill=\"#000000\" height=\"20.0\" stroke=\"#000000\" stroke-width=\"1\" width=\"20.0\" x=\"40.0\" y=\"0.0\" /><rect fill=\"#000000\" height=\"20.0\" stroke=\"#000000\" stroke-width=\"1\" width=\"20.0\" x=\"160.0\" y=\"0.0\" /><rect fill=\"#000000\" height=\"20.0\" stroke=\"#000000\" stroke-width=\"1\" width=\"20.0\" x=\"40.0\" y=\"20.0\" /><rect fill=\"#000000\" height=\"20.0\" stroke=\"#000000\" stroke-width=\"1\" width=\"20.0\" x=\"100.0\" y=\"20.0\" /><rect fill=\"#000000\" height=\"20.0\" stroke=\"#000000\" stroke-width=\"1\" width=\"20.0\" x=\"160.0\" y=\"20.0\" /><rect fill=\"#000000\" height=\"20.0\" stroke=\"#000000\" stroke-width=\"1\" width=\"20.0\" x=\"340.0\" y=\"20.0\" /><rect fill=\"#000000\" height=\"20.0\" stroke=\"#000000\" stroke-width=\"1\" width=\"20.0\" x=\"360.0\" y=\"20.0\" /><rect fill=\"#000000\" height=\"20.0\" stroke=\"#000000\" stroke-width=\"1\" width=\"20.0\" x=\"380.0\" y=\"20.0\" /><rect fill=\"#000000\" height=\"20.0\" stroke=\"#000000\" stroke-width=\"1\" width=\"20.0\" x=\"400.0\" y=\"20.0\" /><rect fill=\"#000000\" height=\"20.0\" stroke=\"#000000\" stroke-width=\"1\" width=\"20.0\" x=\"20.0\" y=\"40.0\" /><rect fill=\"#000000\" height=\"20.0\" stroke=\"#000000\" stroke-width=\"1\" width=\"20.0\" x=\"40.0\" y=\"40.0\" /><rect fill=\"#000000\" height=\"20.0\" stroke=\"#000000\" stroke-width=\"1\" width=\"20.0\" x=\"100.0\" y=\"40.0\" /><rect fill=\"#000000\" height=\"20.0\" stroke=\"#000000\" stroke-width=\"1\" width=\"20.0\" x=\"140.0\" y=\"40.0\" /><rect fill=\"#000000\" height=\"20.0\" stroke=\"#000000\" stroke-width=\"1\" width=\"20.0\" x=\"160.0\" y=\"40.0\" /><rect fill=\"#000000\" height=\"20.0\" stroke=\"#000000\" stroke-width=\"1\" width=\"20.0\" x=\"180.0\" y=\"40.0\" /><rect fill=\"#000000\" height=\"20.0\" stroke=\"#000000\" stroke-width=\"1\" width=\"20.0\" x=\"200.0\" y=\"40.0\" /><rect fill=\"#000000\" height=\"20.0\" stroke=\"#000000\" stroke-width=\"1\" width=\"20.0\" x=\"220.0\" y=\"40.0\" /><rect fill=\"#000000\" height=\"20.0\" stroke=\"#000000\" stroke-width=\"1\" width=\"20.0\" x=\"240.0\" y=\"40.0\" /><rect fill=\"#000000\" height=\"20.0\" stroke=\"#000000\" stroke-width=\"1\" width=\"20.0\" x=\"260.0\" y=\"40.0\" /><rect fill=\"#000000\" height=\"20.0\" stroke=\"#000000\" stroke-width=\"1\" width=\"20.0\" x=\"280.0\" y=\"40.0\" /><rect fill=\"#000000\" height=\"20.0\" stroke=\"#000000\" stroke-width=\"1\" width=\"20.0\" x=\"400.0\" y=\"40.0\" /><rect fill=\"#000000\" height=\"20.0\" stroke=\"#000000\" stroke-width=\"1\" width=\"20.0\" x=\"440.0\" y=\"40.0\" /><rect fill=\"#000000\" height=\"20.0\" stroke=\"#000000\" stroke-width=\"1\" width=\"20.0\" x=\"40.0\" y=\"60.0\" /><rect fill=\"#000000\" height=\"20.0\" stroke=\"#000000\" stroke-width=\"1\" width=\"20.0\" x=\"140.0\" y=\"60.0\" /><rect fill=\"#000000\" height=\"20.0\" stroke=\"#000000\" stroke-width=\"1\" width=\"20.0\" x=\"160.0\" y=\"60.0\" /><rect fill=\"#000000\" height=\"20.0\" stroke=\"#000000\" stroke-width=\"1\" width=\"20.0\" x=\"240.0\" y=\"60.0\" /><rect fill=\"#000000\" height=\"20.0\" stroke=\"#000000\" stroke-width=\"1\" width=\"20.0\" x=\"340.0\" y=\"60.0\" /><rect fill=\"#000000\" height=\"20.0\" stroke=\"#000000\" stroke-width=\"1\" width=\"20.0\" x=\"360.0\" y=\"60.0\" /><rect fill=\"#000000\" height=\"20.0\" stroke=\"#000000\" stroke-width=\"1\" width=\"20.0\" x=\"380.0\" y=\"60.0\" /><rect fill=\"#000000\" height=\"20.0\" stroke=\"#000000\" stroke-width=\"1\" width=\"20.0\" x=\"400.0\" y=\"60.0\" /><rect fill=\"#000000\" height=\"20.0\" stroke=\"#000000\" stroke-width=\"1\" width=\"20.0\" x=\"460.0\" y=\"60.0\" /><rect fill=\"#000000\" height=\"20.0\" stroke=\"#000000\" stroke-width=\"1\" width=\"20.0\" x=\"40.0\" y=\"80.0\" /><rect fill=\"#000000\" height=\"20.0\" stroke=\"#000000\" stroke-width=\"1\" width=\"20.0\" x=\"60.0\" y=\"80.0\" /><rect fill=\"#000000\" height=\"20.0\" stroke=\"#000000\" stroke-width=\"1\" width=\"20.0\" x=\"160.0\" y=\"80.0\" /><rect fill=\"#000000\" height=\"20.0\" stroke=\"#000000\" stroke-width=\"1\" width=\"20.0\" x=\"240.0\" y=\"80.0\" /><rect fill=\"#000000\" height=\"20.0\" stroke=\"#000000\" stroke-width=\"1\" width=\"20.0\" x=\"300.0\" y=\"80.0\" /><rect fill=\"#000000\" height=\"20.0\" stroke=\"#000000\" stroke-width=\"1\" width=\"20.0\" x=\"460.0\" y=\"80.0\" /><rect fill=\"#000000\" height=\"20.0\" stroke=\"#000000\" stroke-width=\"1\" width=\"20.0\" x=\"80.0\" y=\"100.0\" /><rect fill=\"#000000\" height=\"20.0\" stroke=\"#000000\" stroke-width=\"1\" width=\"20.0\" x=\"120.0\" y=\"100.0\" /><rect fill=\"#000000\" height=\"20.0\" stroke=\"#000000\" stroke-width=\"1\" width=\"20.0\" x=\"200.0\" y=\"100.0\" /><rect fill=\"#000000\" height=\"20.0\" stroke=\"#000000\" stroke-width=\"1\" width=\"20.0\" x=\"240.0\" y=\"100.0\" /><rect fill=\"#000000\" height=\"20.0\" stroke=\"#000000\" stroke-width=\"1\" width=\"20.0\" x=\"460.0\" y=\"100.0\" /><rect fill=\"#000000\" height=\"20.0\" stroke=\"#000000\" stroke-width=\"1\" width=\"20.0\" x=\"20.0\" y=\"120.0\" /><rect fill=\"#000000\" height=\"20.0\" stroke=\"#000000\" stroke-width=\"1\" width=\"20.0\" x=\"160.0\" y=\"120.0\" /><rect fill=\"#000000\" height=\"20.0\" stroke=\"#000000\" stroke-width=\"1\" width=\"20.0\" x=\"240.0\" y=\"120.0\" /><rect fill=\"#000000\" height=\"20.0\" stroke=\"#000000\" stroke-width=\"1\" width=\"20.0\" x=\"340.0\" y=\"120.0\" /><rect fill=\"#000000\" height=\"20.0\" stroke=\"#000000\" stroke-width=\"1\" width=\"20.0\" x=\"360.0\" y=\"120.0\" /><rect fill=\"#000000\" height=\"20.0\" stroke=\"#000000\" stroke-width=\"1\" width=\"20.0\" x=\"460.0\" y=\"120.0\" /><rect fill=\"#000000\" height=\"20.0\" stroke=\"#000000\" stroke-width=\"1\" width=\"20.0\" x=\"0.0\" y=\"140.0\" /><rect fill=\"#000000\" height=\"20.0\" stroke=\"#000000\" stroke-width=\"1\" width=\"20.0\" x=\"20.0\" y=\"140.0\" /><rect fill=\"#000000\" height=\"20.0\" stroke=\"#000000\" stroke-width=\"1\" width=\"20.0\" x=\"80.0\" y=\"140.0\" /><rect fill=\"#000000\" height=\"20.0\" stroke=\"#000000\" stroke-width=\"1\" width=\"20.0\" x=\"100.0\" y=\"140.0\" /><rect fill=\"#000000\" height=\"20.0\" stroke=\"#000000\" stroke-width=\"1\" width=\"20.0\" x=\"120.0\" y=\"140.0\" /><rect fill=\"#000000\" height=\"20.0\" stroke=\"#000000\" stroke-width=\"1\" width=\"20.0\" x=\"140.0\" y=\"140.0\" /><rect fill=\"#000000\" height=\"20.0\" stroke=\"#000000\" stroke-width=\"1\" width=\"20.0\" x=\"160.0\" y=\"140.0\" /><rect fill=\"#000000\" height=\"20.0\" stroke=\"#000000\" stroke-width=\"1\" width=\"20.0\" x=\"240.0\" y=\"140.0\" /><rect fill=\"#000000\" height=\"20.0\" stroke=\"#000000\" stroke-width=\"1\" width=\"20.0\" x=\"320.0\" y=\"140.0\" /><rect fill=\"#000000\" height=\"20.0\" stroke=\"#000000\" stroke-width=\"1\" width=\"20.0\" x=\"340.0\" y=\"140.0\" /><rect fill=\"#000000\" height=\"20.0\" stroke=\"#000000\" stroke-width=\"1\" width=\"20.0\" x=\"360.0\" y=\"140.0\" /><rect fill=\"#000000\" height=\"20.0\" stroke=\"#000000\" stroke-width=\"1\" width=\"20.0\" x=\"380.0\" y=\"140.0\" /><rect fill=\"#000000\" height=\"20.0\" stroke=\"#000000\" stroke-width=\"1\" width=\"20.0\" x=\"400.0\" y=\"140.0\" /><rect fill=\"#000000\" height=\"20.0\" stroke=\"#000000\" stroke-width=\"1\" width=\"20.0\" x=\"420.0\" y=\"140.0\" /><rect fill=\"#000000\" height=\"20.0\" stroke=\"#000000\" stroke-width=\"1\" width=\"20.0\" x=\"0.0\" y=\"160.0\" /><rect fill=\"#000000\" height=\"20.0\" stroke=\"#000000\" stroke-width=\"1\" width=\"20.0\" x=\"20.0\" y=\"160.0\" /><rect fill=\"#000000\" height=\"20.0\" stroke=\"#000000\" stroke-width=\"1\" width=\"20.0\" x=\"80.0\" y=\"160.0\" /><rect fill=\"#000000\" height=\"20.0\" stroke=\"#000000\" stroke-width=\"1\" width=\"20.0\" x=\"100.0\" y=\"160.0\" /><rect fill=\"#000000\" height=\"20.0\" stroke=\"#000000\" stroke-width=\"1\" width=\"20.0\" x=\"120.0\" y=\"160.0\" /><rect fill=\"#000000\" height=\"20.0\" stroke=\"#000000\" stroke-width=\"1\" width=\"20.0\" x=\"160.0\" y=\"160.0\" /><rect fill=\"#000000\" height=\"20.0\" stroke=\"#000000\" stroke-width=\"1\" width=\"20.0\" x=\"260.0\" y=\"160.0\" /><rect fill=\"#000000\" height=\"20.0\" stroke=\"#000000\" stroke-width=\"1\" width=\"20.0\" x=\"340.0\" y=\"160.0\" /><rect fill=\"#000000\" height=\"20.0\" stroke=\"#000000\" stroke-width=\"1\" width=\"20.0\" x=\"360.0\" y=\"160.0\" /><rect fill=\"#000000\" height=\"20.0\" stroke=\"#000000\" stroke-width=\"1\" width=\"20.0\" x=\"0.0\" y=\"180.0\" /><rect fill=\"#000000\" height=\"20.0\" stroke=\"#000000\" stroke-width=\"1\" width=\"20.0\" x=\"20.0\" y=\"180.0\" /><rect fill=\"#000000\" height=\"20.0\" stroke=\"#000000\" stroke-width=\"1\" width=\"20.0\" x=\"120.0\" y=\"180.0\" /><rect fill=\"#000000\" height=\"20.0\" stroke=\"#000000\" stroke-width=\"1\" width=\"20.0\" x=\"440.0\" y=\"180.0\" /><rect fill=\"#000000\" height=\"20.0\" stroke=\"#000000\" stroke-width=\"1\" width=\"20.0\" x=\"60.0\" y=\"200.0\" /><rect fill=\"#000000\" height=\"20.0\" stroke=\"#000000\" stroke-width=\"1\" width=\"20.0\" x=\"120.0\" y=\"200.0\" /><rect fill=\"#000000\" height=\"20.0\" stroke=\"#000000\" stroke-width=\"1\" width=\"20.0\" x=\"220.0\" y=\"200.0\" /><rect fill=\"#000000\" height=\"20.0\" stroke=\"#000000\" stroke-width=\"1\" width=\"20.0\" x=\"300.0\" y=\"200.0\" /><rect fill=\"#000000\" height=\"20.0\" stroke=\"#000000\" stroke-width=\"1\" width=\"20.0\" x=\"420.0\" y=\"200.0\" /><rect fill=\"#000000\" height=\"20.0\" stroke=\"#000000\" stroke-width=\"1\" width=\"20.0\" x=\"440.0\" y=\"200.0\" /><rect fill=\"#000000\" height=\"20.0\" stroke=\"#000000\" stroke-width=\"1\" width=\"20.0\" x=\"460.0\" y=\"200.0\" /><rect fill=\"#000000\" height=\"20.0\" stroke=\"#000000\" stroke-width=\"1\" width=\"20.0\" x=\"480.0\" y=\"200.0\" /><rect fill=\"#000000\" height=\"20.0\" stroke=\"#000000\" stroke-width=\"1\" width=\"20.0\" x=\"60.0\" y=\"220.0\" /><rect fill=\"#000000\" height=\"20.0\" stroke=\"#000000\" stroke-width=\"1\" width=\"20.0\" x=\"120.0\" y=\"220.0\" /><rect fill=\"#000000\" height=\"20.0\" stroke=\"#000000\" stroke-width=\"1\" width=\"20.0\" x=\"140.0\" y=\"220.0\" /><rect fill=\"#000000\" height=\"20.0\" stroke=\"#000000\" stroke-width=\"1\" width=\"20.0\" x=\"160.0\" y=\"220.0\" /><rect fill=\"#000000\" height=\"20.0\" stroke=\"#000000\" stroke-width=\"1\" width=\"20.0\" x=\"180.0\" y=\"220.0\" /><rect fill=\"#000000\" height=\"20.0\" stroke=\"#000000\" stroke-width=\"1\" width=\"20.0\" x=\"200.0\" y=\"220.0\" /><rect fill=\"#000000\" height=\"20.0\" stroke=\"#000000\" stroke-width=\"1\" width=\"20.0\" x=\"220.0\" y=\"220.0\" /><rect fill=\"#000000\" height=\"20.0\" stroke=\"#000000\" stroke-width=\"1\" width=\"20.0\" x=\"240.0\" y=\"220.0\" /><rect fill=\"#000000\" height=\"20.0\" stroke=\"#000000\" stroke-width=\"1\" width=\"20.0\" x=\"380.0\" y=\"220.0\" /><rect fill=\"#000000\" height=\"20.0\" stroke=\"#000000\" stroke-width=\"1\" width=\"20.0\" x=\"0.0\" y=\"240.0\" /><rect fill=\"#000000\" height=\"20.0\" stroke=\"#000000\" stroke-width=\"1\" width=\"20.0\" x=\"20.0\" y=\"240.0\" /><rect fill=\"#000000\" height=\"20.0\" stroke=\"#000000\" stroke-width=\"1\" width=\"20.0\" x=\"40.0\" y=\"240.0\" /><rect fill=\"#000000\" height=\"20.0\" stroke=\"#000000\" stroke-width=\"1\" width=\"20.0\" x=\"60.0\" y=\"240.0\" /><rect fill=\"#000000\" height=\"20.0\" stroke=\"#000000\" stroke-width=\"1\" width=\"20.0\" x=\"120.0\" y=\"240.0\" /><rect fill=\"#000000\" height=\"20.0\" stroke=\"#000000\" stroke-width=\"1\" width=\"20.0\" x=\"340.0\" y=\"240.0\" /><rect fill=\"#000000\" height=\"20.0\" stroke=\"#000000\" stroke-width=\"1\" width=\"20.0\" x=\"40.0\" y=\"260.0\" /><rect fill=\"#000000\" height=\"20.0\" stroke=\"#000000\" stroke-width=\"1\" width=\"20.0\" x=\"120.0\" y=\"260.0\" /><rect fill=\"#000000\" height=\"20.0\" stroke=\"#000000\" stroke-width=\"1\" width=\"20.0\" x=\"440.0\" y=\"260.0\" /><rect fill=\"#000000\" height=\"20.0\" stroke=\"#000000\" stroke-width=\"1\" width=\"20.0\" x=\"40.0\" y=\"280.0\" /><rect fill=\"#000000\" height=\"20.0\" stroke=\"#000000\" stroke-width=\"1\" width=\"20.0\" x=\"200.0\" y=\"280.0\" /><rect fill=\"#000000\" height=\"20.0\" stroke=\"#000000\" stroke-width=\"1\" width=\"20.0\" x=\"280.0\" y=\"280.0\" /><rect fill=\"#000000\" height=\"20.0\" stroke=\"#000000\" stroke-width=\"1\" width=\"20.0\" x=\"300.0\" y=\"280.0\" /><rect fill=\"#000000\" height=\"20.0\" stroke=\"#000000\" stroke-width=\"1\" width=\"20.0\" x=\"400.0\" y=\"280.0\" /><rect fill=\"#000000\" height=\"20.0\" stroke=\"#000000\" stroke-width=\"1\" width=\"20.0\" x=\"420.0\" y=\"280.0\" /><rect fill=\"#000000\" height=\"20.0\" stroke=\"#000000\" stroke-width=\"1\" width=\"20.0\" x=\"440.0\" y=\"280.0\" /><rect fill=\"#000000\" height=\"20.0\" stroke=\"#000000\" stroke-width=\"1\" width=\"20.0\" x=\"140.0\" y=\"300.0\" /><rect fill=\"#000000\" height=\"20.0\" stroke=\"#000000\" stroke-width=\"1\" width=\"20.0\" x=\"160.0\" y=\"300.0\" /><rect fill=\"#000000\" height=\"20.0\" stroke=\"#000000\" stroke-width=\"1\" width=\"20.0\" x=\"180.0\" y=\"300.0\" /><rect fill=\"#000000\" height=\"20.0\" stroke=\"#000000\" stroke-width=\"1\" width=\"20.0\" x=\"200.0\" y=\"300.0\" /><rect fill=\"#000000\" height=\"20.0\" stroke=\"#000000\" stroke-width=\"1\" width=\"20.0\" x=\"280.0\" y=\"300.0\" /><rect fill=\"#000000\" height=\"20.0\" stroke=\"#000000\" stroke-width=\"1\" width=\"20.0\" x=\"340.0\" y=\"300.0\" /><rect fill=\"#000000\" height=\"20.0\" stroke=\"#000000\" stroke-width=\"1\" width=\"20.0\" x=\"420.0\" y=\"300.0\" /><rect fill=\"#000000\" height=\"20.0\" stroke=\"#000000\" stroke-width=\"1\" width=\"20.0\" x=\"80.0\" y=\"320.0\" /><rect fill=\"#000000\" height=\"20.0\" stroke=\"#000000\" stroke-width=\"1\" width=\"20.0\" x=\"160.0\" y=\"320.0\" /><rect fill=\"#000000\" height=\"20.0\" stroke=\"#000000\" stroke-width=\"1\" width=\"20.0\" x=\"180.0\" y=\"320.0\" /><rect fill=\"#000000\" height=\"20.0\" stroke=\"#000000\" stroke-width=\"1\" width=\"20.0\" x=\"200.0\" y=\"320.0\" /><rect fill=\"#000000\" height=\"20.0\" stroke=\"#000000\" stroke-width=\"1\" width=\"20.0\" x=\"280.0\" y=\"320.0\" /><rect fill=\"#000000\" height=\"20.0\" stroke=\"#000000\" stroke-width=\"1\" width=\"20.0\" x=\"300.0\" y=\"320.0\" /><rect fill=\"#000000\" height=\"20.0\" stroke=\"#000000\" stroke-width=\"1\" width=\"20.0\" x=\"360.0\" y=\"320.0\" /><rect fill=\"#000000\" height=\"20.0\" stroke=\"#000000\" stroke-width=\"1\" width=\"20.0\" x=\"420.0\" y=\"320.0\" /><rect fill=\"#000000\" height=\"20.0\" stroke=\"#000000\" stroke-width=\"1\" width=\"20.0\" x=\"20.0\" y=\"340.0\" /><rect fill=\"#000000\" height=\"20.0\" stroke=\"#000000\" stroke-width=\"1\" width=\"20.0\" x=\"80.0\" y=\"340.0\" /><rect fill=\"#000000\" height=\"20.0\" stroke=\"#000000\" stroke-width=\"1\" width=\"20.0\" x=\"100.0\" y=\"340.0\" /><rect fill=\"#000000\" height=\"20.0\" stroke=\"#000000\" stroke-width=\"1\" width=\"20.0\" x=\"180.0\" y=\"340.0\" /><rect fill=\"#000000\" height=\"20.0\" stroke=\"#000000\" stroke-width=\"1\" width=\"20.0\" x=\"200.0\" y=\"340.0\" /><rect fill=\"#000000\" height=\"20.0\" stroke=\"#000000\" stroke-width=\"1\" width=\"20.0\" x=\"280.0\" y=\"340.0\" /><rect fill=\"#000000\" height=\"20.0\" stroke=\"#000000\" stroke-width=\"1\" width=\"20.0\" x=\"340.0\" y=\"340.0\" /><rect fill=\"#000000\" height=\"20.0\" stroke=\"#000000\" stroke-width=\"1\" width=\"20.0\" x=\"420.0\" y=\"340.0\" /><rect fill=\"#000000\" height=\"20.0\" stroke=\"#000000\" stroke-width=\"1\" width=\"20.0\" x=\"20.0\" y=\"360.0\" /><rect fill=\"#000000\" height=\"20.0\" stroke=\"#000000\" stroke-width=\"1\" width=\"20.0\" x=\"80.0\" y=\"360.0\" /><rect fill=\"#000000\" height=\"20.0\" stroke=\"#000000\" stroke-width=\"1\" width=\"20.0\" x=\"100.0\" y=\"360.0\" /><rect fill=\"#000000\" height=\"20.0\" stroke=\"#000000\" stroke-width=\"1\" width=\"20.0\" x=\"120.0\" y=\"360.0\" /><rect fill=\"#000000\" height=\"20.0\" stroke=\"#000000\" stroke-width=\"1\" width=\"20.0\" x=\"200.0\" y=\"360.0\" /><rect fill=\"#000000\" height=\"20.0\" stroke=\"#000000\" stroke-width=\"1\" width=\"20.0\" x=\"280.0\" y=\"360.0\" /><rect fill=\"#000000\" height=\"20.0\" stroke=\"#000000\" stroke-width=\"1\" width=\"20.0\" x=\"300.0\" y=\"360.0\" /><rect fill=\"#000000\" height=\"20.0\" stroke=\"#000000\" stroke-width=\"1\" width=\"20.0\" x=\"360.0\" y=\"360.0\" /><rect fill=\"#000000\" height=\"20.0\" stroke=\"#000000\" stroke-width=\"1\" width=\"20.0\" x=\"420.0\" y=\"360.0\" /><rect fill=\"#000000\" height=\"20.0\" stroke=\"#000000\" stroke-width=\"1\" width=\"20.0\" x=\"460.0\" y=\"360.0\" /><rect fill=\"#000000\" height=\"20.0\" stroke=\"#000000\" stroke-width=\"1\" width=\"20.0\" x=\"480.0\" y=\"360.0\" /><rect fill=\"#000000\" height=\"20.0\" stroke=\"#000000\" stroke-width=\"1\" width=\"20.0\" x=\"20.0\" y=\"380.0\" /><rect fill=\"#000000\" height=\"20.0\" stroke=\"#000000\" stroke-width=\"1\" width=\"20.0\" x=\"80.0\" y=\"380.0\" /><rect fill=\"#000000\" height=\"20.0\" stroke=\"#000000\" stroke-width=\"1\" width=\"20.0\" x=\"100.0\" y=\"380.0\" /><rect fill=\"#000000\" height=\"20.0\" stroke=\"#000000\" stroke-width=\"1\" width=\"20.0\" x=\"120.0\" y=\"380.0\" /><rect fill=\"#000000\" height=\"20.0\" stroke=\"#000000\" stroke-width=\"1\" width=\"20.0\" x=\"140.0\" y=\"380.0\" /><rect fill=\"#000000\" height=\"20.0\" stroke=\"#000000\" stroke-width=\"1\" width=\"20.0\" x=\"280.0\" y=\"380.0\" /><rect fill=\"#000000\" height=\"20.0\" stroke=\"#000000\" stroke-width=\"1\" width=\"20.0\" x=\"340.0\" y=\"380.0\" /><rect fill=\"#000000\" height=\"20.0\" stroke=\"#000000\" stroke-width=\"1\" width=\"20.0\" x=\"420.0\" y=\"380.0\" /><rect fill=\"#000000\" height=\"20.0\" stroke=\"#000000\" stroke-width=\"1\" width=\"20.0\" x=\"20.0\" y=\"400.0\" /><rect fill=\"#000000\" height=\"20.0\" stroke=\"#000000\" stroke-width=\"1\" width=\"20.0\" x=\"80.0\" y=\"400.0\" /><rect fill=\"#000000\" height=\"20.0\" stroke=\"#000000\" stroke-width=\"1\" width=\"20.0\" x=\"100.0\" y=\"400.0\" /><rect fill=\"#000000\" height=\"20.0\" stroke=\"#000000\" stroke-width=\"1\" width=\"20.0\" x=\"120.0\" y=\"400.0\" /><rect fill=\"#000000\" height=\"20.0\" stroke=\"#000000\" stroke-width=\"1\" width=\"20.0\" x=\"140.0\" y=\"400.0\" /><rect fill=\"#000000\" height=\"20.0\" stroke=\"#000000\" stroke-width=\"1\" width=\"20.0\" x=\"160.0\" y=\"400.0\" /><rect fill=\"#000000\" height=\"20.0\" stroke=\"#000000\" stroke-width=\"1\" width=\"20.0\" x=\"280.0\" y=\"400.0\" /><rect fill=\"#000000\" height=\"20.0\" stroke=\"#000000\" stroke-width=\"1\" width=\"20.0\" x=\"300.0\" y=\"400.0\" /><rect fill=\"#000000\" height=\"20.0\" stroke=\"#000000\" stroke-width=\"1\" width=\"20.0\" x=\"360.0\" y=\"400.0\" /><rect fill=\"#000000\" height=\"20.0\" stroke=\"#000000\" stroke-width=\"1\" width=\"20.0\" x=\"420.0\" y=\"400.0\" /><rect fill=\"#000000\" height=\"20.0\" stroke=\"#000000\" stroke-width=\"1\" width=\"20.0\" x=\"40.0\" y=\"420.0\" /><rect fill=\"#000000\" height=\"20.0\" stroke=\"#000000\" stroke-width=\"1\" width=\"20.0\" x=\"80.0\" y=\"420.0\" /><rect fill=\"#000000\" height=\"20.0\" stroke=\"#000000\" stroke-width=\"1\" width=\"20.0\" x=\"100.0\" y=\"420.0\" /><rect fill=\"#000000\" height=\"20.0\" stroke=\"#000000\" stroke-width=\"1\" width=\"20.0\" x=\"120.0\" y=\"420.0\" /><rect fill=\"#000000\" height=\"20.0\" stroke=\"#000000\" stroke-width=\"1\" width=\"20.0\" x=\"140.0\" y=\"420.0\" /><rect fill=\"#000000\" height=\"20.0\" stroke=\"#000000\" stroke-width=\"1\" width=\"20.0\" x=\"160.0\" y=\"420.0\" /><rect fill=\"#000000\" height=\"20.0\" stroke=\"#000000\" stroke-width=\"1\" width=\"20.0\" x=\"220.0\" y=\"420.0\" /><rect fill=\"#000000\" height=\"20.0\" stroke=\"#000000\" stroke-width=\"1\" width=\"20.0\" x=\"280.0\" y=\"420.0\" /><rect fill=\"#000000\" height=\"20.0\" stroke=\"#000000\" stroke-width=\"1\" width=\"20.0\" x=\"340.0\" y=\"420.0\" /><rect fill=\"#000000\" height=\"20.0\" stroke=\"#000000\" stroke-width=\"1\" width=\"20.0\" x=\"480.0\" y=\"420.0\" /><rect fill=\"#000000\" height=\"20.0\" stroke=\"#000000\" stroke-width=\"1\" width=\"20.0\" x=\"220.0\" y=\"440.0\" /><rect fill=\"#000000\" height=\"20.0\" stroke=\"#000000\" stroke-width=\"1\" width=\"20.0\" x=\"240.0\" y=\"440.0\" /><rect fill=\"#000000\" height=\"20.0\" stroke=\"#000000\" stroke-width=\"1\" width=\"20.0\" x=\"260.0\" y=\"440.0\" /><rect fill=\"#000000\" height=\"20.0\" stroke=\"#000000\" stroke-width=\"1\" width=\"20.0\" x=\"280.0\" y=\"440.0\" /><rect fill=\"#000000\" height=\"20.0\" stroke=\"#000000\" stroke-width=\"1\" width=\"20.0\" x=\"300.0\" y=\"440.0\" /><rect fill=\"#000000\" height=\"20.0\" stroke=\"#000000\" stroke-width=\"1\" width=\"20.0\" x=\"360.0\" y=\"440.0\" /><rect fill=\"#000000\" height=\"20.0\" stroke=\"#000000\" stroke-width=\"1\" width=\"20.0\" x=\"480.0\" y=\"440.0\" /><rect fill=\"#000000\" height=\"20.0\" stroke=\"#000000\" stroke-width=\"1\" width=\"20.0\" x=\"20.0\" y=\"460.0\" /><rect fill=\"#000000\" height=\"20.0\" stroke=\"#000000\" stroke-width=\"1\" width=\"20.0\" x=\"180.0\" y=\"460.0\" /><rect fill=\"#000000\" height=\"20.0\" stroke=\"#000000\" stroke-width=\"1\" width=\"20.0\" x=\"280.0\" y=\"460.0\" /><rect fill=\"#000000\" height=\"20.0\" stroke=\"#000000\" stroke-width=\"1\" width=\"20.0\" x=\"340.0\" y=\"460.0\" /><rect fill=\"#000000\" height=\"20.0\" stroke=\"#000000\" stroke-width=\"1\" width=\"20.0\" x=\"420.0\" y=\"460.0\" /><rect fill=\"#000000\" height=\"20.0\" stroke=\"#000000\" stroke-width=\"1\" width=\"20.0\" x=\"440.0\" y=\"460.0\" /><rect fill=\"#000000\" height=\"20.0\" stroke=\"#000000\" stroke-width=\"1\" width=\"20.0\" x=\"80.0\" y=\"480.0\" /><rect fill=\"#000000\" height=\"20.0\" stroke=\"#000000\" stroke-width=\"1\" width=\"20.0\" x=\"100.0\" y=\"480.0\" /><rect fill=\"#000000\" height=\"20.0\" stroke=\"#000000\" stroke-width=\"1\" width=\"20.0\" x=\"140.0\" y=\"480.0\" /><rect fill=\"#000000\" height=\"20.0\" stroke=\"#000000\" stroke-width=\"1\" width=\"20.0\" x=\"220.0\" y=\"480.0\" /><rect fill=\"#000000\" height=\"20.0\" stroke=\"#000000\" stroke-width=\"1\" width=\"20.0\" x=\"280.0\" y=\"480.0\" /><rect fill=\"#000000\" height=\"20.0\" stroke=\"#000000\" stroke-width=\"1\" width=\"20.0\" x=\"300.0\" y=\"480.0\" /><rect fill=\"#000000\" height=\"20.0\" stroke=\"#000000\" stroke-width=\"1\" width=\"20.0\" x=\"420.0\" y=\"480.0\" /><rect fill=\"#000000\" height=\"20.0\" stroke=\"#000000\" stroke-width=\"1\" width=\"20.0\" x=\"440.0\" y=\"480.0\" /><line fill=\"#800080\" stroke=\"#add8e6\" stroke-width=\"1\" x1=\"17.70047186461389\" x2=\"0.0\" y1=\"80.09606687676552\" y2=\"92.99181599999997\" /><line fill=\"#800080\" stroke=\"#add8e6\" stroke-width=\"1\" x1=\"17.28020516935561\" x2=\"0.0\" y1=\"78.67010197367122\" y2=\"82.05262599999998\" /><line fill=\"#800080\" stroke=\"#add8e6\" stroke-width=\"1\" x1=\"17.573490471806764\" x2=\"0.0\" y1=\"77.7140770098935\" y2=\"73.35705599999997\" /><line fill=\"#800080\" stroke=\"#add8e6\" stroke-width=\"1\" x1=\"18.248957941304077\" x2=\"0.0\" y1=\"76.60333685231798\" y2=\"61.86532\" /><line fill=\"#800080\" stroke=\"#add8e6\" stroke-width=\"1\" x1=\"19.86544438175915\" x2=\"0.0\" y1=\"75.4256392732151\" y2=\"23.877138000000002\" /><line fill=\"#800080\" stroke=\"#add8e6\" stroke-width=\"1\" x1=\"21.12976064080793\" x2=\"22.16728729853333\" y1=\"75.12314233586707\" y2=\"60.0\" /><line fill=\"#800080\" stroke=\"#add8e6\" stroke-width=\"1\" x1=\"22.129664490720835\" x2=\"30.49423846554774\" y1=\"75.13700923636243\" y2=\"60.0\" /><line fill=\"#800080\" stroke=\"#add8e6\" stroke-width=\"1\" x1=\"23.35817440620665\" x2=\"40.0\" y1=\"75.97412534990525\" y2=\"63.849658000000034\" /><line fill=\"#800080\" stroke=\"#add8e6\" stroke-width=\"1\" x1=\"25.71356956441249\" x2=\"40.0\" y1=\"79.20709823081538\" y2=\"68.79866199999995\" /><line fill=\"#800080\" stroke=\"#add8e6\" stroke-width=\"1\" x1=\"26.133836259670773\" x2=\"40.0\" y1=\"80.63306313390967\" y2=\"77.91882399999999\" /><line fill=\"#800080\" stroke=\"#add8e6\" stroke-width=\"1\" x1=\"25.840550957219616\" x2=\"40.0\" y1=\"81.5890880976874\" y2=\"85.09966200000001\" /><line fill=\"#800080\" stroke=\"#add8e6\" stroke-width=\"1\" x1=\"25.165083487722303\" x2=\"40.0\" y1=\"82.69982825526291\" y2=\"94.680636\" /><line fill=\"#800080\" stroke=\"#add8e6\" stroke-width=\"1\" x1=\"23.54859704726723\" x2=\"37.469253912411475\" y1=\"83.8775258343658\" y2=\"120.0\" /><line fill=\"#800080\" stroke=\"#add8e6\" stroke-width=\"1\" x1=\"22.284280788218453\" x2=\"18.454735975714726\" y1=\"84.18002277171382\" y2=\"140.0\" /><line fill=\"#800080\" stroke=\"#add8e6\" stroke-width=\"1\" x1=\"21.28437693830555\" x2=\"0.0\" y1=\"84.16615587121846\" y2=\"122.683574\" /><line fill=\"#800080\" stroke=\"#add8e6\" stroke-width=\"1\" x1=\"20.055867022819733\" x2=\"0.0\" y1=\"83.32903975767564\" y2=\"97.94082000000003\" /><line fill=\"#800080\" stroke=\"#ffc0cb\" stroke-width=\"1\" x1=\"17.54461757849148\" x2=\"7.665685237928759\" y1=\"78.35373813582784\" y2=\"76.80238523897167\" /><line fill=\"#800080\" stroke=\"#ffc0cb\" stroke-width=\"1\" x1=\"21.74748232367467\" x2=\"23.298835220530826\" y1=\"75.2917244301603\" y2=\"65.41279208959757\" /><polygon fill=\"red\" points=\"17.764012009167555,76.95664612604887 17.11162307506243,79.28782365653795 20.64471581237119,84.13728297790321 23.063651115130707,84.23083510809676 25.650029419858825,82.34651898153203 26.302418353963954,80.01534145104294 22.769325616655188,75.16588212967768 20.350390313895673,75.07232999948414\" stroke=\"red\" stroke-width=\"1\" /><polygon points=\"-1.0,-1.0 0,0 1.0,-1.0 0,1.0\" stroke=\"black\" stroke-width=\"1\" transform=\"translate(21.70702071451319,79.65158255379045) rotate(143.92464269267174)\" /></svg>"
      ],
      "text/plain": [
       "<jyro.simulator.canvas.Canvas at 0x10fe61c10>"
      ]
     },
     "execution_count": 125,
     "metadata": {},
     "output_type": "execute_result"
    }
   ],
   "source": [
    "sim.addRobot(robot)\n",
    "canvas = Canvas((500, 500))\n",
    "sim.draw(canvas)"
   ]
  },
  {
   "cell_type": "code",
   "execution_count": 126,
   "metadata": {},
   "outputs": [
    {
     "data": {
      "image/svg+xml": [
       "<svg baseProfile=\"full\" height=\"500\" version=\"1.1\" width=\"500\" xmlns=\"http://www.w3.org/2000/svg\" xmlns:ev=\"http://www.w3.org/2001/xml-events\" xmlns:xlink=\"http://www.w3.org/1999/xlink\"><defs /><rect fill=\"#ffffff\" height=\"500.0\" stroke=\"#000000\" stroke-width=\"1\" width=\"500.0\" x=\"0.0\" y=\"0.0\" /><rect fill=\"#000000\" height=\"20.0\" stroke=\"#000000\" stroke-width=\"1\" width=\"20.0\" x=\"0.0\" y=\"0.0\" /><rect fill=\"#000000\" height=\"20.0\" stroke=\"#000000\" stroke-width=\"1\" width=\"20.0\" x=\"40.0\" y=\"0.0\" /><rect fill=\"#000000\" height=\"20.0\" stroke=\"#000000\" stroke-width=\"1\" width=\"20.0\" x=\"160.0\" y=\"0.0\" /><rect fill=\"#000000\" height=\"20.0\" stroke=\"#000000\" stroke-width=\"1\" width=\"20.0\" x=\"40.0\" y=\"20.0\" /><rect fill=\"#000000\" height=\"20.0\" stroke=\"#000000\" stroke-width=\"1\" width=\"20.0\" x=\"100.0\" y=\"20.0\" /><rect fill=\"#000000\" height=\"20.0\" stroke=\"#000000\" stroke-width=\"1\" width=\"20.0\" x=\"160.0\" y=\"20.0\" /><rect fill=\"#000000\" height=\"20.0\" stroke=\"#000000\" stroke-width=\"1\" width=\"20.0\" x=\"340.0\" y=\"20.0\" /><rect fill=\"#000000\" height=\"20.0\" stroke=\"#000000\" stroke-width=\"1\" width=\"20.0\" x=\"360.0\" y=\"20.0\" /><rect fill=\"#000000\" height=\"20.0\" stroke=\"#000000\" stroke-width=\"1\" width=\"20.0\" x=\"380.0\" y=\"20.0\" /><rect fill=\"#000000\" height=\"20.0\" stroke=\"#000000\" stroke-width=\"1\" width=\"20.0\" x=\"400.0\" y=\"20.0\" /><rect fill=\"#000000\" height=\"20.0\" stroke=\"#000000\" stroke-width=\"1\" width=\"20.0\" x=\"20.0\" y=\"40.0\" /><rect fill=\"#000000\" height=\"20.0\" stroke=\"#000000\" stroke-width=\"1\" width=\"20.0\" x=\"40.0\" y=\"40.0\" /><rect fill=\"#000000\" height=\"20.0\" stroke=\"#000000\" stroke-width=\"1\" width=\"20.0\" x=\"100.0\" y=\"40.0\" /><rect fill=\"#000000\" height=\"20.0\" stroke=\"#000000\" stroke-width=\"1\" width=\"20.0\" x=\"140.0\" y=\"40.0\" /><rect fill=\"#000000\" height=\"20.0\" stroke=\"#000000\" stroke-width=\"1\" width=\"20.0\" x=\"160.0\" y=\"40.0\" /><rect fill=\"#000000\" height=\"20.0\" stroke=\"#000000\" stroke-width=\"1\" width=\"20.0\" x=\"180.0\" y=\"40.0\" /><rect fill=\"#000000\" height=\"20.0\" stroke=\"#000000\" stroke-width=\"1\" width=\"20.0\" x=\"200.0\" y=\"40.0\" /><rect fill=\"#000000\" height=\"20.0\" stroke=\"#000000\" stroke-width=\"1\" width=\"20.0\" x=\"220.0\" y=\"40.0\" /><rect fill=\"#000000\" height=\"20.0\" stroke=\"#000000\" stroke-width=\"1\" width=\"20.0\" x=\"240.0\" y=\"40.0\" /><rect fill=\"#000000\" height=\"20.0\" stroke=\"#000000\" stroke-width=\"1\" width=\"20.0\" x=\"260.0\" y=\"40.0\" /><rect fill=\"#000000\" height=\"20.0\" stroke=\"#000000\" stroke-width=\"1\" width=\"20.0\" x=\"280.0\" y=\"40.0\" /><rect fill=\"#000000\" height=\"20.0\" stroke=\"#000000\" stroke-width=\"1\" width=\"20.0\" x=\"400.0\" y=\"40.0\" /><rect fill=\"#000000\" height=\"20.0\" stroke=\"#000000\" stroke-width=\"1\" width=\"20.0\" x=\"440.0\" y=\"40.0\" /><rect fill=\"#000000\" height=\"20.0\" stroke=\"#000000\" stroke-width=\"1\" width=\"20.0\" x=\"40.0\" y=\"60.0\" /><rect fill=\"#000000\" height=\"20.0\" stroke=\"#000000\" stroke-width=\"1\" width=\"20.0\" x=\"140.0\" y=\"60.0\" /><rect fill=\"#000000\" height=\"20.0\" stroke=\"#000000\" stroke-width=\"1\" width=\"20.0\" x=\"160.0\" y=\"60.0\" /><rect fill=\"#000000\" height=\"20.0\" stroke=\"#000000\" stroke-width=\"1\" width=\"20.0\" x=\"240.0\" y=\"60.0\" /><rect fill=\"#000000\" height=\"20.0\" stroke=\"#000000\" stroke-width=\"1\" width=\"20.0\" x=\"340.0\" y=\"60.0\" /><rect fill=\"#000000\" height=\"20.0\" stroke=\"#000000\" stroke-width=\"1\" width=\"20.0\" x=\"360.0\" y=\"60.0\" /><rect fill=\"#000000\" height=\"20.0\" stroke=\"#000000\" stroke-width=\"1\" width=\"20.0\" x=\"380.0\" y=\"60.0\" /><rect fill=\"#000000\" height=\"20.0\" stroke=\"#000000\" stroke-width=\"1\" width=\"20.0\" x=\"400.0\" y=\"60.0\" /><rect fill=\"#000000\" height=\"20.0\" stroke=\"#000000\" stroke-width=\"1\" width=\"20.0\" x=\"460.0\" y=\"60.0\" /><rect fill=\"#000000\" height=\"20.0\" stroke=\"#000000\" stroke-width=\"1\" width=\"20.0\" x=\"40.0\" y=\"80.0\" /><rect fill=\"#000000\" height=\"20.0\" stroke=\"#000000\" stroke-width=\"1\" width=\"20.0\" x=\"60.0\" y=\"80.0\" /><rect fill=\"#000000\" height=\"20.0\" stroke=\"#000000\" stroke-width=\"1\" width=\"20.0\" x=\"160.0\" y=\"80.0\" /><rect fill=\"#000000\" height=\"20.0\" stroke=\"#000000\" stroke-width=\"1\" width=\"20.0\" x=\"240.0\" y=\"80.0\" /><rect fill=\"#000000\" height=\"20.0\" stroke=\"#000000\" stroke-width=\"1\" width=\"20.0\" x=\"300.0\" y=\"80.0\" /><rect fill=\"#000000\" height=\"20.0\" stroke=\"#000000\" stroke-width=\"1\" width=\"20.0\" x=\"460.0\" y=\"80.0\" /><rect fill=\"#000000\" height=\"20.0\" stroke=\"#000000\" stroke-width=\"1\" width=\"20.0\" x=\"80.0\" y=\"100.0\" /><rect fill=\"#000000\" height=\"20.0\" stroke=\"#000000\" stroke-width=\"1\" width=\"20.0\" x=\"120.0\" y=\"100.0\" /><rect fill=\"#000000\" height=\"20.0\" stroke=\"#000000\" stroke-width=\"1\" width=\"20.0\" x=\"200.0\" y=\"100.0\" /><rect fill=\"#000000\" height=\"20.0\" stroke=\"#000000\" stroke-width=\"1\" width=\"20.0\" x=\"240.0\" y=\"100.0\" /><rect fill=\"#000000\" height=\"20.0\" stroke=\"#000000\" stroke-width=\"1\" width=\"20.0\" x=\"460.0\" y=\"100.0\" /><rect fill=\"#000000\" height=\"20.0\" stroke=\"#000000\" stroke-width=\"1\" width=\"20.0\" x=\"20.0\" y=\"120.0\" /><rect fill=\"#000000\" height=\"20.0\" stroke=\"#000000\" stroke-width=\"1\" width=\"20.0\" x=\"160.0\" y=\"120.0\" /><rect fill=\"#000000\" height=\"20.0\" stroke=\"#000000\" stroke-width=\"1\" width=\"20.0\" x=\"240.0\" y=\"120.0\" /><rect fill=\"#000000\" height=\"20.0\" stroke=\"#000000\" stroke-width=\"1\" width=\"20.0\" x=\"340.0\" y=\"120.0\" /><rect fill=\"#000000\" height=\"20.0\" stroke=\"#000000\" stroke-width=\"1\" width=\"20.0\" x=\"360.0\" y=\"120.0\" /><rect fill=\"#000000\" height=\"20.0\" stroke=\"#000000\" stroke-width=\"1\" width=\"20.0\" x=\"460.0\" y=\"120.0\" /><rect fill=\"#000000\" height=\"20.0\" stroke=\"#000000\" stroke-width=\"1\" width=\"20.0\" x=\"0.0\" y=\"140.0\" /><rect fill=\"#000000\" height=\"20.0\" stroke=\"#000000\" stroke-width=\"1\" width=\"20.0\" x=\"20.0\" y=\"140.0\" /><rect fill=\"#000000\" height=\"20.0\" stroke=\"#000000\" stroke-width=\"1\" width=\"20.0\" x=\"80.0\" y=\"140.0\" /><rect fill=\"#000000\" height=\"20.0\" stroke=\"#000000\" stroke-width=\"1\" width=\"20.0\" x=\"100.0\" y=\"140.0\" /><rect fill=\"#000000\" height=\"20.0\" stroke=\"#000000\" stroke-width=\"1\" width=\"20.0\" x=\"120.0\" y=\"140.0\" /><rect fill=\"#000000\" height=\"20.0\" stroke=\"#000000\" stroke-width=\"1\" width=\"20.0\" x=\"140.0\" y=\"140.0\" /><rect fill=\"#000000\" height=\"20.0\" stroke=\"#000000\" stroke-width=\"1\" width=\"20.0\" x=\"160.0\" y=\"140.0\" /><rect fill=\"#000000\" height=\"20.0\" stroke=\"#000000\" stroke-width=\"1\" width=\"20.0\" x=\"240.0\" y=\"140.0\" /><rect fill=\"#000000\" height=\"20.0\" stroke=\"#000000\" stroke-width=\"1\" width=\"20.0\" x=\"320.0\" y=\"140.0\" /><rect fill=\"#000000\" height=\"20.0\" stroke=\"#000000\" stroke-width=\"1\" width=\"20.0\" x=\"340.0\" y=\"140.0\" /><rect fill=\"#000000\" height=\"20.0\" stroke=\"#000000\" stroke-width=\"1\" width=\"20.0\" x=\"360.0\" y=\"140.0\" /><rect fill=\"#000000\" height=\"20.0\" stroke=\"#000000\" stroke-width=\"1\" width=\"20.0\" x=\"380.0\" y=\"140.0\" /><rect fill=\"#000000\" height=\"20.0\" stroke=\"#000000\" stroke-width=\"1\" width=\"20.0\" x=\"400.0\" y=\"140.0\" /><rect fill=\"#000000\" height=\"20.0\" stroke=\"#000000\" stroke-width=\"1\" width=\"20.0\" x=\"420.0\" y=\"140.0\" /><rect fill=\"#000000\" height=\"20.0\" stroke=\"#000000\" stroke-width=\"1\" width=\"20.0\" x=\"0.0\" y=\"160.0\" /><rect fill=\"#000000\" height=\"20.0\" stroke=\"#000000\" stroke-width=\"1\" width=\"20.0\" x=\"20.0\" y=\"160.0\" /><rect fill=\"#000000\" height=\"20.0\" stroke=\"#000000\" stroke-width=\"1\" width=\"20.0\" x=\"80.0\" y=\"160.0\" /><rect fill=\"#000000\" height=\"20.0\" stroke=\"#000000\" stroke-width=\"1\" width=\"20.0\" x=\"100.0\" y=\"160.0\" /><rect fill=\"#000000\" height=\"20.0\" stroke=\"#000000\" stroke-width=\"1\" width=\"20.0\" x=\"120.0\" y=\"160.0\" /><rect fill=\"#000000\" height=\"20.0\" stroke=\"#000000\" stroke-width=\"1\" width=\"20.0\" x=\"160.0\" y=\"160.0\" /><rect fill=\"#000000\" height=\"20.0\" stroke=\"#000000\" stroke-width=\"1\" width=\"20.0\" x=\"260.0\" y=\"160.0\" /><rect fill=\"#000000\" height=\"20.0\" stroke=\"#000000\" stroke-width=\"1\" width=\"20.0\" x=\"340.0\" y=\"160.0\" /><rect fill=\"#000000\" height=\"20.0\" stroke=\"#000000\" stroke-width=\"1\" width=\"20.0\" x=\"360.0\" y=\"160.0\" /><rect fill=\"#000000\" height=\"20.0\" stroke=\"#000000\" stroke-width=\"1\" width=\"20.0\" x=\"0.0\" y=\"180.0\" /><rect fill=\"#000000\" height=\"20.0\" stroke=\"#000000\" stroke-width=\"1\" width=\"20.0\" x=\"20.0\" y=\"180.0\" /><rect fill=\"#000000\" height=\"20.0\" stroke=\"#000000\" stroke-width=\"1\" width=\"20.0\" x=\"120.0\" y=\"180.0\" /><rect fill=\"#000000\" height=\"20.0\" stroke=\"#000000\" stroke-width=\"1\" width=\"20.0\" x=\"440.0\" y=\"180.0\" /><rect fill=\"#000000\" height=\"20.0\" stroke=\"#000000\" stroke-width=\"1\" width=\"20.0\" x=\"60.0\" y=\"200.0\" /><rect fill=\"#000000\" height=\"20.0\" stroke=\"#000000\" stroke-width=\"1\" width=\"20.0\" x=\"120.0\" y=\"200.0\" /><rect fill=\"#000000\" height=\"20.0\" stroke=\"#000000\" stroke-width=\"1\" width=\"20.0\" x=\"220.0\" y=\"200.0\" /><rect fill=\"#000000\" height=\"20.0\" stroke=\"#000000\" stroke-width=\"1\" width=\"20.0\" x=\"300.0\" y=\"200.0\" /><rect fill=\"#000000\" height=\"20.0\" stroke=\"#000000\" stroke-width=\"1\" width=\"20.0\" x=\"420.0\" y=\"200.0\" /><rect fill=\"#000000\" height=\"20.0\" stroke=\"#000000\" stroke-width=\"1\" width=\"20.0\" x=\"440.0\" y=\"200.0\" /><rect fill=\"#000000\" height=\"20.0\" stroke=\"#000000\" stroke-width=\"1\" width=\"20.0\" x=\"460.0\" y=\"200.0\" /><rect fill=\"#000000\" height=\"20.0\" stroke=\"#000000\" stroke-width=\"1\" width=\"20.0\" x=\"480.0\" y=\"200.0\" /><rect fill=\"#000000\" height=\"20.0\" stroke=\"#000000\" stroke-width=\"1\" width=\"20.0\" x=\"60.0\" y=\"220.0\" /><rect fill=\"#000000\" height=\"20.0\" stroke=\"#000000\" stroke-width=\"1\" width=\"20.0\" x=\"120.0\" y=\"220.0\" /><rect fill=\"#000000\" height=\"20.0\" stroke=\"#000000\" stroke-width=\"1\" width=\"20.0\" x=\"140.0\" y=\"220.0\" /><rect fill=\"#000000\" height=\"20.0\" stroke=\"#000000\" stroke-width=\"1\" width=\"20.0\" x=\"160.0\" y=\"220.0\" /><rect fill=\"#000000\" height=\"20.0\" stroke=\"#000000\" stroke-width=\"1\" width=\"20.0\" x=\"180.0\" y=\"220.0\" /><rect fill=\"#000000\" height=\"20.0\" stroke=\"#000000\" stroke-width=\"1\" width=\"20.0\" x=\"200.0\" y=\"220.0\" /><rect fill=\"#000000\" height=\"20.0\" stroke=\"#000000\" stroke-width=\"1\" width=\"20.0\" x=\"220.0\" y=\"220.0\" /><rect fill=\"#000000\" height=\"20.0\" stroke=\"#000000\" stroke-width=\"1\" width=\"20.0\" x=\"240.0\" y=\"220.0\" /><rect fill=\"#000000\" height=\"20.0\" stroke=\"#000000\" stroke-width=\"1\" width=\"20.0\" x=\"380.0\" y=\"220.0\" /><rect fill=\"#000000\" height=\"20.0\" stroke=\"#000000\" stroke-width=\"1\" width=\"20.0\" x=\"0.0\" y=\"240.0\" /><rect fill=\"#000000\" height=\"20.0\" stroke=\"#000000\" stroke-width=\"1\" width=\"20.0\" x=\"20.0\" y=\"240.0\" /><rect fill=\"#000000\" height=\"20.0\" stroke=\"#000000\" stroke-width=\"1\" width=\"20.0\" x=\"40.0\" y=\"240.0\" /><rect fill=\"#000000\" height=\"20.0\" stroke=\"#000000\" stroke-width=\"1\" width=\"20.0\" x=\"60.0\" y=\"240.0\" /><rect fill=\"#000000\" height=\"20.0\" stroke=\"#000000\" stroke-width=\"1\" width=\"20.0\" x=\"120.0\" y=\"240.0\" /><rect fill=\"#000000\" height=\"20.0\" stroke=\"#000000\" stroke-width=\"1\" width=\"20.0\" x=\"340.0\" y=\"240.0\" /><rect fill=\"#000000\" height=\"20.0\" stroke=\"#000000\" stroke-width=\"1\" width=\"20.0\" x=\"40.0\" y=\"260.0\" /><rect fill=\"#000000\" height=\"20.0\" stroke=\"#000000\" stroke-width=\"1\" width=\"20.0\" x=\"120.0\" y=\"260.0\" /><rect fill=\"#000000\" height=\"20.0\" stroke=\"#000000\" stroke-width=\"1\" width=\"20.0\" x=\"440.0\" y=\"260.0\" /><rect fill=\"#000000\" height=\"20.0\" stroke=\"#000000\" stroke-width=\"1\" width=\"20.0\" x=\"40.0\" y=\"280.0\" /><rect fill=\"#000000\" height=\"20.0\" stroke=\"#000000\" stroke-width=\"1\" width=\"20.0\" x=\"200.0\" y=\"280.0\" /><rect fill=\"#000000\" height=\"20.0\" stroke=\"#000000\" stroke-width=\"1\" width=\"20.0\" x=\"280.0\" y=\"280.0\" /><rect fill=\"#000000\" height=\"20.0\" stroke=\"#000000\" stroke-width=\"1\" width=\"20.0\" x=\"300.0\" y=\"280.0\" /><rect fill=\"#000000\" height=\"20.0\" stroke=\"#000000\" stroke-width=\"1\" width=\"20.0\" x=\"400.0\" y=\"280.0\" /><rect fill=\"#000000\" height=\"20.0\" stroke=\"#000000\" stroke-width=\"1\" width=\"20.0\" x=\"420.0\" y=\"280.0\" /><rect fill=\"#000000\" height=\"20.0\" stroke=\"#000000\" stroke-width=\"1\" width=\"20.0\" x=\"440.0\" y=\"280.0\" /><rect fill=\"#000000\" height=\"20.0\" stroke=\"#000000\" stroke-width=\"1\" width=\"20.0\" x=\"140.0\" y=\"300.0\" /><rect fill=\"#000000\" height=\"20.0\" stroke=\"#000000\" stroke-width=\"1\" width=\"20.0\" x=\"160.0\" y=\"300.0\" /><rect fill=\"#000000\" height=\"20.0\" stroke=\"#000000\" stroke-width=\"1\" width=\"20.0\" x=\"180.0\" y=\"300.0\" /><rect fill=\"#000000\" height=\"20.0\" stroke=\"#000000\" stroke-width=\"1\" width=\"20.0\" x=\"200.0\" y=\"300.0\" /><rect fill=\"#000000\" height=\"20.0\" stroke=\"#000000\" stroke-width=\"1\" width=\"20.0\" x=\"280.0\" y=\"300.0\" /><rect fill=\"#000000\" height=\"20.0\" stroke=\"#000000\" stroke-width=\"1\" width=\"20.0\" x=\"340.0\" y=\"300.0\" /><rect fill=\"#000000\" height=\"20.0\" stroke=\"#000000\" stroke-width=\"1\" width=\"20.0\" x=\"420.0\" y=\"300.0\" /><rect fill=\"#000000\" height=\"20.0\" stroke=\"#000000\" stroke-width=\"1\" width=\"20.0\" x=\"80.0\" y=\"320.0\" /><rect fill=\"#000000\" height=\"20.0\" stroke=\"#000000\" stroke-width=\"1\" width=\"20.0\" x=\"160.0\" y=\"320.0\" /><rect fill=\"#000000\" height=\"20.0\" stroke=\"#000000\" stroke-width=\"1\" width=\"20.0\" x=\"180.0\" y=\"320.0\" /><rect fill=\"#000000\" height=\"20.0\" stroke=\"#000000\" stroke-width=\"1\" width=\"20.0\" x=\"200.0\" y=\"320.0\" /><rect fill=\"#000000\" height=\"20.0\" stroke=\"#000000\" stroke-width=\"1\" width=\"20.0\" x=\"280.0\" y=\"320.0\" /><rect fill=\"#000000\" height=\"20.0\" stroke=\"#000000\" stroke-width=\"1\" width=\"20.0\" x=\"300.0\" y=\"320.0\" /><rect fill=\"#000000\" height=\"20.0\" stroke=\"#000000\" stroke-width=\"1\" width=\"20.0\" x=\"360.0\" y=\"320.0\" /><rect fill=\"#000000\" height=\"20.0\" stroke=\"#000000\" stroke-width=\"1\" width=\"20.0\" x=\"420.0\" y=\"320.0\" /><rect fill=\"#000000\" height=\"20.0\" stroke=\"#000000\" stroke-width=\"1\" width=\"20.0\" x=\"20.0\" y=\"340.0\" /><rect fill=\"#000000\" height=\"20.0\" stroke=\"#000000\" stroke-width=\"1\" width=\"20.0\" x=\"80.0\" y=\"340.0\" /><rect fill=\"#000000\" height=\"20.0\" stroke=\"#000000\" stroke-width=\"1\" width=\"20.0\" x=\"100.0\" y=\"340.0\" /><rect fill=\"#000000\" height=\"20.0\" stroke=\"#000000\" stroke-width=\"1\" width=\"20.0\" x=\"180.0\" y=\"340.0\" /><rect fill=\"#000000\" height=\"20.0\" stroke=\"#000000\" stroke-width=\"1\" width=\"20.0\" x=\"200.0\" y=\"340.0\" /><rect fill=\"#000000\" height=\"20.0\" stroke=\"#000000\" stroke-width=\"1\" width=\"20.0\" x=\"280.0\" y=\"340.0\" /><rect fill=\"#000000\" height=\"20.0\" stroke=\"#000000\" stroke-width=\"1\" width=\"20.0\" x=\"340.0\" y=\"340.0\" /><rect fill=\"#000000\" height=\"20.0\" stroke=\"#000000\" stroke-width=\"1\" width=\"20.0\" x=\"420.0\" y=\"340.0\" /><rect fill=\"#000000\" height=\"20.0\" stroke=\"#000000\" stroke-width=\"1\" width=\"20.0\" x=\"20.0\" y=\"360.0\" /><rect fill=\"#000000\" height=\"20.0\" stroke=\"#000000\" stroke-width=\"1\" width=\"20.0\" x=\"80.0\" y=\"360.0\" /><rect fill=\"#000000\" height=\"20.0\" stroke=\"#000000\" stroke-width=\"1\" width=\"20.0\" x=\"100.0\" y=\"360.0\" /><rect fill=\"#000000\" height=\"20.0\" stroke=\"#000000\" stroke-width=\"1\" width=\"20.0\" x=\"120.0\" y=\"360.0\" /><rect fill=\"#000000\" height=\"20.0\" stroke=\"#000000\" stroke-width=\"1\" width=\"20.0\" x=\"200.0\" y=\"360.0\" /><rect fill=\"#000000\" height=\"20.0\" stroke=\"#000000\" stroke-width=\"1\" width=\"20.0\" x=\"280.0\" y=\"360.0\" /><rect fill=\"#000000\" height=\"20.0\" stroke=\"#000000\" stroke-width=\"1\" width=\"20.0\" x=\"300.0\" y=\"360.0\" /><rect fill=\"#000000\" height=\"20.0\" stroke=\"#000000\" stroke-width=\"1\" width=\"20.0\" x=\"360.0\" y=\"360.0\" /><rect fill=\"#000000\" height=\"20.0\" stroke=\"#000000\" stroke-width=\"1\" width=\"20.0\" x=\"420.0\" y=\"360.0\" /><rect fill=\"#000000\" height=\"20.0\" stroke=\"#000000\" stroke-width=\"1\" width=\"20.0\" x=\"460.0\" y=\"360.0\" /><rect fill=\"#000000\" height=\"20.0\" stroke=\"#000000\" stroke-width=\"1\" width=\"20.0\" x=\"480.0\" y=\"360.0\" /><rect fill=\"#000000\" height=\"20.0\" stroke=\"#000000\" stroke-width=\"1\" width=\"20.0\" x=\"20.0\" y=\"380.0\" /><rect fill=\"#000000\" height=\"20.0\" stroke=\"#000000\" stroke-width=\"1\" width=\"20.0\" x=\"80.0\" y=\"380.0\" /><rect fill=\"#000000\" height=\"20.0\" stroke=\"#000000\" stroke-width=\"1\" width=\"20.0\" x=\"100.0\" y=\"380.0\" /><rect fill=\"#000000\" height=\"20.0\" stroke=\"#000000\" stroke-width=\"1\" width=\"20.0\" x=\"120.0\" y=\"380.0\" /><rect fill=\"#000000\" height=\"20.0\" stroke=\"#000000\" stroke-width=\"1\" width=\"20.0\" x=\"140.0\" y=\"380.0\" /><rect fill=\"#000000\" height=\"20.0\" stroke=\"#000000\" stroke-width=\"1\" width=\"20.0\" x=\"280.0\" y=\"380.0\" /><rect fill=\"#000000\" height=\"20.0\" stroke=\"#000000\" stroke-width=\"1\" width=\"20.0\" x=\"340.0\" y=\"380.0\" /><rect fill=\"#000000\" height=\"20.0\" stroke=\"#000000\" stroke-width=\"1\" width=\"20.0\" x=\"420.0\" y=\"380.0\" /><rect fill=\"#000000\" height=\"20.0\" stroke=\"#000000\" stroke-width=\"1\" width=\"20.0\" x=\"20.0\" y=\"400.0\" /><rect fill=\"#000000\" height=\"20.0\" stroke=\"#000000\" stroke-width=\"1\" width=\"20.0\" x=\"80.0\" y=\"400.0\" /><rect fill=\"#000000\" height=\"20.0\" stroke=\"#000000\" stroke-width=\"1\" width=\"20.0\" x=\"100.0\" y=\"400.0\" /><rect fill=\"#000000\" height=\"20.0\" stroke=\"#000000\" stroke-width=\"1\" width=\"20.0\" x=\"120.0\" y=\"400.0\" /><rect fill=\"#000000\" height=\"20.0\" stroke=\"#000000\" stroke-width=\"1\" width=\"20.0\" x=\"140.0\" y=\"400.0\" /><rect fill=\"#000000\" height=\"20.0\" stroke=\"#000000\" stroke-width=\"1\" width=\"20.0\" x=\"160.0\" y=\"400.0\" /><rect fill=\"#000000\" height=\"20.0\" stroke=\"#000000\" stroke-width=\"1\" width=\"20.0\" x=\"280.0\" y=\"400.0\" /><rect fill=\"#000000\" height=\"20.0\" stroke=\"#000000\" stroke-width=\"1\" width=\"20.0\" x=\"300.0\" y=\"400.0\" /><rect fill=\"#000000\" height=\"20.0\" stroke=\"#000000\" stroke-width=\"1\" width=\"20.0\" x=\"360.0\" y=\"400.0\" /><rect fill=\"#000000\" height=\"20.0\" stroke=\"#000000\" stroke-width=\"1\" width=\"20.0\" x=\"420.0\" y=\"400.0\" /><rect fill=\"#000000\" height=\"20.0\" stroke=\"#000000\" stroke-width=\"1\" width=\"20.0\" x=\"40.0\" y=\"420.0\" /><rect fill=\"#000000\" height=\"20.0\" stroke=\"#000000\" stroke-width=\"1\" width=\"20.0\" x=\"80.0\" y=\"420.0\" /><rect fill=\"#000000\" height=\"20.0\" stroke=\"#000000\" stroke-width=\"1\" width=\"20.0\" x=\"100.0\" y=\"420.0\" /><rect fill=\"#000000\" height=\"20.0\" stroke=\"#000000\" stroke-width=\"1\" width=\"20.0\" x=\"120.0\" y=\"420.0\" /><rect fill=\"#000000\" height=\"20.0\" stroke=\"#000000\" stroke-width=\"1\" width=\"20.0\" x=\"140.0\" y=\"420.0\" /><rect fill=\"#000000\" height=\"20.0\" stroke=\"#000000\" stroke-width=\"1\" width=\"20.0\" x=\"160.0\" y=\"420.0\" /><rect fill=\"#000000\" height=\"20.0\" stroke=\"#000000\" stroke-width=\"1\" width=\"20.0\" x=\"220.0\" y=\"420.0\" /><rect fill=\"#000000\" height=\"20.0\" stroke=\"#000000\" stroke-width=\"1\" width=\"20.0\" x=\"280.0\" y=\"420.0\" /><rect fill=\"#000000\" height=\"20.0\" stroke=\"#000000\" stroke-width=\"1\" width=\"20.0\" x=\"340.0\" y=\"420.0\" /><rect fill=\"#000000\" height=\"20.0\" stroke=\"#000000\" stroke-width=\"1\" width=\"20.0\" x=\"480.0\" y=\"420.0\" /><rect fill=\"#000000\" height=\"20.0\" stroke=\"#000000\" stroke-width=\"1\" width=\"20.0\" x=\"220.0\" y=\"440.0\" /><rect fill=\"#000000\" height=\"20.0\" stroke=\"#000000\" stroke-width=\"1\" width=\"20.0\" x=\"240.0\" y=\"440.0\" /><rect fill=\"#000000\" height=\"20.0\" stroke=\"#000000\" stroke-width=\"1\" width=\"20.0\" x=\"260.0\" y=\"440.0\" /><rect fill=\"#000000\" height=\"20.0\" stroke=\"#000000\" stroke-width=\"1\" width=\"20.0\" x=\"280.0\" y=\"440.0\" /><rect fill=\"#000000\" height=\"20.0\" stroke=\"#000000\" stroke-width=\"1\" width=\"20.0\" x=\"300.0\" y=\"440.0\" /><rect fill=\"#000000\" height=\"20.0\" stroke=\"#000000\" stroke-width=\"1\" width=\"20.0\" x=\"360.0\" y=\"440.0\" /><rect fill=\"#000000\" height=\"20.0\" stroke=\"#000000\" stroke-width=\"1\" width=\"20.0\" x=\"480.0\" y=\"440.0\" /><rect fill=\"#000000\" height=\"20.0\" stroke=\"#000000\" stroke-width=\"1\" width=\"20.0\" x=\"20.0\" y=\"460.0\" /><rect fill=\"#000000\" height=\"20.0\" stroke=\"#000000\" stroke-width=\"1\" width=\"20.0\" x=\"180.0\" y=\"460.0\" /><rect fill=\"#000000\" height=\"20.0\" stroke=\"#000000\" stroke-width=\"1\" width=\"20.0\" x=\"280.0\" y=\"460.0\" /><rect fill=\"#000000\" height=\"20.0\" stroke=\"#000000\" stroke-width=\"1\" width=\"20.0\" x=\"340.0\" y=\"460.0\" /><rect fill=\"#000000\" height=\"20.0\" stroke=\"#000000\" stroke-width=\"1\" width=\"20.0\" x=\"420.0\" y=\"460.0\" /><rect fill=\"#000000\" height=\"20.0\" stroke=\"#000000\" stroke-width=\"1\" width=\"20.0\" x=\"440.0\" y=\"460.0\" /><rect fill=\"#000000\" height=\"20.0\" stroke=\"#000000\" stroke-width=\"1\" width=\"20.0\" x=\"80.0\" y=\"480.0\" /><rect fill=\"#000000\" height=\"20.0\" stroke=\"#000000\" stroke-width=\"1\" width=\"20.0\" x=\"100.0\" y=\"480.0\" /><rect fill=\"#000000\" height=\"20.0\" stroke=\"#000000\" stroke-width=\"1\" width=\"20.0\" x=\"140.0\" y=\"480.0\" /><rect fill=\"#000000\" height=\"20.0\" stroke=\"#000000\" stroke-width=\"1\" width=\"20.0\" x=\"220.0\" y=\"480.0\" /><rect fill=\"#000000\" height=\"20.0\" stroke=\"#000000\" stroke-width=\"1\" width=\"20.0\" x=\"280.0\" y=\"480.0\" /><rect fill=\"#000000\" height=\"20.0\" stroke=\"#000000\" stroke-width=\"1\" width=\"20.0\" x=\"300.0\" y=\"480.0\" /><rect fill=\"#000000\" height=\"20.0\" stroke=\"#000000\" stroke-width=\"1\" width=\"20.0\" x=\"420.0\" y=\"480.0\" /><rect fill=\"#000000\" height=\"20.0\" stroke=\"#000000\" stroke-width=\"1\" width=\"20.0\" x=\"440.0\" y=\"480.0\" /><line fill=\"#800080\" stroke=\"#add8e6\" stroke-width=\"1\" x1=\"22.573989153040014\" x2=\"40.0\" y1=\"33.17562708276604\" y2=\"14.333969999999994\" /><line fill=\"#800080\" stroke=\"#add8e6\" stroke-width=\"1\" x1=\"23.262302538289198\" x2=\"40.0\" y1=\"34.49328587156032\" y2=\"27.650720000000035\" /><line fill=\"#800080\" stroke=\"#add8e6\" stroke-width=\"1\" x1=\"23.15960045272254\" x2=\"40.0\" y1=\"35.48799803174546\" y2=\"36.30122800000002\" /><line fill=\"#800080\" stroke=\"#add8e6\" stroke-width=\"1\" x1=\"22.711887933649287\" x2=\"28.964169247461488\" y1=\"36.7084706861975\" y2=\"40.0\" /><line fill=\"#800080\" stroke=\"#add8e6\" stroke-width=\"1\" x1=\"21.353910004520422\" x2=\"22.503629860600114\" y1=\"38.17676763981375\" y2=\"40.0\" /><line fill=\"#800080\" stroke=\"#add8e6\" stroke-width=\"1\" x1=\"20.17204900863903\" x2=\"20.334774998536833\" y1=\"38.7182513297013\" y2=\"40.0\" /><line fill=\"#800080\" stroke=\"#add8e6\" stroke-width=\"1\" x1=\"19.188368750902598\" x2=\"0.0\" y1=\"38.8981767324092\" y2=\"98.78974200000002\" /><line fill=\"#800080\" stroke=\"#add8e6\" stroke-width=\"1\" x1=\"17.821066401088977\" x2=\"0.0\" y1=\"38.31466642042301\" y2=\"57.58347399999998\" /><line fill=\"#800080\" stroke=\"#add8e6\" stroke-width=\"1\" x1=\"14.8844724938564\" x2=\"0.0\" y1=\"35.598710562165294\" y2=\"51.692362\" /><line fill=\"#800080\" stroke=\"#add8e6\" stroke-width=\"1\" x1=\"14.196159108607214\" x2=\"0.0\" y1=\"34.28105177337102\" y2=\"40.084605999999994\" /><line fill=\"#800080\" stroke=\"#add8e6\" stroke-width=\"1\" x1=\"14.298861194173876\" x2=\"0.0\" y1=\"33.28633961318587\" y2=\"32.59584199999999\" /><line fill=\"#800080\" stroke=\"#add8e6\" stroke-width=\"1\" x1=\"14.746573713247122\" x2=\"0.0\" y1=\"32.065866958733835\" y2=\"24.302490000000034\" /><line fill=\"#800080\" stroke=\"#add8e6\" stroke-width=\"1\" x1=\"16.104551642375988\" x2=\"9.42178062658029\" y1=\"30.59757000511759\" y2=\"20.0\" /><line fill=\"#800080\" stroke=\"#add8e6\" stroke-width=\"1\" x1=\"17.28641263825738\" x2=\"16.009735715307706\" y1=\"30.056086315230033\" y2=\"20.0\" /><line fill=\"#800080\" stroke=\"#add8e6\" stroke-width=\"1\" x1=\"18.270092895993816\" x2=\"27.841970399550103\" y1=\"29.87616091252214\" y2=\"0.0\" /><line fill=\"#800080\" stroke=\"#add8e6\" stroke-width=\"1\" x1=\"19.637395245807433\" x2=\"40.0\" y1=\"30.459671224508327\" y2=\"8.442856000000063\" /><line fill=\"#800080\" stroke=\"#ffc0cb\" stroke-width=\"1\" x1=\"23.064121800144235\" x2=\"33.05651247557581\" y1=\"34.85484415873998\" y2=\"34.46480750719523\" /><line fill=\"#800080\" stroke=\"#ffc0cb\" stroke-width=\"1\" x1=\"19.533379184409185\" x2=\"19.923415835953897\" y1=\"38.672416238142375\" y2=\"48.664806913573955\" /><polygon fill=\"white\" points=\"23.119281312387947,36.26798160011255 23.308137629848158,33.85461604733045 18.90324676899929,29.780682259943845 16.51194502111465,30.15708091903271 14.33918033450846,32.50635604481879 14.150324017048257,34.91972159760088 18.555214877897125,38.99365538498749 20.94651662578176,38.61725672589863\" stroke=\"black\" stroke-width=\"1\" /><polygon points=\"-1.0,-1.0 0,0 1.0,-1.0 0,1.0\" stroke=\"black\" stroke-width=\"1\" transform=\"translate(18.729230823448205,34.38716882246567) rotate(-47.235312401579)\" /></svg>"
      ],
      "text/plain": [
       "<jyro.simulator.canvas.Canvas at 0x10fe61c10>"
      ]
     },
     "metadata": {},
     "output_type": "display_data"
    },
    {
     "ename": "KeyboardInterrupt",
     "evalue": "",
     "output_type": "error",
     "traceback": [
      "\u001b[0;31m---------------------------------------------------------------------------\u001b[0m",
      "\u001b[0;31mKeyboardInterrupt\u001b[0m                         Traceback (most recent call last)",
      "File \u001b[0;32m<timed exec>:9\u001b[0m\n",
      "\u001b[0;31mKeyboardInterrupt\u001b[0m: "
     ]
    }
   ],
   "source": [
    "%%time\n",
    "\n",
    "import time\n",
    "\n",
    "for i in range(1000):\n",
    "    sim.step(run_brain=True)\n",
    "    for r in sim.robots:\n",
    "        sim.draw(canvas)\n",
    "        clear_output(wait=True)\n",
    "        display(canvas)\n",
    "        time.sleep(0.05) # sleep for a bit"
   ]
  },
  {
   "cell_type": "code",
   "execution_count": 17,
   "metadata": {},
   "outputs": [],
   "source": [
    "def generate_data(robot, make_world, trials, filename):\n",
    "    sim = Simulator(robot, make_world)\n",
    "    fp = open(filename, \"w\")\n",
    "    for i in range(trials):\n",
    "        print(\"Trial %d\" % i)\n",
    "        random_start(robot)\n",
    "        while True:\n",
    "            senses = get_senses(robot)\n",
    "            print(senses)\n",
    "            translate, rotate = determine_move(senses)\n",
    "            if translate == 0 and rotate == 0:\n",
    "                break # found light, so end trial\n",
    "            robot.move(translate, rotate)\n",
    "            sim.step()\n",
    "            lights = senses[0]\n",
    "            sonars = [min(v/3.0, 1.0) for v in senses[1]] #normalize sonar values\n",
    "            for value in lights:\n",
    "                fp.write(\"%.3f \" % value)\n",
    "            for value in sonars[1:7]:\n",
    "                fp.write(\"%.3f \" % value)\n",
    "            fp.write(\"%.1f %.1f\\n\" % (translate, rotate))\n",
    "    fp.close()"
   ]
  },
  {
   "cell_type": "code",
   "execution_count": 18,
   "metadata": {},
   "outputs": [
    {
     "name": "stdout",
     "output_type": "stream",
     "text": [
      "Trial 0\n"
     ]
    },
    {
     "ename": "NameError",
     "evalue": "name 'random_start' is not defined",
     "output_type": "error",
     "traceback": [
      "\u001b[0;31m---------------------------------------------------------------------------\u001b[0m",
      "\u001b[0;31mNameError\u001b[0m                                 Traceback (most recent call last)",
      "Cell \u001b[0;32mIn[18], line 1\u001b[0m\n\u001b[0;32m----> 1\u001b[0m \u001b[43mgenerate_data\u001b[49m\u001b[43m(\u001b[49m\u001b[43mrobot\u001b[49m\u001b[43m,\u001b[49m\u001b[43m \u001b[49m\u001b[43mmake_world\u001b[49m\u001b[43m,\u001b[49m\u001b[43m \u001b[49m\u001b[38;5;241;43m5\u001b[39;49m\u001b[43m,\u001b[49m\u001b[43m \u001b[49m\u001b[38;5;124;43m\"\u001b[39;49m\u001b[38;5;124;43mtesting_data.txt\u001b[39;49m\u001b[38;5;124;43m\"\u001b[39;49m\u001b[43m)\u001b[49m\n",
      "Cell \u001b[0;32mIn[17], line 6\u001b[0m, in \u001b[0;36mgenerate_data\u001b[0;34m(robot, make_world, trials, filename)\u001b[0m\n\u001b[1;32m      4\u001b[0m \u001b[38;5;28;01mfor\u001b[39;00m i \u001b[38;5;129;01min\u001b[39;00m \u001b[38;5;28mrange\u001b[39m(trials):\n\u001b[1;32m      5\u001b[0m     \u001b[38;5;28mprint\u001b[39m(\u001b[38;5;124m\"\u001b[39m\u001b[38;5;124mTrial \u001b[39m\u001b[38;5;132;01m%d\u001b[39;00m\u001b[38;5;124m\"\u001b[39m \u001b[38;5;241m%\u001b[39m i)\n\u001b[0;32m----> 6\u001b[0m     \u001b[43mrandom_start\u001b[49m(robot)\n\u001b[1;32m      7\u001b[0m     \u001b[38;5;28;01mwhile\u001b[39;00m \u001b[38;5;28;01mTrue\u001b[39;00m:\n\u001b[1;32m      8\u001b[0m         senses \u001b[38;5;241m=\u001b[39m get_senses(robot)\n",
      "\u001b[0;31mNameError\u001b[0m: name 'random_start' is not defined"
     ]
    }
   ],
   "source": [
    "generate_data(robot, make_world, 5, \"testing_data.txt\")"
   ]
  },
  {
   "cell_type": "code",
   "execution_count": 21,
   "metadata": {},
   "outputs": [],
   "source": [
    "test = np.random.choice([0, 1], size=(25,25), p=[1./3, 2./3])"
   ]
  }
 ],
 "metadata": {
  "kernelspec": {
   "display_name": "pymc",
   "language": "python",
   "name": "python3"
  },
  "language_info": {
   "codemirror_mode": {
    "name": "ipython",
    "version": 3
   },
   "file_extension": ".py",
   "mimetype": "text/x-python",
   "name": "python",
   "nbconvert_exporter": "python",
   "pygments_lexer": "ipython3",
   "version": "3.11.8"
  }
 },
 "nbformat": 4,
 "nbformat_minor": 2
}
