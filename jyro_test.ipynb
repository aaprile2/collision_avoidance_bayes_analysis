{
 "cells": [
  {
   "cell_type": "code",
   "execution_count": 2,
   "metadata": {},
   "outputs": [],
   "source": [
    "from jyro.simulator import *\n",
    "import math"
   ]
  },
  {
   "cell_type": "code",
   "execution_count": 3,
   "metadata": {},
   "outputs": [],
   "source": [
    "sim = Physics()"
   ]
  },
  {
   "cell_type": "code",
   "execution_count": 4,
   "metadata": {},
   "outputs": [],
   "source": [
    "def world(sim):\n",
    "    sim.addBox(0, 0, 5, 5, fill=\"backgroundgreen\", wallcolor=\"lightgrey\") # meters\n",
    "    sim.addBox(1, 1, 2, 2, \"purple\")\n",
    "    ## brightness of 1 is radius 1 meter\n",
    "    sim.addLight(4, 4, 1.00, color=Color(255, 255, 0, 64))\n",
    "    sim.addLight(4, 2, 1.00, color=Color(255, 255, 0, 64))"
   ]
  },
  {
   "cell_type": "code",
   "execution_count": 5,
   "metadata": {},
   "outputs": [],
   "source": [
    "world(sim)"
   ]
  },
  {
   "cell_type": "code",
   "execution_count": 6,
   "metadata": {},
   "outputs": [],
   "source": [
    "import random\n",
    "\n",
    "class MyPioneer(Pioneer):\n",
    "    def __init__(self, name, x, y, angle):\n",
    "        Pioneer.__init__(self, name, x, y, angle)\n",
    "        self.addDevice(PioneerFrontSonars(maxRange=5.0))\n",
    "        #self.addDevice(Gripper())\n",
    "        self.addDevice(PioneerFrontLightSensors(5))\n",
    "\n",
    "    def brain(self):\n",
    "        self.move(random.random() * 2 - 1,\n",
    "                  random.random() * 2 - 1)"
   ]
  },
  {
   "cell_type": "code",
   "execution_count": 7,
   "metadata": {},
   "outputs": [],
   "source": [
    "robot = MyPioneer(\"Pioneer\", 2.50, 4.50, math.pi / 2) # meters, radians"
   ]
  },
  {
   "cell_type": "code",
   "execution_count": 8,
   "metadata": {},
   "outputs": [
    {
     "data": {
      "image/svg+xml": [
       "<svg baseProfile=\"full\" height=\"240\" version=\"1.1\" width=\"240\" xmlns=\"http://www.w3.org/2000/svg\" xmlns:ev=\"http://www.w3.org/2001/xml-events\" xmlns:xlink=\"http://www.w3.org/1999/xlink\"><defs /><line fill=\"#800080\" stroke=\"#d3d3d3\" stroke-width=\"1\" x1=\"95.99999999999999\" x2=\"95.99999999999984\" y1=\"162.0\" y2=\"1362.0\" /><line fill=\"#800080\" stroke=\"#d3d3d3\" stroke-width=\"1\" x1=\"79.19999999999999\" x2=\"-427.9419140888393\" y1=\"155.99999999999997\" y2=\"1243.5693444439798\" /><line fill=\"#800080\" stroke=\"#d3d3d3\" stroke-width=\"1\" x1=\"72.0\" x2=\"-847.2533317427736\" y1=\"146.4\" y2=\"917.7451316238472\" /><line fill=\"#800080\" stroke=\"#d3d3d3\" stroke-width=\"1\" x1=\"66.0\" x2=\"-1093.110991546882\" y1=\"132.0\" y2=\"442.5828541230248\" /><line fill=\"#800080\" stroke=\"#d3d3d3\" stroke-width=\"1\" x1=\"66.0\" x2=\"-1093.110991546882\" y1=\"107.99999999999999\" y2=\"-202.5828541230249\" /><line fill=\"#800080\" stroke=\"#d3d3d3\" stroke-width=\"1\" x1=\"72.0\" x2=\"-847.2533317427736\" y1=\"93.60000000000001\" y2=\"-677.7451316238472\" /><line fill=\"#800080\" stroke=\"#d3d3d3\" stroke-width=\"1\" x1=\"79.2\" x2=\"-427.9419140888392\" y1=\"84.0\" y2=\"-1003.56934444398\" /><line fill=\"#800080\" stroke=\"#d3d3d3\" stroke-width=\"1\" x1=\"96.0\" x2=\"96.0\" y1=\"77.99999999999999\" y2=\"-1122.0\" /><polygon fill=\"red\" points=\"66.0,139.20000000000002 84.0,162.0 156.0,162.0 174.0,139.20000000000002 174.0,100.80000000000001 156.0,77.99999999999999 84.0,77.99999999999999 66.0,100.80000000000001\" stroke=\"red\" stroke-width=\"1\" /><polygon points=\"-12.0,-12.0 0,0 12.0,-12.0 0,12.0\" stroke=\"black\" stroke-width=\"1\" transform=\"translate(120.0,120.0) rotate(90.0)\" /><circle cx=\"66.0\" cy=\"162.0\" fill=\"yellow\" r=\"6.0\" stroke=\"orange\" stroke-width=\"1\" /><circle cx=\"66.0\" cy=\"77.99999999999999\" fill=\"yellow\" r=\"6.0\" stroke=\"orange\" stroke-width=\"1\" /></svg>"
      ],
      "text/plain": [
       "<__main__.MyPioneer at 0x10c8e87d0>"
      ]
     },
     "execution_count": 8,
     "metadata": {},
     "output_type": "execute_result"
    }
   ],
   "source": [
    "robot"
   ]
  },
  {
   "cell_type": "code",
   "execution_count": 9,
   "metadata": {},
   "outputs": [],
   "source": [
    "sim.addRobot(robot)"
   ]
  },
  {
   "cell_type": "code",
   "execution_count": 10,
   "metadata": {},
   "outputs": [],
   "source": [
    "canvas = Canvas((250, 250))"
   ]
  },
  {
   "cell_type": "code",
   "execution_count": 11,
   "metadata": {},
   "outputs": [
    {
     "data": {
      "image/svg+xml": [
       "<svg baseProfile=\"full\" height=\"250\" version=\"1.1\" width=\"250\" xmlns=\"http://www.w3.org/2000/svg\" xmlns:ev=\"http://www.w3.org/2001/xml-events\" xmlns:xlink=\"http://www.w3.org/1999/xlink\"><defs /><rect fill=\"#eef3dd\" height=\"250.0\" stroke=\"#d3d3d3\" stroke-width=\"1\" width=\"250.0\" x=\"0.0\" y=\"0.0\" /><rect fill=\"#a020f0\" height=\"50.0\" stroke=\"#a020f0\" stroke-width=\"1\" width=\"50.0\" x=\"50.0\" y=\"150.0\" /><circle cx=\"200.0\" cy=\"50.0\" fill=\"rgba(255,255,0,0.25098039215686274)\" r=\"12.5\" stroke=\"rgba(255,255,0,0.25098039215686274)\" stroke-width=\"1\" /><circle cx=\"200.0\" cy=\"150.0\" fill=\"rgba(255,255,0,0.25098039215686274)\" r=\"12.5\" stroke=\"rgba(255,255,0,0.25098039215686274)\" stroke-width=\"1\" /><line fill=\"#800080\" stroke=\"#add8e6\" stroke-width=\"1\" x1=\"120.0\" x2=\"120.0\" y1=\"33.74999999999999\" y2=\"250.0\" /><line fill=\"#800080\" stroke=\"#add8e6\" stroke-width=\"1\" x1=\"116.5\" x2=\"61.70885017903183\" y1=\"32.500000000000014\" y2=\"150.0\" /><line fill=\"#800080\" stroke=\"#add8e6\" stroke-width=\"1\" x1=\"114.99999999999999\" x2=\"0.0\" y1=\"30.500000000000014\" y2=\"126.99645500000001\" /><line fill=\"#800080\" stroke=\"#add8e6\" stroke-width=\"1\" x1=\"113.75\" x2=\"0.0\" y1=\"27.499999999999993\" y2=\"57.97922\" /><line fill=\"#800080\" stroke=\"#add8e6\" stroke-width=\"1\" x1=\"113.75\" x2=\"29.778853603593507\" y1=\"22.500000000000007\" y2=\"0.0\" /><line fill=\"#800080\" stroke=\"#add8e6\" stroke-width=\"1\" x1=\"114.99999999999999\" x2=\"91.76080527269946\" y1=\"19.499999999999986\" y2=\"0.0\" /><line fill=\"#800080\" stroke=\"#add8e6\" stroke-width=\"1\" x1=\"116.5\" x2=\"108.33961644049732\" y1=\"17.499999999999982\" y2=\"0.0\" /><line fill=\"#800080\" stroke=\"#add8e6\" stroke-width=\"1\" x1=\"120.0\" x2=\"120.0\" y1=\"16.250000000000007\" y2=\"0.0\" /><line fill=\"#800080\" stroke=\"#ffa500\" stroke-width=\"1\" x1=\"200.0\" x2=\"113.75\" y1=\"50.0\" y2=\"33.74999999999999\" /><line fill=\"#800080\" stroke=\"#ffa500\" stroke-width=\"1\" x1=\"200.0\" x2=\"113.75\" y1=\"150.0\" y2=\"33.74999999999999\" /><line fill=\"#800080\" stroke=\"#ffa500\" stroke-width=\"1\" x1=\"200.0\" x2=\"113.75\" y1=\"50.0\" y2=\"16.250000000000007\" /><line fill=\"#800080\" stroke=\"#ffa500\" stroke-width=\"1\" x1=\"200.0\" x2=\"113.75\" y1=\"150.0\" y2=\"16.250000000000007\" /><polygon fill=\"red\" points=\"113.75,29.000000000000004 117.5,33.74999999999999 132.5,33.74999999999999 136.25,29.000000000000004 136.25,20.999999999999996 132.5,16.250000000000007 117.5,16.250000000000007 113.75,20.999999999999996\" stroke=\"red\" stroke-width=\"1\" /><polygon points=\"-2.5,-2.5 0,0 2.5,-2.5 0,2.5\" stroke=\"black\" stroke-width=\"1\" transform=\"translate(125.0,25.0) rotate(90.0)\" /><circle cx=\"113.75\" cy=\"33.74999999999999\" fill=\"yellow\" r=\"1.25\" stroke=\"orange\" stroke-width=\"1\" /><circle cx=\"113.75\" cy=\"16.250000000000007\" fill=\"yellow\" r=\"1.25\" stroke=\"orange\" stroke-width=\"1\" /></svg>"
      ],
      "text/plain": [
       "<jyro.simulator.canvas.Canvas at 0x10c8e9010>"
      ]
     },
     "execution_count": 11,
     "metadata": {},
     "output_type": "execute_result"
    }
   ],
   "source": [
    "sim.draw(canvas)"
   ]
  },
  {
   "cell_type": "code",
   "execution_count": 12,
   "metadata": {},
   "outputs": [],
   "source": [
    "robot.move(1, 1)"
   ]
  },
  {
   "cell_type": "code",
   "execution_count": 13,
   "metadata": {},
   "outputs": [],
   "source": [
    "from IPython.display import display, clear_output"
   ]
  },
  {
   "cell_type": "code",
   "execution_count": 15,
   "metadata": {},
   "outputs": [
    {
     "data": {
      "image/svg+xml": [
       "<svg baseProfile=\"full\" height=\"250\" version=\"1.1\" width=\"250\" xmlns=\"http://www.w3.org/2000/svg\" xmlns:ev=\"http://www.w3.org/2001/xml-events\" xmlns:xlink=\"http://www.w3.org/1999/xlink\"><defs /><rect fill=\"#eef3dd\" height=\"250.0\" stroke=\"#d3d3d3\" stroke-width=\"1\" width=\"250.0\" x=\"0.0\" y=\"0.0\" /><rect fill=\"#a020f0\" height=\"50.0\" stroke=\"#a020f0\" stroke-width=\"1\" width=\"50.0\" x=\"50.0\" y=\"150.0\" /><circle cx=\"200.0\" cy=\"50.0\" fill=\"rgba(255,255,0,0.25098039215686274)\" r=\"12.5\" stroke=\"rgba(255,255,0,0.25098039215686274)\" stroke-width=\"1\" /><circle cx=\"200.0\" cy=\"150.0\" fill=\"rgba(255,255,0,0.25098039215686274)\" r=\"12.5\" stroke=\"rgba(255,255,0,0.25098039215686274)\" stroke-width=\"1\" /><line fill=\"#800080\" stroke=\"#add8e6\" stroke-width=\"1\" x1=\"81.33688571941103\" x2=\"250.0\" y1=\"71.80013285928031\" y2=\"95.08133000000001\" /><line fill=\"#800080\" stroke=\"#add8e6\" stroke-width=\"1\" x1=\"79.62004626106499\" x2=\"250.0\" y1=\"75.09633708145253\" y2=\"185.14757500000002\" /><line fill=\"#800080\" stroke=\"#add8e6\" stroke-width=\"1\" x1=\"77.43372572236348\" x2=\"186.5629390403068\" y1=\"76.30877367857916\" y2=\"250.0\" /><line fill=\"#800080\" stroke=\"#add8e6\" stroke-width=\"1\" x1=\"74.29098213251906\" x2=\"83.41941007181717\" y1=\"77.13682121857421\" y2=\"150.0\" /><line fill=\"#800080\" stroke=\"#add8e6\" stroke-width=\"1\" x1=\"69.33794535404473\" x2=\"0.0\" y1=\"76.453135127535\" y2=\"240.92658999999998\" /><line fill=\"#800080\" stroke=\"#add8e6\" stroke-width=\"1\" x1=\"66.53704480971993\" x2=\"0.0\" y1=\"74.80466427829289\" y2=\"135.011855\" /><line fill=\"#800080\" stroke=\"#add8e6\" stroke-width=\"1\" x1=\"64.76093592564195\" x2=\"0.0\" y1=\"73.04527880833488\" y2=\"93.018975\" /><line fill=\"#800080\" stroke=\"#add8e6\" stroke-width=\"1\" x1=\"64.0012569947508\" x2=\"0.0\" y1=\"69.40723154064305\" y2=\"60.5729\" /><line fill=\"#800080\" stroke=\"#ffa500\" stroke-width=\"1\" x1=\"200.0\" x2=\"80.48227810561201\" y1=\"50.0\" y2=\"77.99142883237322\" /><line fill=\"#800080\" stroke=\"#ffa500\" stroke-width=\"1\" x1=\"200.0\" x2=\"80.48227810561201\" y1=\"150.0\" y2=\"77.99142883237322\" /><line fill=\"#800080\" stroke=\"#ffa500\" stroke-width=\"1\" x1=\"200.0\" x2=\"63.14664938095179\" y1=\"50.0\" y2=\"75.59852751373599\" /><line fill=\"#800080\" stroke=\"#ffa500\" stroke-width=\"1\" x1=\"200.0\" x2=\"63.14664938095179\" y1=\"150.0\" y2=\"75.59852751373599\" /><polygon fill=\"red\" points=\"75.77689316606137,77.34192704588598 80.99504267389142,74.27665124851745 83.04610094700907,59.417540913094435 78.85348057573785,55.05326154275143 70.92862173017889,53.95936379708868 65.71047222234884,57.024639594457206 63.6594139492312,71.88374992988022 67.85203432050241,76.24802930022324\" stroke=\"red\" stroke-width=\"1\" /><polygon points=\"-2.5,-2.5 0,0 2.5,-2.5 0,2.5\" stroke=\"black\" stroke-width=\"1\" transform=\"translate(73.35275744812013,65.65064542148733) rotate(7.859086816848036)\" /><circle cx=\"80.48227810561201\" cy=\"77.99142883237322\" fill=\"yellow\" r=\"1.25\" stroke=\"orange\" stroke-width=\"1\" /><circle cx=\"63.14664938095179\" cy=\"75.59852751373599\" fill=\"yellow\" r=\"1.25\" stroke=\"orange\" stroke-width=\"1\" /></svg>"
      ],
      "text/plain": [
       "<jyro.simulator.canvas.Canvas at 0x10c8e9010>"
      ]
     },
     "metadata": {},
     "output_type": "display_data"
    },
    {
     "name": "stdout",
     "output_type": "stream",
     "text": [
      "CPU times: user 121 ms, sys: 19.4 ms, total: 140 ms\n",
      "Wall time: 6.41 s\n"
     ]
    }
   ],
   "source": [
    "\n",
    "%%time\n",
    "\n",
    "import time\n",
    "\n",
    "for i in range(70):\n",
    "    sim.step(run_brain=False)\n",
    "    for r in sim.robots:\n",
    "        sim.draw(canvas)\n",
    "        clear_output(wait=True)\n",
    "        display(canvas)\n",
    "        time.sleep(.085) # sleep for a bit"
   ]
  },
  {
   "cell_type": "code",
   "execution_count": 17,
   "metadata": {},
   "outputs": [
    {
     "data": {
      "text/plain": [
       "(2.131189710834815, 2.5525752006395126, 4.43805509807653)"
      ]
     },
     "execution_count": 17,
     "metadata": {},
     "output_type": "execute_result"
    }
   ],
   "source": [
    "robot.getPose()"
   ]
  },
  {
   "cell_type": "code",
   "execution_count": 19,
   "metadata": {},
   "outputs": [
    {
     "name": "stdout",
     "output_type": "stream",
     "text": [
      "2.4 4.5 1.6707963267948966\n",
      "2.3004995834721975 4.490016658335318 1.7707963267948967\n",
      "2.202492925688073 4.470149725255811 1.8707963267948968\n",
      "2.1069592767755125 4.440597704589677 1.970796326794897\n",
      "2.014853177375224 4.401655870358812 2.070796326794897\n",
      "1.9270949211861865 4.353713316498391 2.170796326794897\n",
      "1.8445613596952186 4.297249069158887 2.270796326794897\n",
      "1.7680771409667697 4.232827300435118 2.3707963267948973\n",
      "1.6984064700320531 4.161091691345166 2.4707963267948974\n",
      "1.6362454732049867 4.082759000382418 2.5707963267948974\n",
      "1.5822152426181728 3.9986119019016284 2.6707963267948975\n",
      "1.5368556304756151 3.909491165895485 2.7707963267948976\n",
      "1.500619855027948 3.8162872572987623 2.8707963267948977\n",
      "1.4738699721654893 3.719931438757043 2.970796326794898\n",
      "1.4568732578754653 3.621386465758197 3.070796326794898\n",
      "1.4497995377086952 3.5216369670977916 3.170796326794898\n",
      "1.4527194899388243 3.4216796067936412 3.270796326794898\n",
      "1.4656039393683769 3.322513125748394 3.370796326794898\n",
      "1.4883241488376857 3.2251283626605747 3.4707963267948982\n",
      "1.5206531055240362 3.1304983538918334 3.5707963267948983\n",
      "1.5622677891787506 3.0395686112092655 3.6707963267948984\n",
      "1.6127523996387365 2.9532476745443783 3.7707963267948985\n",
      "1.6716025113642712 2.8723980341624196 3.8707963267948986\n",
      "1.7382301134922538 2.797827512944748 3.9707963267948987\n",
      "1.8119694850463786 2.730281194889633 4.070796326794898\n",
      "1.892083846601072 2.6704339804792374 4.170796326794898\n",
      "1.9777727219379668 2.618883843297091 4.270796326794898\n",
      "2.068179936139673 2.576145855273708 4.370796326794897\n",
      "2.162402170206539 2.542647040258118 4.470796326794897\n",
      "2.259497986721498 2.5187221073367194 4.570796326794897\n",
      "2.3584972363815426 2.5046101065307327 4.670796326794896\n",
      "2.4584107514088704 2.5004520402874038 4.770796326794896\n",
      "2.5582402289883457 2.5062894546301617 4.8707963267948955\n",
      "2.656988205979232 2.5220640240444863 4.970796326794895\n",
      "2.7536680252371784 2.5476181342471693 5.070796326794895\n",
      "2.847313693966258 2.582696457016131 5.170796326794894\n",
      "2.9369895355996727 2.626948501345616 5.270796326794894\n",
      "3.0217995387707135 2.6799321154364653 5.370796326794894\n",
      "3.100896309962155 2.741117904530737 5.470796326794893\n",
      "3.1734895403821692 2.8098945204491343 5.570796326794893\n",
      "3.2388539024685308 2.885574769979927 5.670796326794893\n",
      "3.296336297121858 2.967402481086368 5.770796326794892\n",
      "3.345362379255928 3.0545600583277266 5.870796326794892\n",
      "3.385442296463926 3.146176652002672 5.970796326794892\n",
      "3.4161755834617686 3.241336859391623 6.070796326794891\n",
      "3.437255163404847 3.3390898711581327 6.170796326794891\n",
      "3.448470416098353 3.438458971521479 6.2707963267948905\n",
      "3.4497092824446427 3.538451297277889 0.08761101961530393\n",
      "3.4409593841006987 3.6380677581614735 0.18761101961530394\n",
      "3.4223081471584416 3.736313019423907 0.28761101961530394\n",
      "3.3939419286121195 3.832205446890221 0.387611019615304\n",
      "3.356144154340822 3.9247869151229944 0.48761101961530395\n",
      "3.3092924872107847 4.01313238069501 0.5876110196153039\n",
      "3.253855053592869 4.0963591249174005 0.6876110196153039\n",
      "3.190385765998606 4.173635573673 0.7876110196153039\n",
      "3.11951878856948 4.244189606230039 0.8876110196153039\n",
      "3.0419622007184555 4.307316270017272 0.9876110196153038\n",
      "2.9584909222345397 4.362384824277036 1.087611019615304\n",
      "2.869938970540408 4.408845042218413 1.187611019615304\n",
      "2.7771911274660046 4.446232708701437 1.287611019615304\n",
      "2.6811740988009682 4.47417425852133 1.3876110196153042\n",
      "2.58284725495671 4.4923905089485405 1.4876110196153043\n",
      "2.483193045254388 4.500699449230291 1.5876110196153044\n",
      "2.3832071816160467 4.499018059181857 1.6876110196153045\n",
      "2.2838886897402273 4.487363138696808 1.7876110196153046\n",
      "2.1862299271674246 4.465851139888027 1.8876110196153046\n",
      "2.0912066679715715 4.43469700353669 1.9876110196153047\n",
      "1.9997683531480392 4.39421201147503 2.087611019615305\n",
      "1.9128286041130564 4.34480067636117 2.187611019615305\n",
      "1.8312560941005205 4.28695669992235 2.287611019615305\n",
      "CPU times: user 16.6 ms, sys: 1.02 ms, total: 17.7 ms\n",
      "Wall time: 17.2 ms\n"
     ]
    }
   ],
   "source": [
    "%%time\n",
    "\n",
    "import numpy\n",
    "\n",
    "light0 = numpy.zeros((100,100))\n",
    "light1 = numpy.zeros((100,100))\n",
    "\n",
    "robot.setPose(2.50, 4.50, math.pi / 2)\n",
    "for i in range(70):\n",
    "    sim.step(run_brain=False)\n",
    "    for r in sim.robots:\n",
    "        x, y, a = robot.getPose()\n",
    "        print(x, y, a)\n",
    "        light0[int(y/canvas.max_y * 100), int(x/canvas.max_x * 100)] = r.device[\"light\"].scan[0]\n",
    "        light1[int(y/canvas.max_y * 100), int(x/canvas.max_x * 100)] = r.device[\"light\"].scan[1]"
   ]
  },
  {
   "cell_type": "code",
   "execution_count": 20,
   "metadata": {},
   "outputs": [],
   "source": [
    "\n",
    "%matplotlib inline\n",
    "import matplotlib.pyplot as plt"
   ]
  },
  {
   "cell_type": "code",
   "execution_count": 21,
   "metadata": {},
   "outputs": [
    {
     "data": {
      "text/plain": [
       "<matplotlib.colorbar.Colorbar at 0x10edd9d10>"
      ]
     },
     "execution_count": 21,
     "metadata": {},
     "output_type": "execute_result"
    },
    {
     "data": {
      "image/png": "[encoded data removed]",
      "text/plain": [
       "<Figure size 640x480 with 2 Axes>"
      ]
     },
     "metadata": {},
     "output_type": "display_data"
    }
   ],
   "source": [
    "fig1 = plt.figure()\n",
    "sp0 = fig1.add_subplot(111)\n",
    "p0 = sp0.matshow(light0, origin=\"lower\")\n",
    "fig1.colorbar(p0)"
   ]
  },
  {
   "cell_type": "code",
   "execution_count": 23,
   "metadata": {},
   "outputs": [
    {
     "data": {
      "text/plain": [
       "<matplotlib.colorbar.Colorbar at 0x10eecba10>"
      ]
     },
     "execution_count": 23,
     "metadata": {},
     "output_type": "execute_result"
    },
    {
     "data": {
      "image/png": "[encoded data removed]",
      "text/plain": [
       "<Figure size 640x480 with 2 Axes>"
      ]
     },
     "metadata": {},
     "output_type": "display_data"
    }
   ],
   "source": [
    "fig2 = plt.figure()\n",
    "sp1 = fig2.add_subplot(111)\n",
    "p1 = sp1.matshow(light1, origin=\"lower\")\n",
    "fig2.colorbar(p1)"
   ]
  },
  {
   "cell_type": "code",
   "execution_count": 24,
   "metadata": {},
   "outputs": [
    {
     "data": {
      "image/svg+xml": [
       "<svg baseProfile=\"full\" height=\"240\" version=\"1.1\" width=\"240\" xmlns=\"http://www.w3.org/2000/svg\" xmlns:ev=\"http://www.w3.org/2001/xml-events\" xmlns:xlink=\"http://www.w3.org/1999/xlink\"><defs /><line fill=\"#800080\" stroke=\"#add8e6\" stroke-width=\"1\" x1=\"449.0012456260745\" x2=\"1200.0\" y1=\"-741.4380349296943\" y2=\"120.34461599999993\" /><line fill=\"#800080\" stroke=\"#add8e6\" stroke-width=\"1\" x1=\"432.39376816079425\" x2=\"713.2466439571987\" y1=\"-734.9240735972785\" y2=\"240.0\" /><line fill=\"#800080\" stroke=\"#add8e6\" stroke-width=\"1\" x1=\"420.65860058182204\" x2=\"342.5001506820602\" y1=\"-737.431231728199\" y2=\"-240.0\" /><line fill=\"#800080\" stroke=\"#add8e6\" stroke-width=\"1\" x1=\"406.6745800342117\" x2=\"0.0\" y1=\"-744.3455045984299\" y2=\"-139.823472\" /><line fill=\"#800080\" stroke=\"#add8e6\" stroke-width=\"1\" x1=\"390.90690166496086\" x2=\"0.0\" y1=\"-762.4391587026694\" y2=\"-571.18572\" /><line fill=\"#800080\" stroke=\"#add8e6\" stroke-width=\"1\" x1=\"385.9697081694702\" x2=\"0.0\" y1=\"-777.2372707575257\" y2=\"-770.025336\" /><line fill=\"#800080\" stroke=\"#add8e6\" stroke-width=\"1\" x1=\"385.09073305304173\" x2=\"0.2058428505753961\" y1=\"-789.2050359099968\" y2=\"-960.0\" /><line fill=\"#800080\" stroke=\"#add8e6\" stroke-width=\"1\" x1=\"393.81437133369656\" x2=\"258.53584535771813\" y1=\"-804.7658242945321\" y2=\"-960.0\" /><line fill=\"#800080\" stroke=\"#ffa500\" stroke-width=\"1\" x1=\"960.0\" x2=\"426.3841779957753\" y1=\"-720.0\" y2=\"-721.7284369681306\" /><line fill=\"#800080\" stroke=\"#ffa500\" stroke-width=\"1\" x1=\"960.0\" x2=\"426.3841779957753\" y1=\"-240.0\" y2=\"-721.7284369681306\" /><line fill=\"#800080\" stroke=\"#ffa500\" stroke-width=\"1\" x1=\"960.0\" x2=\"371.1973037033973\" y1=\"-720.0\" y2=\"-785.0562263329687\" /><line fill=\"#800080\" stroke=\"#ffa500\" stroke-width=\"1\" x1=\"960.0\" x2=\"371.1973037033973\" y1=\"-240.0\" y2=\"-785.0562263329687\" /><line fill=\"#800080\" stroke=\"#a020f0\" stroke-width=\"1\" x1=\"439.5014625841249\" x2=\"640.8067758445824\" y1=\"-788.8696079813641\" y2=\"240.0\" /><line fill=\"#800080\" stroke=\"#a020f0\" stroke-width=\"1\" x1=\"439.5014625841249\" x2=\"0.0\" y1=\"-788.8696079813641\" y2=\"-939.5978160000001\" /><polygon fill=\"red\" points=\"91.90342096086205,169.95219961420594 120.45295598982989,175.3154122362952 174.7339183025481,128.01237712854268 173.3248644299393,98.99764695257711 148.09657903913794,70.04780038579408 119.54704401017013,64.6845877637048 65.26608169745194,111.98762287145732 66.67513557006069,141.0023530474229\" stroke=\"red\" stroke-width=\"1\" /><polygon points=\"-12.0,-12.0 0,0 12.0,-12.0 0,12.0\" stroke=\"black\" stroke-width=\"1\" transform=\"translate(120.0,120.0) rotate(48.92954340842404)\" /><circle cx=\"106.88271541165034\" cy=\"187.14117101323336\" fill=\"yellow\" r=\"6.0\" stroke=\"orange\" stroke-width=\"1\" /><circle cx=\"51.695841119272394\" cy=\"123.81338164839546\" fill=\"yellow\" r=\"6.0\" stroke=\"orange\" stroke-width=\"1\" /><polygon fill=\"black\" points=\"85.20827723251433,131.21855725440753 99.68320051590585,118.60441455900687 118.60441455900687,140.31679948409416 104.12949127561535,152.93094217949482\" stroke=\"black\" stroke-width=\"1\" /></svg>"
      ],
      "text/plain": [
       "<__main__.MyPioneer at 0x10c735210>"
      ]
     },
     "execution_count": 24,
     "metadata": {},
     "output_type": "execute_result"
    }
   ],
   "source": [
    "\n",
    "robot.addDevice(Camera(120, 80))"
   ]
  },
  {
   "cell_type": "code",
   "execution_count": 25,
   "metadata": {},
   "outputs": [
    {
     "data": {
      "image/jpeg": "[encoded data removed]",
      "image/png": "[encoded data removed]",
      "text/plain": [
       "<PIL.Image.Image image mode=RGB size=60x40>"
      ]
     },
     "execution_count": 25,
     "metadata": {},
     "output_type": "execute_result"
    }
   ],
   "source": [
    "robot.device[\"camera\"].getImage()"
   ]
  },
  {
   "cell_type": "code",
   "execution_count": 26,
   "metadata": {},
   "outputs": [],
   "source": [
    "robot.move(0, .5)\n",
    "for i in range(10):\n",
    "    sim.step(run_brain=False)"
   ]
  },
  {
   "cell_type": "code",
   "execution_count": 28,
   "metadata": {},
   "outputs": [
    {
     "data": {
      "image/jpeg": "[encoded data removed]",
      "image/png": "[encoded data removed]",
      "text/plain": [
       "<PIL.Image.Image image mode=RGB size=60x40>"
      ]
     },
     "execution_count": 28,
     "metadata": {},
     "output_type": "execute_result"
    }
   ],
   "source": [
    "robot.device[\"camera\"].getImage()"
   ]
  },
  {
   "cell_type": "code",
   "execution_count": 29,
   "metadata": {},
   "outputs": [
    {
     "data": {
      "application/vnd.jupyter.widget-view+json": {
       "model_id": "b427040bf8584f0da2ef90439a214d8d",
       "version_major": 2,
       "version_minor": 0
      },
      "text/plain": [
       "VBox(children=(VBox(children=(HBox(children=(Checkbox(value=True, description='Update GUI'), Checkbox(value=Fa…"
      ]
     },
     "metadata": {},
     "output_type": "display_data"
    }
   ],
   "source": [
    "vsim = VSimulator(robot, world)\n",
    "robot.brain = lambda self: self.move(1,1)"
   ]
  },
  {
   "cell_type": "code",
   "execution_count": null,
   "metadata": {},
   "outputs": [],
   "source": []
  }
 ],
 "metadata": {
  "kernelspec": {
   "display_name": "pymc",
   "language": "python",
   "name": "python3"
  },
  "language_info": {
   "codemirror_mode": {
    "name": "ipython",
    "version": 3
   },
   "file_extension": ".py",
   "mimetype": "text/x-python",
   "name": "python",
   "nbconvert_exporter": "python",
   "pygments_lexer": "ipython3",
   "version": "3.11.8"
  }
 },
 "nbformat": 4,
 "nbformat_minor": 2
}
