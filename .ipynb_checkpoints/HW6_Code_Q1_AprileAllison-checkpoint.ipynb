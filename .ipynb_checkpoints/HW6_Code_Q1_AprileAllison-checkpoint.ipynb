{
 "cells": [
  {
   "cell_type": "markdown",
   "metadata": {},
   "source": [
    "## Homework 6 - Question 1\n",
    "Allison Aprile\n",
    "\n",
    "April 7, 2024"
   ]
  },
  {
   "cell_type": "code",
   "execution_count": 1,
   "metadata": {},
   "outputs": [],
   "source": [
    "import pandas as pd\n",
    "import numpy as np\n",
    "import pymc as pm\n",
    "import arviz as az"
   ]
  },
  {
   "cell_type": "markdown",
   "metadata": {},
   "source": [
    "Based on the following examples:                   \n",
    "* https://static.us.edusercontent.com/files/k20FshFhGbGWEkUev2BZcfPu\n",
    "* https://areding.github.io/6420-pymc/unit8/Unit8-tte-gastric.html"
   ]
  },
  {
   "cell_type": "markdown",
   "metadata": {},
   "source": [
    "### <mark>Answer</mark>\n",
    "* **Uncensored** 95% HPD Credible Set for $\\beta_1$: [-0.175, 0.773]\n",
    "* **Censored** 95% HPD Credible Set for $\\beta_1$: [0.023, 1.157]"
   ]
  },
  {
   "cell_type": "markdown",
   "metadata": {},
   "source": [
    "### Data Setup"
   ]
  },
  {
   "cell_type": "code",
   "execution_count": 2,
   "metadata": {},
   "outputs": [
    {
     "data": {
      "text/html": [
       "<div>\n",
       "<style scoped>\n",
       "    .dataframe tbody tr th:only-of-type {\n",
       "        vertical-align: middle;\n",
       "    }\n",
       "\n",
       "    .dataframe tbody tr th {\n",
       "        vertical-align: top;\n",
       "    }\n",
       "\n",
       "    .dataframe thead th {\n",
       "        text-align: right;\n",
       "    }\n",
       "</style>\n",
       "<table border=\"1\" class=\"dataframe\">\n",
       "  <thead>\n",
       "    <tr style=\"text-align: right;\">\n",
       "      <th></th>\n",
       "      <th>Tumor Profile</th>\n",
       "      <th>Weeks</th>\n",
       "      <th>Censored</th>\n",
       "      <th>Censored Values</th>\n",
       "    </tr>\n",
       "  </thead>\n",
       "  <tbody>\n",
       "    <tr>\n",
       "      <th>0</th>\n",
       "      <td>1</td>\n",
       "      <td>3</td>\n",
       "      <td>0</td>\n",
       "      <td>inf</td>\n",
       "    </tr>\n",
       "    <tr>\n",
       "      <th>1</th>\n",
       "      <td>1</td>\n",
       "      <td>3</td>\n",
       "      <td>0</td>\n",
       "      <td>inf</td>\n",
       "    </tr>\n",
       "    <tr>\n",
       "      <th>2</th>\n",
       "      <td>1</td>\n",
       "      <td>4</td>\n",
       "      <td>0</td>\n",
       "      <td>inf</td>\n",
       "    </tr>\n",
       "    <tr>\n",
       "      <th>3</th>\n",
       "      <td>1</td>\n",
       "      <td>10</td>\n",
       "      <td>0</td>\n",
       "      <td>inf</td>\n",
       "    </tr>\n",
       "    <tr>\n",
       "      <th>4</th>\n",
       "      <td>1</td>\n",
       "      <td>13</td>\n",
       "      <td>0</td>\n",
       "      <td>inf</td>\n",
       "    </tr>\n",
       "    <tr>\n",
       "      <th>...</th>\n",
       "      <td>...</td>\n",
       "      <td>...</td>\n",
       "      <td>...</td>\n",
       "      <td>...</td>\n",
       "    </tr>\n",
       "    <tr>\n",
       "      <th>74</th>\n",
       "      <td>2</td>\n",
       "      <td>67</td>\n",
       "      <td>1</td>\n",
       "      <td>67.0</td>\n",
       "    </tr>\n",
       "    <tr>\n",
       "      <th>75</th>\n",
       "      <td>2</td>\n",
       "      <td>76</td>\n",
       "      <td>1</td>\n",
       "      <td>76.0</td>\n",
       "    </tr>\n",
       "    <tr>\n",
       "      <th>76</th>\n",
       "      <td>2</td>\n",
       "      <td>104</td>\n",
       "      <td>1</td>\n",
       "      <td>104.0</td>\n",
       "    </tr>\n",
       "    <tr>\n",
       "      <th>77</th>\n",
       "      <td>2</td>\n",
       "      <td>176</td>\n",
       "      <td>1</td>\n",
       "      <td>176.0</td>\n",
       "    </tr>\n",
       "    <tr>\n",
       "      <th>78</th>\n",
       "      <td>2</td>\n",
       "      <td>231</td>\n",
       "      <td>1</td>\n",
       "      <td>231.0</td>\n",
       "    </tr>\n",
       "  </tbody>\n",
       "</table>\n",
       "<p>79 rows × 4 columns</p>\n",
       "</div>"
      ],
      "text/plain": [
       "    Tumor Profile  Weeks  Censored  Censored Values\n",
       "0               1      3         0              inf\n",
       "1               1      3         0              inf\n",
       "2               1      4         0              inf\n",
       "3               1     10         0              inf\n",
       "4               1     13         0              inf\n",
       "..            ...    ...       ...              ...\n",
       "74              2     67         1             67.0\n",
       "75              2     76         1             76.0\n",
       "76              2    104         1            104.0\n",
       "77              2    176         1            176.0\n",
       "78              2    231         1            231.0\n",
       "\n",
       "[79 rows x 4 columns]"
      ]
     },
     "execution_count": 2,
     "metadata": {},
     "output_type": "execute_result"
    }
   ],
   "source": [
    "# Read data\n",
    "data = pd.read_csv('data/tongue.csv')\n",
    "\n",
    "# Update column names\n",
    "data = data.rename(columns={\n",
    "                           '1': 'Tumor Profile', \n",
    "                           '1.1': 'Weeks', \n",
    "                           '0': 'Censored'\n",
    "                          }, )\n",
    "\n",
    "# Create censored value column\n",
    "## Per homework instructions, 0=censored and 1=observed\n",
    "def censor_values(i):\n",
    "    # If observed, use 'Weeks' value\n",
    "    if i['Censored'] == 1:\n",
    "        return i['Weeks']\n",
    "    # If censored, use infinity\n",
    "    else:\n",
    "        return np.inf\n",
    "        \n",
    "data['Censored Values'] = data.apply(censor_values, axis=1)\n",
    "\n",
    "data"
   ]
  },
  {
   "cell_type": "code",
   "execution_count": 3,
   "metadata": {},
   "outputs": [],
   "source": [
    "# Unpack into arrays\n",
    "tumor = data['Tumor Profile'].to_numpy()\n",
    "weeks = data['Weeks'].to_numpy()\n",
    "censored = data['Censored Values'].to_numpy()"
   ]
  },
  {
   "cell_type": "markdown",
   "metadata": {},
   "source": [
    "### Model Definition\n",
    "\n",
    "We can use the Weinbull Distribution to model this time-to-death, $T$, data. It is parameterized in PyMC as:\n",
    "\n",
    "\n",
    "$T \\sim Weinbull(\\alpha, \\beta)$\n",
    "\n",
    "$\\quad \\alpha = \\gamma > 0, \\ \\ \\beta = \\lambda^{-1/\\alpha} > 0$\n",
    "\n",
    "**CDF:** $F(t | \\alpha, \\beta) = 1 - e^{-(t|\\beta)^\\alpha}$, for $t > 0$\n",
    "\n",
    "We set a non-informative Exponential prior on $\\alpha$, as this is required to be positive for the Weinbull distribution. For the intercept and slope ($\\beta_0$ and $\\beta_1$, respectively), we select more non-informative Normal priors, centered at 0 and with a small precision ($\\tau = 0.01$). We make these slightly more informative (but still non-informative) for the censored model ($\\tau = 0.0001$)."
   ]
  },
  {
   "cell_type": "markdown",
   "metadata": {},
   "source": [
    "#### Uncensored Model\n",
    "Using 'Weeks' values directly, i.e. taking the censored data at face value."
   ]
  },
  {
   "cell_type": "code",
   "execution_count": 4,
   "metadata": {},
   "outputs": [
    {
     "name": "stderr",
     "output_type": "stream",
     "text": [
      "Auto-assigning NUTS sampler...\n",
      "Initializing NUTS using jitter+adapt_diag_grad...\n",
      "Multiprocess sampling (4 chains in 4 jobs)\n",
      "NUTS: [alpha, beta0, beta1]\n"
     ]
    },
    {
     "data": {
      "text/html": [
       "\n",
       "<style>\n",
       "    /* Turns off some styling */\n",
       "    progress {\n",
       "        /* gets rid of default border in Firefox and Opera. */\n",
       "        border: none;\n",
       "        /* Needs to be in here for Safari polyfill so background images work as expected. */\n",
       "        background-size: auto;\n",
       "    }\n",
       "    progress:not([value]), progress:not([value])::-webkit-progress-bar {\n",
       "        background: repeating-linear-gradient(45deg, #7e7e7e, #7e7e7e 10px, #5c5c5c 10px, #5c5c5c 20px);\n",
       "    }\n",
       "    .progress-bar-interrupted, .progress-bar-interrupted::-webkit-progress-bar {\n",
       "        background: #F44336;\n",
       "    }\n",
       "</style>\n"
      ],
      "text/plain": [
       "<IPython.core.display.HTML object>"
      ]
     },
     "metadata": {},
     "output_type": "display_data"
    },
    {
     "data": {
      "text/html": [
       "\n",
       "    <div>\n",
       "      <progress value='16000' class='' max='16000' style='width:300px; height:20px; vertical-align: middle;'></progress>\n",
       "      100.00% [16000/16000 00:04&lt;00:00 Sampling 4 chains, 0 divergences]\n",
       "    </div>\n",
       "    "
      ],
      "text/plain": [
       "<IPython.core.display.HTML object>"
      ]
     },
     "metadata": {},
     "output_type": "display_data"
    },
    {
     "name": "stderr",
     "output_type": "stream",
     "text": [
      "Sampling 4 chains for 1_000 tune and 3_000 draw iterations (4_000 + 12_000 draws total) took 5 seconds.\n"
     ]
    }
   ],
   "source": [
    "with pm.Model() as uncensored_model:\n",
    "    # Non-informative priors\n",
    "    alpha = pm.Exponential('alpha', 0.5)\n",
    "    beta0 = pm.Normal('beta0', 0, 10)\n",
    "    beta1 = pm.Normal('beta1', 0, 10)\n",
    "\n",
    "    # Beta formulation (with natural logarithm link function)\n",
    "    lam = pm.math.exp(beta0 + beta1 * tumor)\n",
    "    beta = lam ** (-1 / alpha)\n",
    "\n",
    "    # Likelihood\n",
    "    pm.Weibull('likelihood', alpha=alpha, beta=beta, observed=weeks)\n",
    "\n",
    "    # Median (less affected by outliers)\n",
    "    median1 = pm.Deterministic(\n",
    "        'median1',\n",
    "        (np.log(2) * (pm.math.exp(beta0 + beta1 * 1)) ** (-1 / alpha)),\n",
    "    )\n",
    "    median2 = pm.Deterministic(\n",
    "        'median2',\n",
    "        (np.log(2) * (pm.math.exp(beta0 + beta1 * 2)) ** (-1 / alpha)),\n",
    "    )\n",
    "\n",
    "    # Sample from posterior\n",
    "    uncensored_trace = pm.sample(3000, init='jitter+adapt_diag_grad', target_accept=0.9)"
   ]
  },
  {
   "cell_type": "code",
   "execution_count": 5,
   "metadata": {},
   "outputs": [
    {
     "data": {
      "text/html": [
       "<div>\n",
       "<style scoped>\n",
       "    .dataframe tbody tr th:only-of-type {\n",
       "        vertical-align: middle;\n",
       "    }\n",
       "\n",
       "    .dataframe tbody tr th {\n",
       "        vertical-align: top;\n",
       "    }\n",
       "\n",
       "    .dataframe thead th {\n",
       "        text-align: right;\n",
       "    }\n",
       "</style>\n",
       "<table border=\"1\" class=\"dataframe\">\n",
       "  <thead>\n",
       "    <tr style=\"text-align: right;\">\n",
       "      <th></th>\n",
       "      <th>mean</th>\n",
       "      <th>sd</th>\n",
       "      <th>hdi_2.5%</th>\n",
       "      <th>hdi_97.5%</th>\n",
       "      <th>mcse_mean</th>\n",
       "      <th>mcse_sd</th>\n",
       "      <th>ess_bulk</th>\n",
       "      <th>ess_tail</th>\n",
       "      <th>r_hat</th>\n",
       "    </tr>\n",
       "  </thead>\n",
       "  <tbody>\n",
       "    <tr>\n",
       "      <th>beta0</th>\n",
       "      <td>-5.159</td>\n",
       "      <td>0.584</td>\n",
       "      <td>-6.297</td>\n",
       "      <td>-4.033</td>\n",
       "      <td>0.010</td>\n",
       "      <td>0.007</td>\n",
       "      <td>3112.0</td>\n",
       "      <td>4174.0</td>\n",
       "      <td>1.0</td>\n",
       "    </tr>\n",
       "    <tr>\n",
       "      <th>beta1</th>\n",
       "      <td>0.307</td>\n",
       "      <td>0.240</td>\n",
       "      <td>-0.175</td>\n",
       "      <td>0.773</td>\n",
       "      <td>0.004</td>\n",
       "      <td>0.003</td>\n",
       "      <td>4515.0</td>\n",
       "      <td>4591.0</td>\n",
       "      <td>1.0</td>\n",
       "    </tr>\n",
       "    <tr>\n",
       "      <th>alpha</th>\n",
       "      <td>1.091</td>\n",
       "      <td>0.096</td>\n",
       "      <td>0.906</td>\n",
       "      <td>1.283</td>\n",
       "      <td>0.002</td>\n",
       "      <td>0.001</td>\n",
       "      <td>3442.0</td>\n",
       "      <td>4132.0</td>\n",
       "      <td>1.0</td>\n",
       "    </tr>\n",
       "    <tr>\n",
       "      <th>median1</th>\n",
       "      <td>59.647</td>\n",
       "      <td>8.010</td>\n",
       "      <td>44.320</td>\n",
       "      <td>75.373</td>\n",
       "      <td>0.103</td>\n",
       "      <td>0.073</td>\n",
       "      <td>5969.0</td>\n",
       "      <td>7314.0</td>\n",
       "      <td>1.0</td>\n",
       "    </tr>\n",
       "    <tr>\n",
       "      <th>median2</th>\n",
       "      <td>45.333</td>\n",
       "      <td>8.513</td>\n",
       "      <td>29.846</td>\n",
       "      <td>62.077</td>\n",
       "      <td>0.104</td>\n",
       "      <td>0.075</td>\n",
       "      <td>6889.0</td>\n",
       "      <td>7496.0</td>\n",
       "      <td>1.0</td>\n",
       "    </tr>\n",
       "  </tbody>\n",
       "</table>\n",
       "</div>"
      ],
      "text/plain": [
       "           mean     sd  hdi_2.5%  hdi_97.5%  mcse_mean  mcse_sd  ess_bulk  \\\n",
       "beta0    -5.159  0.584    -6.297     -4.033      0.010    0.007    3112.0   \n",
       "beta1     0.307  0.240    -0.175      0.773      0.004    0.003    4515.0   \n",
       "alpha     1.091  0.096     0.906      1.283      0.002    0.001    3442.0   \n",
       "median1  59.647  8.010    44.320     75.373      0.103    0.073    5969.0   \n",
       "median2  45.333  8.513    29.846     62.077      0.104    0.075    6889.0   \n",
       "\n",
       "         ess_tail  r_hat  \n",
       "beta0      4174.0    1.0  \n",
       "beta1      4591.0    1.0  \n",
       "alpha      4132.0    1.0  \n",
       "median1    7314.0    1.0  \n",
       "median2    7496.0    1.0  "
      ]
     },
     "execution_count": 5,
     "metadata": {},
     "output_type": "execute_result"
    }
   ],
   "source": [
    "# Statistics and diagnostics summary\n",
    "az.summary(uncensored_trace, hdi_prob=0.95)"
   ]
  },
  {
   "cell_type": "markdown",
   "metadata": {},
   "source": [
    "Note: Per Aaron's suggestion in the [March 21st office hours](https://gatech.instructure.com/courses/355300/external_tools/17731), we can be fairly confident that we have good sampling coverage as $\\hat{r} < 1.01$."
   ]
  },
  {
   "cell_type": "markdown",
   "metadata": {},
   "source": [
    "<mark>The 95% HPD Credible Set for the slope $\\beta_1$ is [-0.175, 0.773].</mark>"
   ]
  },
  {
   "cell_type": "markdown",
   "metadata": {},
   "source": [
    "#### Censored Model\n",
    "Using 'Weeks' values, but counting for the censoring indicator."
   ]
  },
  {
   "cell_type": "code",
   "execution_count": 6,
   "metadata": {},
   "outputs": [
    {
     "name": "stderr",
     "output_type": "stream",
     "text": [
      "Auto-assigning NUTS sampler...\n",
      "Initializing NUTS using jitter+adapt_diag_grad...\n",
      "Multiprocess sampling (4 chains in 4 jobs)\n",
      "NUTS: [alpha, beta0, beta1]\n"
     ]
    },
    {
     "data": {
      "text/html": [
       "\n",
       "<style>\n",
       "    /* Turns off some styling */\n",
       "    progress {\n",
       "        /* gets rid of default border in Firefox and Opera. */\n",
       "        border: none;\n",
       "        /* Needs to be in here for Safari polyfill so background images work as expected. */\n",
       "        background-size: auto;\n",
       "    }\n",
       "    progress:not([value]), progress:not([value])::-webkit-progress-bar {\n",
       "        background: repeating-linear-gradient(45deg, #7e7e7e, #7e7e7e 10px, #5c5c5c 10px, #5c5c5c 20px);\n",
       "    }\n",
       "    .progress-bar-interrupted, .progress-bar-interrupted::-webkit-progress-bar {\n",
       "        background: #F44336;\n",
       "    }\n",
       "</style>\n"
      ],
      "text/plain": [
       "<IPython.core.display.HTML object>"
      ]
     },
     "metadata": {},
     "output_type": "display_data"
    },
    {
     "data": {
      "text/html": [
       "\n",
       "    <div>\n",
       "      <progress value='16000' class='' max='16000' style='width:300px; height:20px; vertical-align: middle;'></progress>\n",
       "      100.00% [16000/16000 00:04&lt;00:00 Sampling 4 chains, 0 divergences]\n",
       "    </div>\n",
       "    "
      ],
      "text/plain": [
       "<IPython.core.display.HTML object>"
      ]
     },
     "metadata": {},
     "output_type": "display_data"
    },
    {
     "name": "stderr",
     "output_type": "stream",
     "text": [
      "Sampling 4 chains for 1_000 tune and 3_000 draw iterations (4_000 + 12_000 draws total) took 5 seconds.\n"
     ]
    }
   ],
   "source": [
    "with pm.Model() as censored_model:\n",
    "    # Non-informative priors\n",
    "    alpha = pm.Exponential('alpha', 0.5)\n",
    "    beta0 = pm.Normal('beta0', 0, 100)\n",
    "    beta1 = pm.Normal('beta1', 0, 100)\n",
    "\n",
    "    # Beta formulation (with natural logarithm link function)\n",
    "    lam = pm.math.exp(beta0 + beta1 * tumor)\n",
    "    beta = lam ** (-1 / alpha)\n",
    "\n",
    "    # Likelihood (accounting for right-censored data)\n",
    "    obs_latent = pm.Weibull.dist(alpha=alpha, beta=beta)\n",
    "    pm.Censored('likelihood', obs_latent, lower=None, upper=censored, observed=weeks)\n",
    "\n",
    "    # Median (less affected by outliers)\n",
    "    median_1 = pm.Deterministic(\n",
    "        'aneuploid_median',\n",
    "        (np.log(2) * (pm.math.exp(beta0 + beta1 * 1)) ** (-1 / alpha)),\n",
    "    )\n",
    "    median_2 = pm.Deterministic(\n",
    "        'diploid_median',\n",
    "        (np.log(2) * (pm.math.exp(beta0 + beta1 * 2)) ** (-1 / alpha)),\n",
    "    )\n",
    "\n",
    "    # Sample from posterior\n",
    "    censored_trace = pm.sample(3000, init='jitter+adapt_diag_grad', target_accept=0.9)"
   ]
  },
  {
   "cell_type": "code",
   "execution_count": 7,
   "metadata": {
    "scrolled": true
   },
   "outputs": [
    {
     "data": {
      "text/html": [
       "<div>\n",
       "<style scoped>\n",
       "    .dataframe tbody tr th:only-of-type {\n",
       "        vertical-align: middle;\n",
       "    }\n",
       "\n",
       "    .dataframe tbody tr th {\n",
       "        vertical-align: top;\n",
       "    }\n",
       "\n",
       "    .dataframe thead th {\n",
       "        text-align: right;\n",
       "    }\n",
       "</style>\n",
       "<table border=\"1\" class=\"dataframe\">\n",
       "  <thead>\n",
       "    <tr style=\"text-align: right;\">\n",
       "      <th></th>\n",
       "      <th>mean</th>\n",
       "      <th>sd</th>\n",
       "      <th>hdi_2.5%</th>\n",
       "      <th>hdi_97.5%</th>\n",
       "      <th>mcse_mean</th>\n",
       "      <th>mcse_sd</th>\n",
       "      <th>ess_bulk</th>\n",
       "      <th>ess_tail</th>\n",
       "      <th>r_hat</th>\n",
       "    </tr>\n",
       "  </thead>\n",
       "  <tbody>\n",
       "    <tr>\n",
       "      <th>beta0</th>\n",
       "      <td>-4.787</td>\n",
       "      <td>0.639</td>\n",
       "      <td>-6.030</td>\n",
       "      <td>-3.532</td>\n",
       "      <td>0.011</td>\n",
       "      <td>0.008</td>\n",
       "      <td>3297.0</td>\n",
       "      <td>3803.0</td>\n",
       "      <td>1.0</td>\n",
       "    </tr>\n",
       "    <tr>\n",
       "      <th>beta1</th>\n",
       "      <td>0.569</td>\n",
       "      <td>0.287</td>\n",
       "      <td>0.023</td>\n",
       "      <td>1.157</td>\n",
       "      <td>0.004</td>\n",
       "      <td>0.003</td>\n",
       "      <td>4207.0</td>\n",
       "      <td>4979.0</td>\n",
       "      <td>1.0</td>\n",
       "    </tr>\n",
       "    <tr>\n",
       "      <th>alpha</th>\n",
       "      <td>0.841</td>\n",
       "      <td>0.097</td>\n",
       "      <td>0.657</td>\n",
       "      <td>1.036</td>\n",
       "      <td>0.001</td>\n",
       "      <td>0.001</td>\n",
       "      <td>4265.0</td>\n",
       "      <td>5187.0</td>\n",
       "      <td>1.0</td>\n",
       "    </tr>\n",
       "    <tr>\n",
       "      <th>aneuploid_median</th>\n",
       "      <td>108.130</td>\n",
       "      <td>26.034</td>\n",
       "      <td>62.670</td>\n",
       "      <td>158.783</td>\n",
       "      <td>0.306</td>\n",
       "      <td>0.217</td>\n",
       "      <td>7302.0</td>\n",
       "      <td>7957.0</td>\n",
       "      <td>1.0</td>\n",
       "    </tr>\n",
       "    <tr>\n",
       "      <th>diploid_median</th>\n",
       "      <td>55.019</td>\n",
       "      <td>15.147</td>\n",
       "      <td>28.837</td>\n",
       "      <td>84.239</td>\n",
       "      <td>0.182</td>\n",
       "      <td>0.129</td>\n",
       "      <td>6899.0</td>\n",
       "      <td>7709.0</td>\n",
       "      <td>1.0</td>\n",
       "    </tr>\n",
       "  </tbody>\n",
       "</table>\n",
       "</div>"
      ],
      "text/plain": [
       "                     mean      sd  hdi_2.5%  hdi_97.5%  mcse_mean  mcse_sd  \\\n",
       "beta0              -4.787   0.639    -6.030     -3.532      0.011    0.008   \n",
       "beta1               0.569   0.287     0.023      1.157      0.004    0.003   \n",
       "alpha               0.841   0.097     0.657      1.036      0.001    0.001   \n",
       "aneuploid_median  108.130  26.034    62.670    158.783      0.306    0.217   \n",
       "diploid_median     55.019  15.147    28.837     84.239      0.182    0.129   \n",
       "\n",
       "                  ess_bulk  ess_tail  r_hat  \n",
       "beta0               3297.0    3803.0    1.0  \n",
       "beta1               4207.0    4979.0    1.0  \n",
       "alpha               4265.0    5187.0    1.0  \n",
       "aneuploid_median    7302.0    7957.0    1.0  \n",
       "diploid_median      6899.0    7709.0    1.0  "
      ]
     },
     "execution_count": 7,
     "metadata": {},
     "output_type": "execute_result"
    }
   ],
   "source": [
    "# Statistics and diagnostic summary\n",
    "az.summary(censored_trace, hdi_prob=0.95)"
   ]
  },
  {
   "cell_type": "markdown",
   "metadata": {},
   "source": [
    "Note: As with the Uncensored Model, we can be fairly confident that we have good sampling coverage as $\\hat{r} < 1.01$."
   ]
  },
  {
   "cell_type": "markdown",
   "metadata": {},
   "source": [
    "<mark>The 95% HPD Credible Set for the slope $\\beta_1$ is [0.023, 1.157].</mark>"
   ]
  }
 ],
 "metadata": {
  "kernelspec": {
   "display_name": "Python 3 (ipykernel)",
   "language": "python",
   "name": "python3"
  },
  "language_info": {
   "codemirror_mode": {
    "name": "ipython",
    "version": 3
   },
   "file_extension": ".py",
   "mimetype": "text/x-python",
   "name": "python",
   "nbconvert_exporter": "python",
   "pygments_lexer": "ipython3",
   "version": "3.11.8"
  }
 },
 "nbformat": 4,
 "nbformat_minor": 4
}
